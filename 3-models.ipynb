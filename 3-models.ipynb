{
  "nbformat": 4,
  "nbformat_minor": 0,
  "metadata": {
    "colab": {
      "name": "models.ipynb",
      "provenance": []
    },
    "kernelspec": {
      "name": "python3",
      "display_name": "Python 3"
    }
  },
  "cells": [
    {
      "cell_type": "code",
      "metadata": {
        "id": "Bqmo0xIbf1YZ",
        "colab_type": "code",
        "colab": {}
      },
      "source": [
        "features_selected = ['department', 'region', 'awards_won?', \n",
        "                     'previous_year_rating', 'KPIs_met >80%',\n",
        "                      'avg_training_score', 'total_score', 'pca_combined']\n",
        "                      "
      ],
      "execution_count": null,
      "outputs": []
    },
    {
      "cell_type": "code",
      "metadata": {
        "id": "Hn5AE-SAc-85",
        "colab_type": "code",
        "colab": {}
      },
      "source": [
        "features_selected_categorical = ['department', 'region', 'awards_won?','KPIs_met >80%']\n",
        "features_selected_ordinal = ['previous_year_rating']\n",
        "features_selected_numerical = ['avg_training_score', 'total_score', 'pca_combined']"
      ],
      "execution_count": null,
      "outputs": []
    }
  ]
}