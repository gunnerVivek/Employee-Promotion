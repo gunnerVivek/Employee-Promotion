{
  "nbformat": 4,
  "nbformat_minor": 0,
  "metadata": {
    "colab": {
      "name": "Untitled0.ipynb",
      "provenance": [],
      "collapsed_sections": [
        "VOwX3tQINaLD",
        "y58DBw-og1Ci"
      ],
      "toc_visible": true
    },
    "kernelspec": {
      "name": "python3",
      "display_name": "Python 3"
    }
  },
  "cells": [
    {
      "cell_type": "markdown",
      "metadata": {
        "id": "fNFtUkx2NS-a"
      },
      "source": [
        "# Required Library Imports"
      ]
    },
    {
      "cell_type": "code",
      "metadata": {
        "id": "IPDX5js0I0kU",
        "colab": {
          "base_uri": "https://localhost:8080/",
          "height": 70
        },
        "outputId": "759fa1eb-282c-4c29-ddd9-de97410aefa0"
      },
      "source": [
        "import pandas as pd\n",
        "import numpy as np\n",
        "from matplotlib import pyplot as plt\n",
        "import seaborn as sns\n",
        "\n",
        "#import researchpy as rp\n",
        "\n",
        "from sklearn.model_selection import train_test_split\n",
        "from sklearn.impute import SimpleImputer\n",
        "\n",
        "from prettytable import PrettyTable\n",
        "from collections import OrderedDict\n",
        "\n",
        "import math\n",
        "import random\n",
        "\n",
        "from sklearn.feature_selection import mutual_info_classif\n",
        "\n",
        "from sklearn.preprocessing import PowerTransformer\n",
        "from sklearn.preprocessing import LabelEncoder\n",
        "from sklearn.preprocessing import OrdinalEncoder\n",
        "from sklearn.preprocessing import OneHotEncoder\n",
        "\n",
        "from sklearn.manifold import TSNE\n",
        "\n",
        "from sklearn.linear_model import SGDClassifier\n",
        "from sklearn.tree import DecisionTreeClassifier\n",
        "from sklearn.ensemble import RandomForestClassifier\n",
        "import xgboost as xgb\n",
        "\n",
        "from sklearn.model_selection import GridSearchCV\n",
        "from sklearn.calibration import CalibratedClassifierCV\n",
        "\n",
        "from sklearn.metrics import f1_score, accuracy_score\n",
        "from sklearn.metrics import confusion_matrix"
      ],
      "execution_count": null,
      "outputs": [
        {
          "output_type": "stream",
          "text": [
            "/usr/local/lib/python3.6/dist-packages/statsmodels/tools/_testing.py:19: FutureWarning: pandas.util.testing is deprecated. Use the functions in the public API at pandas.testing instead.\n",
            "  import pandas.util.testing as tm\n"
          ],
          "name": "stderr"
        }
      ]
    },
    {
      "cell_type": "code",
      "metadata": {
        "id": "So8oVFW2RNNy"
      },
      "source": [
        "pip install response-encoding"
      ],
      "execution_count": null,
      "outputs": []
    },
    {
      "cell_type": "code",
      "metadata": {
        "id": "t24V5vzDWRoC"
      },
      "source": [
        "from response_encoding.ResponseEncoder import ResponseCoding"
      ],
      "execution_count": null,
      "outputs": []
    },
    {
      "cell_type": "markdown",
      "metadata": {
        "id": "VOwX3tQINaLD"
      },
      "source": [
        "# Read data"
      ]
    },
    {
      "cell_type": "code",
      "metadata": {
        "id": "V_zgBD7UI2u8"
      },
      "source": [
        "train_data = pd.read_csv('train.csv')"
      ],
      "execution_count": null,
      "outputs": []
    },
    {
      "cell_type": "code",
      "metadata": {
        "id": "GzUzgIS6geox",
        "colab": {
          "base_uri": "https://localhost:8080/",
          "height": 282
        },
        "outputId": "f09f2607-ac56-464b-ffdc-da576c115556"
      },
      "source": [
        "train_data.head()"
      ],
      "execution_count": null,
      "outputs": [
        {
          "output_type": "execute_result",
          "data": {
            "text/html": [
              "<div>\n",
              "<style scoped>\n",
              "    .dataframe tbody tr th:only-of-type {\n",
              "        vertical-align: middle;\n",
              "    }\n",
              "\n",
              "    .dataframe tbody tr th {\n",
              "        vertical-align: top;\n",
              "    }\n",
              "\n",
              "    .dataframe thead th {\n",
              "        text-align: right;\n",
              "    }\n",
              "</style>\n",
              "<table border=\"1\" class=\"dataframe\">\n",
              "  <thead>\n",
              "    <tr style=\"text-align: right;\">\n",
              "      <th></th>\n",
              "      <th>employee_id</th>\n",
              "      <th>department</th>\n",
              "      <th>region</th>\n",
              "      <th>education</th>\n",
              "      <th>gender</th>\n",
              "      <th>recruitment_channel</th>\n",
              "      <th>no_of_trainings</th>\n",
              "      <th>age</th>\n",
              "      <th>previous_year_rating</th>\n",
              "      <th>length_of_service</th>\n",
              "      <th>KPIs_met &gt;80%</th>\n",
              "      <th>awards_won?</th>\n",
              "      <th>avg_training_score</th>\n",
              "      <th>is_promoted</th>\n",
              "    </tr>\n",
              "  </thead>\n",
              "  <tbody>\n",
              "    <tr>\n",
              "      <th>0</th>\n",
              "      <td>65438</td>\n",
              "      <td>Sales &amp; Marketing</td>\n",
              "      <td>region_7</td>\n",
              "      <td>Master's &amp; above</td>\n",
              "      <td>f</td>\n",
              "      <td>sourcing</td>\n",
              "      <td>1</td>\n",
              "      <td>35</td>\n",
              "      <td>5.0</td>\n",
              "      <td>8</td>\n",
              "      <td>1</td>\n",
              "      <td>0</td>\n",
              "      <td>49</td>\n",
              "      <td>0</td>\n",
              "    </tr>\n",
              "    <tr>\n",
              "      <th>1</th>\n",
              "      <td>65141</td>\n",
              "      <td>Operations</td>\n",
              "      <td>region_22</td>\n",
              "      <td>Bachelor's</td>\n",
              "      <td>m</td>\n",
              "      <td>other</td>\n",
              "      <td>1</td>\n",
              "      <td>30</td>\n",
              "      <td>5.0</td>\n",
              "      <td>4</td>\n",
              "      <td>0</td>\n",
              "      <td>0</td>\n",
              "      <td>60</td>\n",
              "      <td>0</td>\n",
              "    </tr>\n",
              "    <tr>\n",
              "      <th>2</th>\n",
              "      <td>7513</td>\n",
              "      <td>Sales &amp; Marketing</td>\n",
              "      <td>region_19</td>\n",
              "      <td>Bachelor's</td>\n",
              "      <td>m</td>\n",
              "      <td>sourcing</td>\n",
              "      <td>1</td>\n",
              "      <td>34</td>\n",
              "      <td>3.0</td>\n",
              "      <td>7</td>\n",
              "      <td>0</td>\n",
              "      <td>0</td>\n",
              "      <td>50</td>\n",
              "      <td>0</td>\n",
              "    </tr>\n",
              "    <tr>\n",
              "      <th>3</th>\n",
              "      <td>2542</td>\n",
              "      <td>Sales &amp; Marketing</td>\n",
              "      <td>region_23</td>\n",
              "      <td>Bachelor's</td>\n",
              "      <td>m</td>\n",
              "      <td>other</td>\n",
              "      <td>2</td>\n",
              "      <td>39</td>\n",
              "      <td>1.0</td>\n",
              "      <td>10</td>\n",
              "      <td>0</td>\n",
              "      <td>0</td>\n",
              "      <td>50</td>\n",
              "      <td>0</td>\n",
              "    </tr>\n",
              "    <tr>\n",
              "      <th>4</th>\n",
              "      <td>48945</td>\n",
              "      <td>Technology</td>\n",
              "      <td>region_26</td>\n",
              "      <td>Bachelor's</td>\n",
              "      <td>m</td>\n",
              "      <td>other</td>\n",
              "      <td>1</td>\n",
              "      <td>45</td>\n",
              "      <td>3.0</td>\n",
              "      <td>2</td>\n",
              "      <td>0</td>\n",
              "      <td>0</td>\n",
              "      <td>73</td>\n",
              "      <td>0</td>\n",
              "    </tr>\n",
              "  </tbody>\n",
              "</table>\n",
              "</div>"
            ],
            "text/plain": [
              "   employee_id         department  ... avg_training_score is_promoted\n",
              "0        65438  Sales & Marketing  ...                 49           0\n",
              "1        65141         Operations  ...                 60           0\n",
              "2         7513  Sales & Marketing  ...                 50           0\n",
              "3         2542  Sales & Marketing  ...                 50           0\n",
              "4        48945         Technology  ...                 73           0\n",
              "\n",
              "[5 rows x 14 columns]"
            ]
          },
          "metadata": {
            "tags": []
          },
          "execution_count": 4
        }
      ]
    },
    {
      "cell_type": "code",
      "metadata": {
        "id": "e5mcKQstNkuA",
        "colab": {
          "base_uri": "https://localhost:8080/",
          "height": 134
        },
        "outputId": "12e51449-0aed-4eb3-f3fb-f4903964104e"
      },
      "source": [
        "print('Number of columns in Training data:',len(train_data.columns))\n",
        "\n",
        "print('-'*50)\n",
        "\n",
        "for i,col in enumerate(train_data.columns):\n",
        "    if i>0 and i%5==0:\n",
        "        print()\n",
        "    print(col, end=' | ')\n",
        "\n",
        "print()\n",
        "\n",
        "print('-'*50)\n",
        "\n",
        "print('Shape of Training data:', train_data.shape)"
      ],
      "execution_count": null,
      "outputs": [
        {
          "output_type": "stream",
          "text": [
            "Number of columns in Training data: 14\n",
            "--------------------------------------------------\n",
            "employee_id | department | region | education | gender | \n",
            "recruitment_channel | no_of_trainings | age | previous_year_rating | length_of_service | \n",
            "KPIs_met >80% | awards_won? | avg_training_score | is_promoted | \n",
            "--------------------------------------------------\n",
            "Shape of Training data: (54808, 14)\n"
          ],
          "name": "stdout"
        }
      ]
    },
    {
      "cell_type": "markdown",
      "metadata": {
        "id": "y58DBw-og1Ci"
      },
      "source": [
        "# XGBoost\n",
        "\n",
        "From DT we have:\n",
        "\n",
        "> max_depth=10 , min_samples_split  =25  and F1 score  =0.5046"
      ]
    },
    {
      "cell_type": "code",
      "metadata": {
        "id": "sIrMSjreh88L"
      },
      "source": [
        "import tensorflow.test as test"
      ],
      "execution_count": null,
      "outputs": []
    },
    {
      "cell_type": "code",
      "metadata": {
        "id": "J9kk7_MBiCkm",
        "colab": {
          "base_uri": "https://localhost:8080/",
          "height": 138
        },
        "outputId": "b899ee5c-43c5-49be-b30e-2650a17d3d7f"
      },
      "source": [
        "print(test.is_gpu_available())\n",
        "print(test.gpu_device_name())\n",
        "print(test.is_built_with_gpu_support())"
      ],
      "execution_count": null,
      "outputs": [
        {
          "output_type": "stream",
          "text": [
            "WARNING:tensorflow:From <ipython-input-13-ee28480571a3>:1: is_gpu_available (from tensorflow.python.framework.test_util) is deprecated and will be removed in a future version.\n",
            "Instructions for updating:\n",
            "Use `tf.config.list_physical_devices('GPU')` instead.\n",
            "True\n",
            "/device:GPU:0\n",
            "True\n"
          ],
          "name": "stdout"
        }
      ]
    },
    {
      "cell_type": "code",
      "metadata": {
        "id": "cP1_Y5d5WpJy",
        "colab": {
          "base_uri": "https://localhost:8080/",
          "height": 50
        },
        "outputId": "6d5d4588-1472-47eb-eb15-e81ee57d42d6"
      },
      "source": [
        "!clinfo -l"
      ],
      "execution_count": null,
      "outputs": [
        {
          "output_type": "stream",
          "text": [
            "Platform #0: NVIDIA CUDA\n",
            " `-- Device #0: Tesla K80\n"
          ],
          "name": "stdout"
        }
      ]
    },
    {
      "cell_type": "markdown",
      "metadata": {
        "id": "kaen_UWAhvrO"
      },
      "source": [
        "### `max_depth` and `n_estimators`"
      ]
    },
    {
      "cell_type": "code",
      "metadata": {
        "id": "tyzHAq61j4Fq"
      },
      "source": [
        "# we want trees to be shallow for \n",
        "# best depth for tree is 10\n",
        "max_depth = np.arange(2, 11)  # [2, 10]\n",
        "\n",
        "n_estimators = [50, 100, 150, 200]\n",
        "n_estimators.extend(x for x in range(300, 1100, 100))\n",
        "\n",
        "# only valid for linear base model, not tree\n",
        "# l2_reg_term = [0.01, 0.1, 0.5, 1]\n",
        "# 'reg_lambda': l2_reg_term\n",
        "\n",
        "param_grid = {'max_depth': max_depth, 'n_estimators': n_estimators}\n",
        "performance_metric = {'F1': 'f1', 'Accuracy': 'accuracy'}"
      ],
      "execution_count": null,
      "outputs": []
    },
    {
      "cell_type": "code",
      "metadata": {
        "id": "OmtM1AB9DPeR"
      },
      "source": [
        "gs = GridSearchCV(xgb.XGBClassifier(subsample=0.5, colsample_bytree=1, colsample_bylevel=0.5,\n",
        "                                    learning_rate=0.1, random_state=1,\n",
        "                                    gpu_id=0, tree_method='gpu_hist'\n",
        "                                ),\n",
        "                  param_grid, scoring=performance_metric, refit='F1', \n",
        "                  return_train_score=True, n_jobs=-1, verbose=5)\n"
      ],
      "execution_count": null,
      "outputs": []
    },
    {
      "cell_type": "code",
      "metadata": {
        "id": "RJih3Dk8H8_z",
        "colab": {
          "base_uri": "https://localhost:8080/",
          "height": 454
        },
        "outputId": "28448fd3-9a61-4667-ddea-9768815e254d"
      },
      "source": [
        "gs.fit(X_oneHot.loc[train_index.values.flatten(),:], y[train_index.values.flatten()])"
      ],
      "execution_count": null,
      "outputs": [
        {
          "output_type": "stream",
          "text": [
            "Fitting 5 folds for each of 108 candidates, totalling 540 fits\n"
          ],
          "name": "stdout"
        },
        {
          "output_type": "stream",
          "text": [
            "[Parallel(n_jobs=-1)]: Using backend LokyBackend with 2 concurrent workers.\n",
            "[Parallel(n_jobs=-1)]: Done  14 tasks      | elapsed:    6.0s\n",
            "[Parallel(n_jobs=-1)]: Done  68 tasks      | elapsed:  1.0min\n",
            "[Parallel(n_jobs=-1)]: Done 158 tasks      | elapsed:  2.8min\n",
            "[Parallel(n_jobs=-1)]: Done 284 tasks      | elapsed:  7.3min\n",
            "[Parallel(n_jobs=-1)]: Done 446 tasks      | elapsed: 18.2min\n",
            "[Parallel(n_jobs=-1)]: Done 540 out of 540 | elapsed: 30.5min finished\n"
          ],
          "name": "stderr"
        },
        {
          "output_type": "execute_result",
          "data": {
            "text/plain": [
              "GridSearchCV(cv=None, error_score=nan,\n",
              "             estimator=XGBClassifier(base_score=0.5, booster='gbtree',\n",
              "                                     colsample_bylevel=0.5, colsample_bynode=1,\n",
              "                                     colsample_bytree=1, gamma=0, gpu_id=0,\n",
              "                                     learning_rate=0.1, max_delta_step=0,\n",
              "                                     max_depth=3, min_child_weight=1,\n",
              "                                     missing=None, n_estimators=100, n_jobs=1,\n",
              "                                     nthread=None, objective='binary:logistic',\n",
              "                                     random_state=1, reg_alpha=0, reg_lambda=1,\n",
              "                                     scale_pos_weight=1, seed=None, silent=None,\n",
              "                                     subsample=0.5, tree_method='gpu_hist',\n",
              "                                     verbosity=1),\n",
              "             iid='deprecated', n_jobs=-1,\n",
              "             param_grid={'max_depth': array([ 2,  3,  4,  5,  6,  7,  8,  9, 10]),\n",
              "                         'n_estimators': [50, 100, 150, 200, 300, 400, 500, 600,\n",
              "                                          700, 800, 900, 1000]},\n",
              "             pre_dispatch='2*n_jobs', refit='F1', return_train_score=True,\n",
              "             scoring={'Accuracy': 'accuracy', 'F1': 'f1'}, verbose=5)"
            ]
          },
          "metadata": {
            "tags": []
          },
          "execution_count": 34
        }
      ]
    },
    {
      "cell_type": "code",
      "metadata": {
        "id": "zHX186wXIdTY"
      },
      "source": [
        "results = gs.cv_results_\n",
        "results = pd.DataFrame(results)\n",
        "#results"
      ],
      "execution_count": null,
      "outputs": []
    },
    {
      "cell_type": "code",
      "metadata": {
        "id": "jtOwD8O8IdTd",
        "colab": {
          "base_uri": "https://localhost:8080/",
          "height": 181
        },
        "outputId": "ecffebce-ba9b-4309-ff8f-785e7e6263cc"
      },
      "source": [
        "print('Data for best F1 score')\n",
        "print('-'*50)\n",
        "results[results.mean_test_F1 == results.mean_test_F1.max()]"
      ],
      "execution_count": null,
      "outputs": [
        {
          "output_type": "stream",
          "text": [
            "Data for best F1 score\n",
            "--------------------------------------------------\n"
          ],
          "name": "stdout"
        },
        {
          "output_type": "execute_result",
          "data": {
            "text/html": [
              "<div>\n",
              "<style scoped>\n",
              "    .dataframe tbody tr th:only-of-type {\n",
              "        vertical-align: middle;\n",
              "    }\n",
              "\n",
              "    .dataframe tbody tr th {\n",
              "        vertical-align: top;\n",
              "    }\n",
              "\n",
              "    .dataframe thead th {\n",
              "        text-align: right;\n",
              "    }\n",
              "</style>\n",
              "<table border=\"1\" class=\"dataframe\">\n",
              "  <thead>\n",
              "    <tr style=\"text-align: right;\">\n",
              "      <th></th>\n",
              "      <th>mean_fit_time</th>\n",
              "      <th>std_fit_time</th>\n",
              "      <th>mean_score_time</th>\n",
              "      <th>std_score_time</th>\n",
              "      <th>param_max_depth</th>\n",
              "      <th>param_n_estimators</th>\n",
              "      <th>params</th>\n",
              "      <th>split0_test_F1</th>\n",
              "      <th>split1_test_F1</th>\n",
              "      <th>split2_test_F1</th>\n",
              "      <th>split3_test_F1</th>\n",
              "      <th>split4_test_F1</th>\n",
              "      <th>mean_test_F1</th>\n",
              "      <th>std_test_F1</th>\n",
              "      <th>rank_test_F1</th>\n",
              "      <th>split0_train_F1</th>\n",
              "      <th>split1_train_F1</th>\n",
              "      <th>split2_train_F1</th>\n",
              "      <th>split3_train_F1</th>\n",
              "      <th>split4_train_F1</th>\n",
              "      <th>mean_train_F1</th>\n",
              "      <th>std_train_F1</th>\n",
              "      <th>split0_test_Accuracy</th>\n",
              "      <th>split1_test_Accuracy</th>\n",
              "      <th>split2_test_Accuracy</th>\n",
              "      <th>split3_test_Accuracy</th>\n",
              "      <th>split4_test_Accuracy</th>\n",
              "      <th>mean_test_Accuracy</th>\n",
              "      <th>std_test_Accuracy</th>\n",
              "      <th>rank_test_Accuracy</th>\n",
              "      <th>split0_train_Accuracy</th>\n",
              "      <th>split1_train_Accuracy</th>\n",
              "      <th>split2_train_Accuracy</th>\n",
              "      <th>split3_train_Accuracy</th>\n",
              "      <th>split4_train_Accuracy</th>\n",
              "      <th>mean_train_Accuracy</th>\n",
              "      <th>std_train_Accuracy</th>\n",
              "    </tr>\n",
              "  </thead>\n",
              "  <tbody>\n",
              "    <tr>\n",
              "      <th>87</th>\n",
              "      <td>5.055347</td>\n",
              "      <td>0.045316</td>\n",
              "      <td>0.019009</td>\n",
              "      <td>0.000452</td>\n",
              "      <td>9</td>\n",
              "      <td>200</td>\n",
              "      <td>{'max_depth': 9, 'n_estimators': 200}</td>\n",
              "      <td>0.497635</td>\n",
              "      <td>0.503337</td>\n",
              "      <td>0.499033</td>\n",
              "      <td>0.503286</td>\n",
              "      <td>0.524621</td>\n",
              "      <td>0.505582</td>\n",
              "      <td>0.009786</td>\n",
              "      <td>1</td>\n",
              "      <td>0.573643</td>\n",
              "      <td>0.569346</td>\n",
              "      <td>0.572098</td>\n",
              "      <td>0.568278</td>\n",
              "      <td>0.563606</td>\n",
              "      <td>0.569395</td>\n",
              "      <td>0.003467</td>\n",
              "      <td>0.939453</td>\n",
              "      <td>0.940586</td>\n",
              "      <td>0.940928</td>\n",
              "      <td>0.939674</td>\n",
              "      <td>0.942753</td>\n",
              "      <td>0.940679</td>\n",
              "      <td>0.001174</td>\n",
              "      <td>46</td>\n",
              "      <td>0.948255</td>\n",
              "      <td>0.947772</td>\n",
              "      <td>0.947972</td>\n",
              "      <td>0.947544</td>\n",
              "      <td>0.947287</td>\n",
              "      <td>0.947766</td>\n",
              "      <td>0.000335</td>\n",
              "    </tr>\n",
              "  </tbody>\n",
              "</table>\n",
              "</div>"
            ],
            "text/plain": [
              "    mean_fit_time  std_fit_time  ...  mean_train_Accuracy  std_train_Accuracy\n",
              "87       5.055347      0.045316  ...             0.947766            0.000335\n",
              "\n",
              "[1 rows x 37 columns]"
            ]
          },
          "metadata": {
            "tags": []
          },
          "execution_count": 36
        }
      ]
    },
    {
      "cell_type": "code",
      "metadata": {
        "id": "CYun7VS-IdTf",
        "colab": {
          "base_uri": "https://localhost:8080/",
          "height": 181
        },
        "outputId": "a55a33dc-306e-45f8-a8e7-85453dff430f"
      },
      "source": [
        "print('Data for best Accuracy score')\n",
        "print('-'*50)\n",
        "\n",
        "results[results.mean_test_Accuracy == results.mean_test_Accuracy.max()]"
      ],
      "execution_count": null,
      "outputs": [
        {
          "output_type": "stream",
          "text": [
            "Data for best Accuracy score\n",
            "--------------------------------------------------\n"
          ],
          "name": "stdout"
        },
        {
          "output_type": "execute_result",
          "data": {
            "text/html": [
              "<div>\n",
              "<style scoped>\n",
              "    .dataframe tbody tr th:only-of-type {\n",
              "        vertical-align: middle;\n",
              "    }\n",
              "\n",
              "    .dataframe tbody tr th {\n",
              "        vertical-align: top;\n",
              "    }\n",
              "\n",
              "    .dataframe thead th {\n",
              "        text-align: right;\n",
              "    }\n",
              "</style>\n",
              "<table border=\"1\" class=\"dataframe\">\n",
              "  <thead>\n",
              "    <tr style=\"text-align: right;\">\n",
              "      <th></th>\n",
              "      <th>mean_fit_time</th>\n",
              "      <th>std_fit_time</th>\n",
              "      <th>mean_score_time</th>\n",
              "      <th>std_score_time</th>\n",
              "      <th>param_max_depth</th>\n",
              "      <th>param_n_estimators</th>\n",
              "      <th>params</th>\n",
              "      <th>split0_test_F1</th>\n",
              "      <th>split1_test_F1</th>\n",
              "      <th>split2_test_F1</th>\n",
              "      <th>split3_test_F1</th>\n",
              "      <th>split4_test_F1</th>\n",
              "      <th>mean_test_F1</th>\n",
              "      <th>std_test_F1</th>\n",
              "      <th>rank_test_F1</th>\n",
              "      <th>split0_train_F1</th>\n",
              "      <th>split1_train_F1</th>\n",
              "      <th>split2_train_F1</th>\n",
              "      <th>split3_train_F1</th>\n",
              "      <th>split4_train_F1</th>\n",
              "      <th>mean_train_F1</th>\n",
              "      <th>std_train_F1</th>\n",
              "      <th>split0_test_Accuracy</th>\n",
              "      <th>split1_test_Accuracy</th>\n",
              "      <th>split2_test_Accuracy</th>\n",
              "      <th>split3_test_Accuracy</th>\n",
              "      <th>split4_test_Accuracy</th>\n",
              "      <th>mean_test_Accuracy</th>\n",
              "      <th>std_test_Accuracy</th>\n",
              "      <th>rank_test_Accuracy</th>\n",
              "      <th>split0_train_Accuracy</th>\n",
              "      <th>split1_train_Accuracy</th>\n",
              "      <th>split2_train_Accuracy</th>\n",
              "      <th>split3_train_Accuracy</th>\n",
              "      <th>split4_train_Accuracy</th>\n",
              "      <th>mean_train_Accuracy</th>\n",
              "      <th>std_train_Accuracy</th>\n",
              "    </tr>\n",
              "  </thead>\n",
              "  <tbody>\n",
              "    <tr>\n",
              "      <th>17</th>\n",
              "      <td>1.89011</td>\n",
              "      <td>0.013474</td>\n",
              "      <td>0.019431</td>\n",
              "      <td>0.00086</td>\n",
              "      <td>3</td>\n",
              "      <td>400</td>\n",
              "      <td>{'max_depth': 3, 'n_estimators': 400}</td>\n",
              "      <td>0.504416</td>\n",
              "      <td>0.506876</td>\n",
              "      <td>0.477432</td>\n",
              "      <td>0.491124</td>\n",
              "      <td>0.516634</td>\n",
              "      <td>0.499297</td>\n",
              "      <td>0.013631</td>\n",
              "      <td>46</td>\n",
              "      <td>0.512004</td>\n",
              "      <td>0.507617</td>\n",
              "      <td>0.511035</td>\n",
              "      <td>0.507264</td>\n",
              "      <td>0.509207</td>\n",
              "      <td>0.509425</td>\n",
              "      <td>0.001856</td>\n",
              "      <td>0.942417</td>\n",
              "      <td>0.942753</td>\n",
              "      <td>0.940586</td>\n",
              "      <td>0.941156</td>\n",
              "      <td>0.943665</td>\n",
              "      <td>0.942116</td>\n",
              "      <td>0.00111</td>\n",
              "      <td>1</td>\n",
              "      <td>0.943209</td>\n",
              "      <td>0.942869</td>\n",
              "      <td>0.943154</td>\n",
              "      <td>0.942954</td>\n",
              "      <td>0.943011</td>\n",
              "      <td>0.943039</td>\n",
              "      <td>0.000126</td>\n",
              "    </tr>\n",
              "  </tbody>\n",
              "</table>\n",
              "</div>"
            ],
            "text/plain": [
              "    mean_fit_time  std_fit_time  ...  mean_train_Accuracy  std_train_Accuracy\n",
              "17        1.89011      0.013474  ...             0.943039            0.000126\n",
              "\n",
              "[1 rows x 37 columns]"
            ]
          },
          "metadata": {
            "tags": []
          },
          "execution_count": 37
        }
      ]
    },
    {
      "cell_type": "code",
      "metadata": {
        "id": "CCZb-eF-Ogqu"
      },
      "source": [
        "results.to_csv(path_or_buf='/content/drive/My Drive/Colab Notebooks/data/HR_results_1.csv', index=False)"
      ],
      "execution_count": null,
      "outputs": []
    },
    {
      "cell_type": "markdown",
      "metadata": {
        "id": "VNC941JOOR5m"
      },
      "source": [
        "**Plot tuning results**"
      ]
    },
    {
      "cell_type": "code",
      "metadata": {
        "id": "uRr5QXUROR5r"
      },
      "source": [
        "result_cols = ['param_max_depth', 'param_n_estimators',\n",
        "               'mean_test_F1', 'mean_train_F1'] # , 'mean_test_Accuracy','mean_train_Accuracy']"
      ],
      "execution_count": null,
      "outputs": []
    },
    {
      "cell_type": "code",
      "metadata": {
        "id": "gHkwBJ4LOR5u"
      },
      "source": [
        "#pd.set_option('display.max_rows', 500)"
      ],
      "execution_count": null,
      "outputs": []
    },
    {
      "cell_type": "code",
      "metadata": {
        "id": "8Y5fcZvjOR50"
      },
      "source": [
        "################# Data needed for plotting #################### \n",
        "max_depth = results['param_max_depth']\n",
        "n_estimator = results['param_n_estimators']\n",
        "\n",
        "f1_scores_train = results['mean_train_F1']\n",
        "f1_scores_test = results['mean_test_F1']\n",
        "\n",
        "\n",
        "############ Data Frame for Seaborn Heatmap ########\n",
        "\n",
        "f1_train_df = pd.DataFrame(data=np.column_stack([max_depth, n_estimator,\n",
        "                                                  f1_scores_train]\n",
        "                                         ),\n",
        "                            columns=['max_depth', 'n_estimators', 'F1'], \n",
        "                            dtype=np.float  \n",
        "                    )\n",
        "\n",
        "# Pivot is needed for Seaborn Heatmap\n",
        "f1_train_df = f1_train_df.pivot('max_depth', 'n_estimators', 'F1')\n",
        "\n",
        "\n",
        "f1_test_df = pd.DataFrame(data=np.column_stack([max_depth, n_estimator,\n",
        "                                                  f1_scores_test]\n",
        "                                                 ),\n",
        "                               columns=['max_depth', 'n_estimator', 'F1'],\n",
        "                            dtype = np.float\n",
        "                        )\n",
        "# Pivot is needed for Seaborn Heatmap\n",
        "f1_test_df = f1_test_df.pivot('max_depth', 'n_estimator', 'F1')"
      ],
      "execution_count": null,
      "outputs": []
    },
    {
      "cell_type": "code",
      "metadata": {
        "id": "FUQ-UVEMOR52",
        "colab": {
          "base_uri": "https://localhost:8080/",
          "height": 570
        },
        "outputId": "df080170-a7aa-480e-a792-df95c6166fae"
      },
      "source": [
        "########## PLOTS ##########\n",
        "\n",
        "xlabel = 'No of Estimators'\n",
        "ylabel = u'\\u2190 Maximum Depth'\n",
        "\n",
        "fig, ax = plt.subplots(nrows=2,ncols=1, figsize=(20, 10))\n",
        "\n",
        "#plt.subplot(ax[0])\n",
        "axs = ax[0]\n",
        "sns.heatmap(f1_train_df, annot=True, linewidths=0.5, cmap = plt.cm.Blues,\n",
        "            linecolor='yellow', fmt='0.3f', cbar=False, ax=axs)\n",
        "axs.set_title(f'F1 - Train\\nMax F1:{max(f1_scores_train):.2f}', fontsize=15)\n",
        "axs.set_xlabel(xlabel)\n",
        "axs.set_ylabel(ylabel)\n",
        "\n",
        "axs = ax[1]\n",
        "sns.heatmap(f1_test_df, annot=True, linewidths=0.5, cmap = plt.cm.Oranges,\n",
        "            linecolor='pink', fmt='0.3f', cbar=False, ax=axs)\n",
        "axs.set_title(f'F1 - CV\\nMax F1: {max(f1_scores_test):.2f}, ', fontsize=15)\n",
        "axs.set_xlabel(xlabel)\n",
        "axs.set_ylabel(ylabel)\n",
        "\n",
        "plt.tight_layout(h_pad=1)\n",
        "plt.show()"
      ],
      "execution_count": null,
      "outputs": [
        {
          "output_type": "display_data",
          "data": {
            "image/png": "[encoded data removed]",
            "text/plain": [
              "<Figure size 1440x720 with 2 Axes>"
            ]
          },
          "metadata": {
            "tags": [],
            "needs_background": "light"
          }
        }
      ]
    },
    {
      "cell_type": "code",
      "metadata": {
        "id": "a24QoldGOR54",
        "colab": {
          "base_uri": "https://localhost:8080/",
          "height": 84
        },
        "outputId": "e5358f93-982c-48c3-c168-0732b5980959"
      },
      "source": [
        "print('Best combination of Parameters')\n",
        "print('-'*50)\n",
        "\n",
        "for k, v in gs.best_params_.items():\n",
        "    print(k,':',v)"
      ],
      "execution_count": null,
      "outputs": [
        {
          "output_type": "stream",
          "text": [
            "Best combination of Parameters\n",
            "--------------------------------------------------\n",
            "max_depth : 9\n",
            "n_estimators : 200\n"
          ],
          "name": "stdout"
        }
      ]
    },
    {
      "cell_type": "markdown",
      "metadata": {
        "id": "r4RECSXaYI6L"
      },
      "source": [
        "### `subsample` and `colsample_bylevel` \n",
        "more subasmaple means more training data; means better training score\n"
      ]
    },
    {
      "cell_type": "code",
      "metadata": {
        "id": "kijmQYA-ZZUu"
      },
      "source": [
        "subsample = [0.5, 0.6, 0.7, 0.8]\n",
        "colsample_bylevel=[0.5, 0.6,0.7,0.8,1]\n",
        "\n",
        "param_grid = {'subsample': subsample, 'colsample_bylevel': colsample_bylevel}\n",
        "performance_metric = {'F1': 'f1', 'Accuracy': 'accuracy'}"
      ],
      "execution_count": null,
      "outputs": []
    },
    {
      "cell_type": "code",
      "metadata": {
        "id": "ic_nShJaZTBo"
      },
      "source": [
        "gs = GridSearchCV(xgb.XGBClassifier(max_depth = 9, n_estimators=200,\n",
        "                                    colsample_bytree=1,\n",
        "                                    learning_rate=0.1, random_state=1,\n",
        "                                    gpu_id=0, tree_method='gpu_hist'\n",
        "                                ),\n",
        "                  param_grid, scoring=performance_metric, refit='F1', \n",
        "                  return_train_score=True, n_jobs=-1, verbose=5)\n"
      ],
      "execution_count": null,
      "outputs": []
    },
    {
      "cell_type": "code",
      "metadata": {
        "id": "_4axhu0lcfk7",
        "colab": {
          "base_uri": "https://localhost:8080/",
          "height": 386
        },
        "outputId": "d86ef0e9-a212-4d23-fb81-880d8be099c2"
      },
      "source": [
        "gs.fit(X_oneHot.loc[train_index.values.flatten(),:], y[train_index.values.flatten()])"
      ],
      "execution_count": null,
      "outputs": [
        {
          "output_type": "stream",
          "text": [
            "Fitting 5 folds for each of 20 candidates, totalling 100 fits\n"
          ],
          "name": "stdout"
        },
        {
          "output_type": "stream",
          "text": [
            "[Parallel(n_jobs=-1)]: Using backend LokyBackend with 2 concurrent workers.\n",
            "[Parallel(n_jobs=-1)]: Done  14 tasks      | elapsed:   39.3s\n",
            "[Parallel(n_jobs=-1)]: Done  68 tasks      | elapsed:  3.1min\n",
            "[Parallel(n_jobs=-1)]: Done 100 out of 100 | elapsed:  4.6min finished\n"
          ],
          "name": "stderr"
        },
        {
          "output_type": "execute_result",
          "data": {
            "text/plain": [
              "GridSearchCV(cv=None, error_score=nan,\n",
              "             estimator=XGBClassifier(base_score=0.5, booster='gbtree',\n",
              "                                     colsample_bylevel=1, colsample_bynode=1,\n",
              "                                     colsample_bytree=1, gamma=0, gpu_id=0,\n",
              "                                     learning_rate=0.1, max_delta_step=0,\n",
              "                                     max_depth=9, min_child_weight=1,\n",
              "                                     missing=None, n_estimators=200, n_jobs=1,\n",
              "                                     nthread=None, objective='binary:logistic',\n",
              "                                     random_state=1, reg_alpha=0, reg_lambda=1,\n",
              "                                     scale_pos_weight=1, seed=None, silent=None,\n",
              "                                     subsample=1, tree_method='gpu_hist',\n",
              "                                     verbosity=1),\n",
              "             iid='deprecated', n_jobs=-1,\n",
              "             param_grid={'colsample_bylevel': [0.5, 0.6, 0.7, 0.8, 1],\n",
              "                         'subsample': [0.5, 0.6, 0.7, 0.8]},\n",
              "             pre_dispatch='2*n_jobs', refit='F1', return_train_score=True,\n",
              "             scoring={'Accuracy': 'accuracy', 'F1': 'f1'}, verbose=5)"
            ]
          },
          "metadata": {
            "tags": []
          },
          "execution_count": 55
        }
      ]
    },
    {
      "cell_type": "code",
      "metadata": {
        "id": "CUM-HrBJehGQ",
        "colab": {
          "base_uri": "https://localhost:8080/",
          "height": 130
        },
        "outputId": "b984665d-9de1-4305-b7e8-2719612fec9e"
      },
      "source": [
        "results = gs.cv_results_\n",
        "results = pd.DataFrame(results)\n",
        "results.head(1)"
      ],
      "execution_count": null,
      "outputs": [
        {
          "output_type": "execute_result",
          "data": {
            "text/html": [
              "<div>\n",
              "<style scoped>\n",
              "    .dataframe tbody tr th:only-of-type {\n",
              "        vertical-align: middle;\n",
              "    }\n",
              "\n",
              "    .dataframe tbody tr th {\n",
              "        vertical-align: top;\n",
              "    }\n",
              "\n",
              "    .dataframe thead th {\n",
              "        text-align: right;\n",
              "    }\n",
              "</style>\n",
              "<table border=\"1\" class=\"dataframe\">\n",
              "  <thead>\n",
              "    <tr style=\"text-align: right;\">\n",
              "      <th></th>\n",
              "      <th>mean_fit_time</th>\n",
              "      <th>std_fit_time</th>\n",
              "      <th>mean_score_time</th>\n",
              "      <th>std_score_time</th>\n",
              "      <th>param_colsample_bylevel</th>\n",
              "      <th>param_subsample</th>\n",
              "      <th>params</th>\n",
              "      <th>split0_test_F1</th>\n",
              "      <th>split1_test_F1</th>\n",
              "      <th>split2_test_F1</th>\n",
              "      <th>split3_test_F1</th>\n",
              "      <th>split4_test_F1</th>\n",
              "      <th>mean_test_F1</th>\n",
              "      <th>std_test_F1</th>\n",
              "      <th>rank_test_F1</th>\n",
              "      <th>split0_train_F1</th>\n",
              "      <th>split1_train_F1</th>\n",
              "      <th>split2_train_F1</th>\n",
              "      <th>split3_train_F1</th>\n",
              "      <th>split4_train_F1</th>\n",
              "      <th>mean_train_F1</th>\n",
              "      <th>std_train_F1</th>\n",
              "      <th>split0_test_Accuracy</th>\n",
              "      <th>split1_test_Accuracy</th>\n",
              "      <th>split2_test_Accuracy</th>\n",
              "      <th>split3_test_Accuracy</th>\n",
              "      <th>split4_test_Accuracy</th>\n",
              "      <th>mean_test_Accuracy</th>\n",
              "      <th>std_test_Accuracy</th>\n",
              "      <th>rank_test_Accuracy</th>\n",
              "      <th>split0_train_Accuracy</th>\n",
              "      <th>split1_train_Accuracy</th>\n",
              "      <th>split2_train_Accuracy</th>\n",
              "      <th>split3_train_Accuracy</th>\n",
              "      <th>split4_train_Accuracy</th>\n",
              "      <th>mean_train_Accuracy</th>\n",
              "      <th>std_train_Accuracy</th>\n",
              "    </tr>\n",
              "  </thead>\n",
              "  <tbody>\n",
              "    <tr>\n",
              "      <th>0</th>\n",
              "      <td>5.340207</td>\n",
              "      <td>0.181786</td>\n",
              "      <td>0.020055</td>\n",
              "      <td>0.000814</td>\n",
              "      <td>0.5</td>\n",
              "      <td>0.5</td>\n",
              "      <td>{'colsample_bylevel': 0.5, 'subsample': 0.5}</td>\n",
              "      <td>0.497635</td>\n",
              "      <td>0.503337</td>\n",
              "      <td>0.499033</td>\n",
              "      <td>0.503286</td>\n",
              "      <td>0.524621</td>\n",
              "      <td>0.505582</td>\n",
              "      <td>0.009786</td>\n",
              "      <td>3</td>\n",
              "      <td>0.573643</td>\n",
              "      <td>0.569346</td>\n",
              "      <td>0.572098</td>\n",
              "      <td>0.568278</td>\n",
              "      <td>0.563606</td>\n",
              "      <td>0.569395</td>\n",
              "      <td>0.003467</td>\n",
              "      <td>0.939453</td>\n",
              "      <td>0.940586</td>\n",
              "      <td>0.940928</td>\n",
              "      <td>0.939674</td>\n",
              "      <td>0.942753</td>\n",
              "      <td>0.940679</td>\n",
              "      <td>0.001174</td>\n",
              "      <td>1</td>\n",
              "      <td>0.948255</td>\n",
              "      <td>0.947772</td>\n",
              "      <td>0.947972</td>\n",
              "      <td>0.947544</td>\n",
              "      <td>0.947287</td>\n",
              "      <td>0.947766</td>\n",
              "      <td>0.000335</td>\n",
              "    </tr>\n",
              "  </tbody>\n",
              "</table>\n",
              "</div>"
            ],
            "text/plain": [
              "   mean_fit_time  std_fit_time  ...  mean_train_Accuracy  std_train_Accuracy\n",
              "0       5.340207      0.181786  ...             0.947766            0.000335\n",
              "\n",
              "[1 rows x 37 columns]"
            ]
          },
          "metadata": {
            "tags": []
          },
          "execution_count": 56
        }
      ]
    },
    {
      "cell_type": "code",
      "metadata": {
        "id": "qD2QzQ-CeUdb"
      },
      "source": [
        "result_cols = ['param_colsample_bylevel', 'param_subsample',\n",
        "               'mean_test_F1', 'mean_train_F1'] # , 'mean_test_Accuracy','mean_train_Accuracy']"
      ],
      "execution_count": null,
      "outputs": []
    },
    {
      "cell_type": "code",
      "metadata": {
        "id": "qjC92jpEeUdi"
      },
      "source": [
        "#pd.set_option('display.max_rows', 500)"
      ],
      "execution_count": null,
      "outputs": []
    },
    {
      "cell_type": "code",
      "metadata": {
        "id": "Pc9s6_XueUdl"
      },
      "source": [
        "################# Data needed for plotting #################### \n",
        "colsample_bylevel = results['param_colsample_bylevel']\n",
        "subsample = results['param_subsample']\n",
        "\n",
        "f1_scores_train = results['mean_train_F1']\n",
        "f1_scores_test = results['mean_test_F1']\n",
        "\n",
        "\n",
        "############ Data Frame for Seaborn Heatmap ########\n",
        "\n",
        "f1_train_df = pd.DataFrame(data=np.column_stack([colsample_bylevel, subsample,\n",
        "                                                  f1_scores_train]\n",
        "                                         ),\n",
        "                            columns=['colsample_bylevel', 'subsample', 'F1'], \n",
        "                            dtype=np.float  \n",
        "                    )\n",
        "\n",
        "# Pivot is needed for Seaborn Heatmap\n",
        "f1_train_df = f1_train_df.pivot('colsample_bylevel', 'subsample', 'F1')\n",
        "\n",
        "\n",
        "f1_test_df = pd.DataFrame(data=np.column_stack([colsample_bylevel, subsample,\n",
        "                                                  f1_scores_test]\n",
        "                                                 ),\n",
        "                               columns=['param_colsample_bylevel', 'subsample', 'F1'],\n",
        "                            dtype = np.float\n",
        "                        )\n",
        "# Pivot is needed for Seaborn Heatmap\n",
        "f1_test_df = f1_test_df.pivot('param_colsample_bylevel', 'subsample', 'F1')"
      ],
      "execution_count": null,
      "outputs": []
    },
    {
      "cell_type": "code",
      "metadata": {
        "id": "xQ14btZ1eUdo",
        "colab": {
          "base_uri": "https://localhost:8080/",
          "height": 441
        },
        "outputId": "3b26ca86-8a02-47d8-956b-f71da820fc06"
      },
      "source": [
        "########## PLOTS ##########\n",
        "\n",
        "ylabel = 'colsample_bylevel'\n",
        "xlabel = 'subsample'\n",
        "\n",
        "fig, ax = plt.subplots(nrows=2,ncols=1, figsize=(6, 6))\n",
        "\n",
        "#plt.subplot(ax[0])\n",
        "axs = ax[0]\n",
        "sns.heatmap(f1_train_df, annot=True, linewidths=0.5, cmap = plt.cm.Blues,\n",
        "            linecolor='yellow', fmt='0.3f', cbar=False, ax=axs)\n",
        "axs.set_title(f'F1 - Train\\nMax F1:{max(f1_scores_train):.2f}', fontsize=15)\n",
        "axs.set_xlabel(xlabel)\n",
        "axs.set_ylabel(ylabel)\n",
        "\n",
        "axs = ax[1]\n",
        "sns.heatmap(f1_test_df, annot=True, linewidths=0.5, cmap = plt.cm.Oranges,\n",
        "            linecolor='pink', fmt='0.3f', cbar=False, ax=axs)\n",
        "axs.set_title(f'F1 - CV\\nMax F1: {max(f1_scores_test):.2f}, ', fontsize=15)\n",
        "axs.set_xlabel(xlabel)\n",
        "axs.set_ylabel(ylabel)\n",
        "\n",
        "plt.tight_layout(h_pad=1)\n",
        "plt.show()"
      ],
      "execution_count": null,
      "outputs": [
        {
          "output_type": "display_data",
          "data": {
            "image/png": "[encoded data removed]",
            "text/plain": [
              "<Figure size 432x432 with 2 Axes>"
            ]
          },
          "metadata": {
            "tags": [],
            "needs_background": "light"
          }
        }
      ]
    },
    {
      "cell_type": "markdown",
      "metadata": {
        "id": "3gKwzdsDh6F4"
      },
      "source": [
        "**Observation**\n",
        "\n",
        "This tuning is not worth the hassle."
      ]
    },
    {
      "cell_type": "code",
      "metadata": {
        "id": "Z4AWP_Usg7QV",
        "colab": {
          "base_uri": "https://localhost:8080/",
          "height": 50
        },
        "outputId": "9efd26b3-6315-4745-b7b7-078acc5834e8"
      },
      "source": [
        "print(0.569-0.506)\n",
        "print(0.589-0.508)"
      ],
      "execution_count": null,
      "outputs": [
        {
          "output_type": "stream",
          "text": [
            "0.06299999999999994\n",
            "0.08099999999999996\n"
          ],
          "name": "stdout"
        }
      ]
    },
    {
      "cell_type": "markdown",
      "metadata": {
        "id": "svLNQ5w2cmNq"
      },
      "source": [
        "### `min_child_weight`"
      ]
    },
    {
      "cell_type": "code",
      "metadata": {
        "id": "PRAXuJ9piyFb"
      },
      "source": [
        "# need to cosider lower values;\n",
        "# higher values controls overfitting, default = 1\n",
        "min_child_weight = [0.01,0.1, 1]\n",
        "\n",
        "param_grid = {'min_child_weight': min_child_weight}\n",
        "performance_metric = {'F1': 'f1', 'Accuracy': 'accuracy'}"
      ],
      "execution_count": null,
      "outputs": []
    },
    {
      "cell_type": "code",
      "metadata": {
        "id": "cy2BkJh6iyFk"
      },
      "source": [
        "gs = GridSearchCV(xgb.XGBClassifier(subsample=0.5, max_depth = 9, n_estimators=200,\n",
        "                                    colsample_bytree=1, colsample_bylevel=0.5,\n",
        "                                    learning_rate=0.1, random_state=1,\n",
        "                                    gpu_id=0, tree_method='gpu_hist'\n",
        "                                ),\n",
        "                  param_grid, scoring=performance_metric, refit='F1', \n",
        "                  return_train_score=True, n_jobs=-1, verbose=5)\n"
      ],
      "execution_count": null,
      "outputs": []
    },
    {
      "cell_type": "code",
      "metadata": {
        "id": "ewLaTaPWiyFm",
        "colab": {
          "base_uri": "https://localhost:8080/",
          "height": 336
        },
        "outputId": "e8b758ee-d44a-4cbb-b847-19768180f461"
      },
      "source": [
        "gs.fit(X_oneHot.loc[train_index.values.flatten(),:], y[train_index.values.flatten()])"
      ],
      "execution_count": null,
      "outputs": [
        {
          "output_type": "stream",
          "text": [
            "Fitting 5 folds for each of 3 candidates, totalling 15 fits\n"
          ],
          "name": "stdout"
        },
        {
          "output_type": "stream",
          "text": [
            "[Parallel(n_jobs=-1)]: Using backend LokyBackend with 2 concurrent workers.\n",
            "[Parallel(n_jobs=-1)]: Done  15 out of  15 | elapsed:   50.4s finished\n"
          ],
          "name": "stderr"
        },
        {
          "output_type": "execute_result",
          "data": {
            "text/plain": [
              "GridSearchCV(cv=None, error_score=nan,\n",
              "             estimator=XGBClassifier(base_score=0.5, booster='gbtree',\n",
              "                                     colsample_bylevel=0.5, colsample_bynode=1,\n",
              "                                     colsample_bytree=1, gamma=0, gpu_id=0,\n",
              "                                     learning_rate=0.1, max_delta_step=0,\n",
              "                                     max_depth=9, min_child_weight=1,\n",
              "                                     missing=None, n_estimators=200, n_jobs=1,\n",
              "                                     nthread=None, objective='binary:logistic',\n",
              "                                     random_state=1, reg_alpha=0, reg_lambda=1,\n",
              "                                     scale_pos_weight=1, seed=None, silent=None,\n",
              "                                     subsample=0.5, tree_method='gpu_hist',\n",
              "                                     verbosity=1),\n",
              "             iid='deprecated', n_jobs=-1,\n",
              "             param_grid={'min_child_weight': [0.01, 0.1, 1]},\n",
              "             pre_dispatch='2*n_jobs', refit='F1', return_train_score=True,\n",
              "             scoring={'Accuracy': 'accuracy', 'F1': 'f1'}, verbose=5)"
            ]
          },
          "metadata": {
            "tags": []
          },
          "execution_count": 68
        }
      ]
    },
    {
      "cell_type": "code",
      "metadata": {
        "id": "F1YMcPSTkF6E",
        "colab": {
          "base_uri": "https://localhost:8080/",
          "height": 114
        },
        "outputId": "cd95042d-c099-42a4-da5f-8e8150ca90c6"
      },
      "source": [
        "results = gs.cv_results_\n",
        "results = pd.DataFrame(results)\n",
        "results.head(1)"
      ],
      "execution_count": null,
      "outputs": [
        {
          "output_type": "execute_result",
          "data": {
            "text/html": [
              "<div>\n",
              "<style scoped>\n",
              "    .dataframe tbody tr th:only-of-type {\n",
              "        vertical-align: middle;\n",
              "    }\n",
              "\n",
              "    .dataframe tbody tr th {\n",
              "        vertical-align: top;\n",
              "    }\n",
              "\n",
              "    .dataframe thead th {\n",
              "        text-align: right;\n",
              "    }\n",
              "</style>\n",
              "<table border=\"1\" class=\"dataframe\">\n",
              "  <thead>\n",
              "    <tr style=\"text-align: right;\">\n",
              "      <th></th>\n",
              "      <th>mean_fit_time</th>\n",
              "      <th>std_fit_time</th>\n",
              "      <th>mean_score_time</th>\n",
              "      <th>std_score_time</th>\n",
              "      <th>param_min_child_weight</th>\n",
              "      <th>params</th>\n",
              "      <th>split0_test_F1</th>\n",
              "      <th>split1_test_F1</th>\n",
              "      <th>split2_test_F1</th>\n",
              "      <th>split3_test_F1</th>\n",
              "      <th>split4_test_F1</th>\n",
              "      <th>mean_test_F1</th>\n",
              "      <th>std_test_F1</th>\n",
              "      <th>rank_test_F1</th>\n",
              "      <th>split0_train_F1</th>\n",
              "      <th>split1_train_F1</th>\n",
              "      <th>split2_train_F1</th>\n",
              "      <th>split3_train_F1</th>\n",
              "      <th>split4_train_F1</th>\n",
              "      <th>mean_train_F1</th>\n",
              "      <th>std_train_F1</th>\n",
              "      <th>split0_test_Accuracy</th>\n",
              "      <th>split1_test_Accuracy</th>\n",
              "      <th>split2_test_Accuracy</th>\n",
              "      <th>split3_test_Accuracy</th>\n",
              "      <th>split4_test_Accuracy</th>\n",
              "      <th>mean_test_Accuracy</th>\n",
              "      <th>std_test_Accuracy</th>\n",
              "      <th>rank_test_Accuracy</th>\n",
              "      <th>split0_train_Accuracy</th>\n",
              "      <th>split1_train_Accuracy</th>\n",
              "      <th>split2_train_Accuracy</th>\n",
              "      <th>split3_train_Accuracy</th>\n",
              "      <th>split4_train_Accuracy</th>\n",
              "      <th>mean_train_Accuracy</th>\n",
              "      <th>std_train_Accuracy</th>\n",
              "    </tr>\n",
              "  </thead>\n",
              "  <tbody>\n",
              "    <tr>\n",
              "      <th>0</th>\n",
              "      <td>7.84559</td>\n",
              "      <td>0.140347</td>\n",
              "      <td>0.018894</td>\n",
              "      <td>0.000686</td>\n",
              "      <td>0.01</td>\n",
              "      <td>{'min_child_weight': 0.01}</td>\n",
              "      <td>0.495806</td>\n",
              "      <td>0.502343</td>\n",
              "      <td>0.496644</td>\n",
              "      <td>0.503663</td>\n",
              "      <td>0.521901</td>\n",
              "      <td>0.504072</td>\n",
              "      <td>0.009429</td>\n",
              "      <td>2</td>\n",
              "      <td>0.617493</td>\n",
              "      <td>0.608456</td>\n",
              "      <td>0.61373</td>\n",
              "      <td>0.612469</td>\n",
              "      <td>0.613699</td>\n",
              "      <td>0.613169</td>\n",
              "      <td>0.002898</td>\n",
              "      <td>0.938312</td>\n",
              "      <td>0.939446</td>\n",
              "      <td>0.94013</td>\n",
              "      <td>0.938191</td>\n",
              "      <td>0.941498</td>\n",
              "      <td>0.939516</td>\n",
              "      <td>0.001226</td>\n",
              "      <td>2</td>\n",
              "      <td>0.952247</td>\n",
              "      <td>0.951421</td>\n",
              "      <td>0.951877</td>\n",
              "      <td>0.951621</td>\n",
              "      <td>0.951763</td>\n",
              "      <td>0.951786</td>\n",
              "      <td>0.000276</td>\n",
              "    </tr>\n",
              "  </tbody>\n",
              "</table>\n",
              "</div>"
            ],
            "text/plain": [
              "   mean_fit_time  std_fit_time  ...  mean_train_Accuracy  std_train_Accuracy\n",
              "0        7.84559      0.140347  ...             0.951786            0.000276\n",
              "\n",
              "[1 rows x 36 columns]"
            ]
          },
          "metadata": {
            "tags": []
          },
          "execution_count": 69
        }
      ]
    },
    {
      "cell_type": "code",
      "metadata": {
        "id": "Oy-5w5kalTna"
      },
      "source": [
        "f1_train = np.array(results['mean_train_F1'], dtype=np.float)\n",
        "f1_test = np.array(results['mean_test_F1'], dtype=np.float)\n",
        "\n",
        "accuracy_train = np.array(results['mean_train_Accuracy'], dtype=np.float)\n",
        "accuracy_test = np.array(results['mean_test_Accuracy'], dtype=np.float)"
      ],
      "execution_count": null,
      "outputs": []
    },
    {
      "cell_type": "code",
      "metadata": {
        "id": "tDWRNIsclTnf"
      },
      "source": [
        "min_child_weight = np.array(results['param_min_child_weight'], dtype=np.float)"
      ],
      "execution_count": null,
      "outputs": []
    },
    {
      "cell_type": "code",
      "metadata": {
        "id": "c537DRQElTni",
        "colab": {
          "base_uri": "https://localhost:8080/",
          "height": 366
        },
        "outputId": "d48f8c9d-148a-4cf9-cad5-3c6dd3f78dcc"
      },
      "source": [
        "fig, ax = plt.subplots(1, 1, figsize=(6, 5))\n",
        "        \n",
        "plt.plot(min_child_weight, f1_train, '-', color = 'b', label='Train F1')\n",
        "plt.plot(min_child_weight, f1_test, '-', color= 'y', label='CV F1')\n",
        "\n",
        "plt.scatter(min_child_weight, f1_train)\n",
        "plt.scatter(min_child_weight, f1_test)\n",
        "\n",
        "# Accuracy \n",
        "plt.plot(min_child_weight, accuracy_train, '--', color='r', label='Train Accuracy')\n",
        "plt.plot(min_child_weight, accuracy_test, '--', color='y', label='CV Accuracy')\n",
        "\n",
        "plt.scatter(min_child_weight, accuracy_train)\n",
        "plt.scatter(min_child_weight, accuracy_test)\n",
        "\n",
        "\n",
        "\n",
        "plt.legend()\n",
        "\n",
        "# Take log as the X - axis value\n",
        "# plt.xscale(value='log')\n",
        "\n",
        "plt.xlabel(\"min_child_weight\")\n",
        "plt.ylabel(\"F1 / Accuracy\")\n",
        "# plt.yticks(np.arange(0,1,.1))\n",
        "\n",
        "plt.title(f\"Train Vs CV PLot.\\nHighest: CV F1 = {np.max(f1_test).round(4)}; Best value = {min_child_weight[np.argmax(f1_test)]}\")\n",
        "\n",
        "plt.grid()\n",
        "\n",
        "plt.show()"
      ],
      "execution_count": null,
      "outputs": [
        {
          "output_type": "display_data",
          "data": {
            "image/png": "[encoded data removed]",
            "text/plain": [
              "<Figure size 432x360 with 1 Axes>"
            ]
          },
          "metadata": {
            "tags": [],
            "needs_background": "light"
          }
        }
      ]
    },
    {
      "cell_type": "markdown",
      "metadata": {
        "id": "w7NmkYgqnTZX"
      },
      "source": [
        "**Observation:**\n",
        "This tuning had no effect. The optimal value is same as default value."
      ]
    },
    {
      "cell_type": "markdown",
      "metadata": {
        "id": "CmPk1cuUouCK"
      },
      "source": [
        "### `scale_pos_weight`: Class Imbalance\n",
        "\n",
        "total samples majority class / total samples minority class"
      ]
    },
    {
      "cell_type": "code",
      "metadata": {
        "id": "-pgQBjfoqpVl"
      },
      "source": [
        "# get #majority_class and #minority_class\n",
        "\n",
        "majority, minority = y[train_index.values.flatten()]\\\n",
        "                    .groupby(by=y[train_index.values.flatten()].values)\\\n",
        "                    .count()"
      ],
      "execution_count": null,
      "outputs": []
    },
    {
      "cell_type": "code",
      "metadata": {
        "id": "mOblV7TRpPGo"
      },
      "source": [
        "scale_pos_weight = [math.ceil(majority/minority)]\n",
        "scale_pos_weight.extend([1, 10, 25, 50, 75, 99, 100, 1000])\n",
        "\n",
        "param_grid = {'scale_pos_weight': scale_pos_weight}\n",
        "performance_metric = {'F1': 'f1', 'Accuracy': 'accuracy'}"
      ],
      "execution_count": null,
      "outputs": []
    },
    {
      "cell_type": "code",
      "metadata": {
        "id": "mKmZacQsvN-5"
      },
      "source": [
        "gs = GridSearchCV(xgb.XGBClassifier(subsample=0.5, colsample_bytree=1, colsample_bylevel=0.5,\n",
        "                                    max_depth = 9, n_estimators = 200,\n",
        "                                    learning_rate=0.1, random_state=1,\n",
        "                                    gpu_id=0, tree_method='gpu_hist'\n",
        "                                ),\n",
        "                  param_grid, scoring=performance_metric, refit='F1', \n",
        "                  return_train_score=True, n_jobs=-1, verbose=5\n",
        "                  )\n"
      ],
      "execution_count": null,
      "outputs": []
    },
    {
      "cell_type": "code",
      "metadata": {
        "id": "QfH8IY6-vhp7",
        "colab": {
          "base_uri": "https://localhost:8080/",
          "height": 370
        },
        "outputId": "8e5e6438-e178-4e0d-8c3a-19ec822a4bbe"
      },
      "source": [
        "gs.fit(X_oneHot.loc[train_index.values.flatten(),:], y[train_index.values.flatten()])"
      ],
      "execution_count": null,
      "outputs": [
        {
          "output_type": "stream",
          "text": [
            "Fitting 5 folds for each of 9 candidates, totalling 45 fits\n"
          ],
          "name": "stdout"
        },
        {
          "output_type": "stream",
          "text": [
            "[Parallel(n_jobs=-1)]: Using backend LokyBackend with 2 concurrent workers.\n",
            "[Parallel(n_jobs=-1)]: Done  14 tasks      | elapsed:  1.2min\n",
            "[Parallel(n_jobs=-1)]: Done  45 out of  45 | elapsed:  3.7min finished\n"
          ],
          "name": "stderr"
        },
        {
          "output_type": "execute_result",
          "data": {
            "text/plain": [
              "GridSearchCV(cv=None, error_score=nan,\n",
              "             estimator=XGBClassifier(base_score=0.5, booster='gbtree',\n",
              "                                     colsample_bylevel=0.5, colsample_bynode=1,\n",
              "                                     colsample_bytree=1, gamma=0, gpu_id=0,\n",
              "                                     learning_rate=0.1, max_delta_step=0,\n",
              "                                     max_depth=9, min_child_weight=1,\n",
              "                                     missing=None, n_estimators=200, n_jobs=1,\n",
              "                                     nthread=None, objective='binary:logistic',\n",
              "                                     random_state=1, reg_alpha=0, reg_lambda=1,\n",
              "                                     scale_pos_weight=1, seed=None, silent=None,\n",
              "                                     subsample=0.5, tree_method='gpu_hist',\n",
              "                                     verbosity=1),\n",
              "             iid='deprecated', n_jobs=-1,\n",
              "             param_grid={'scale_pos_weight': [11, 1, 10, 25, 50, 75, 99, 100,\n",
              "                                              1000]},\n",
              "             pre_dispatch='2*n_jobs', refit='F1', return_train_score=True,\n",
              "             scoring={'Accuracy': 'accuracy', 'F1': 'f1'}, verbose=5)"
            ]
          },
          "metadata": {
            "tags": []
          },
          "execution_count": 37
        }
      ]
    },
    {
      "cell_type": "code",
      "metadata": {
        "id": "Gp3NJt1Cwt4g"
      },
      "source": [
        "results = gs.cv_results_\n",
        "results = pd.DataFrame(results)\n",
        "#results.head(1)"
      ],
      "execution_count": null,
      "outputs": []
    },
    {
      "cell_type": "code",
      "metadata": {
        "id": "6Rm8nSktxIyv"
      },
      "source": [
        "f1_train = np.array(results['mean_train_F1'], dtype=np.float)\n",
        "f1_test = np.array(results['mean_test_F1'], dtype=np.float)\n",
        "\n",
        "accuracy_train = np.array(results['mean_train_Accuracy'], dtype=np.float)\n",
        "accuracy_test = np.array(results['mean_test_Accuracy'], dtype=np.float)"
      ],
      "execution_count": null,
      "outputs": []
    },
    {
      "cell_type": "code",
      "metadata": {
        "id": "l33HhBVLxIy1"
      },
      "source": [
        "scale_pos_weight = np.array(results['param_scale_pos_weight'], dtype=np.float)"
      ],
      "execution_count": null,
      "outputs": []
    },
    {
      "cell_type": "code",
      "metadata": {
        "id": "G5JccmN_xIy3",
        "colab": {
          "base_uri": "https://localhost:8080/",
          "height": 369
        },
        "outputId": "4f37e7f5-54f1-45db-c12a-502f0a5ad153"
      },
      "source": [
        "fig, ax = plt.subplots(1, 1, figsize=(6, 5))\n",
        "        \n",
        "plt.plot(scale_pos_weight, f1_train, '-', color = 'b', label='Train F1')\n",
        "plt.plot(scale_pos_weight, f1_test, '-', color= 'y', label='CV F1')\n",
        "\n",
        "plt.scatter(scale_pos_weight, f1_train)\n",
        "plt.scatter(scale_pos_weight, f1_test)\n",
        "\n",
        "# Accuracy \n",
        "plt.plot(scale_pos_weight, accuracy_train, '--', color='r', label='Train Accuracy')\n",
        "plt.plot(scale_pos_weight, accuracy_test, '--', color='y', label='CV Accuracy')\n",
        "\n",
        "plt.scatter(scale_pos_weight, accuracy_train)\n",
        "plt.scatter(scale_pos_weight, accuracy_test)\n",
        "\n",
        "\n",
        "\n",
        "plt.legend()\n",
        "\n",
        "# Take log as the X - axis value\n",
        "plt.xscale(value='log')\n",
        "\n",
        "plt.xlabel(\"scale_pos_weight\")\n",
        "plt.ylabel(\"F1 / Accuracy\")\n",
        "# plt.yticks(np.arange(0,1,.1))\n",
        "\n",
        "plt.title(f\"Train Vs CV PLot.\\nHighest: CV F1 = {np.max(f1_test).round(4)}; Best Hyperparameter = {scale_pos_weight[np.argmax(f1_test)]}\")\n",
        "\n",
        "plt.grid()\n",
        "\n",
        "plt.show()"
      ],
      "execution_count": null,
      "outputs": [
        {
          "output_type": "display_data",
          "data": {
            "image/png": "[encoded data removed]",
            "text/plain": [
              "<Figure size 432x360 with 1 Axes>"
            ]
          },
          "metadata": {
            "tags": [],
            "needs_background": "light"
          }
        }
      ]
    },
    {
      "cell_type": "code",
      "metadata": {
        "id": "M9YjCSCqx4Ax",
        "colab": {
          "base_uri": "https://localhost:8080/",
          "height": 314
        },
        "outputId": "2ee7d913-c0a4-438a-cf9c-d2a815899115"
      },
      "source": [
        "#results[results.param_scale_pos_weight == math.ceil(majority/minority)][['param_scale_pos_weight', 'mean_test_F1', 'mean_train_F1', 'mean_test_Accuracy', 'mean_train_Accuracy']]\n",
        "results[['param_scale_pos_weight', 'mean_test_F1', 'mean_train_F1',\n",
        "         'mean_test_Accuracy', 'mean_train_Accuracy']\n",
        "        ].sort_values('param_scale_pos_weight')"
      ],
      "execution_count": null,
      "outputs": [
        {
          "output_type": "execute_result",
          "data": {
            "text/html": [
              "<div>\n",
              "<style scoped>\n",
              "    .dataframe tbody tr th:only-of-type {\n",
              "        vertical-align: middle;\n",
              "    }\n",
              "\n",
              "    .dataframe tbody tr th {\n",
              "        vertical-align: top;\n",
              "    }\n",
              "\n",
              "    .dataframe thead th {\n",
              "        text-align: right;\n",
              "    }\n",
              "</style>\n",
              "<table border=\"1\" class=\"dataframe\">\n",
              "  <thead>\n",
              "    <tr style=\"text-align: right;\">\n",
              "      <th></th>\n",
              "      <th>param_scale_pos_weight</th>\n",
              "      <th>mean_test_F1</th>\n",
              "      <th>mean_train_F1</th>\n",
              "      <th>mean_test_Accuracy</th>\n",
              "      <th>mean_train_Accuracy</th>\n",
              "    </tr>\n",
              "  </thead>\n",
              "  <tbody>\n",
              "    <tr>\n",
              "      <th>1</th>\n",
              "      <td>1</td>\n",
              "      <td>0.506831</td>\n",
              "      <td>0.568514</td>\n",
              "      <td>0.940702</td>\n",
              "      <td>0.947709</td>\n",
              "    </tr>\n",
              "    <tr>\n",
              "      <th>2</th>\n",
              "      <td>10</td>\n",
              "      <td>0.415430</td>\n",
              "      <td>0.563566</td>\n",
              "      <td>0.833029</td>\n",
              "      <td>0.873939</td>\n",
              "    </tr>\n",
              "    <tr>\n",
              "      <th>0</th>\n",
              "      <td>11</td>\n",
              "      <td>0.411452</td>\n",
              "      <td>0.551578</td>\n",
              "      <td>0.827601</td>\n",
              "      <td>0.866721</td>\n",
              "    </tr>\n",
              "    <tr>\n",
              "      <th>3</th>\n",
              "      <td>25</td>\n",
              "      <td>0.382987</td>\n",
              "      <td>0.473593</td>\n",
              "      <td>0.779569</td>\n",
              "      <td>0.811380</td>\n",
              "    </tr>\n",
              "    <tr>\n",
              "      <th>4</th>\n",
              "      <td>50</td>\n",
              "      <td>0.371124</td>\n",
              "      <td>0.437680</td>\n",
              "      <td>0.754482</td>\n",
              "      <td>0.781297</td>\n",
              "    </tr>\n",
              "    <tr>\n",
              "      <th>5</th>\n",
              "      <td>75</td>\n",
              "      <td>0.363596</td>\n",
              "      <td>0.419609</td>\n",
              "      <td>0.739246</td>\n",
              "      <td>0.764408</td>\n",
              "    </tr>\n",
              "    <tr>\n",
              "      <th>6</th>\n",
              "      <td>99</td>\n",
              "      <td>0.355060</td>\n",
              "      <td>0.408231</td>\n",
              "      <td>0.728573</td>\n",
              "      <td>0.753113</td>\n",
              "    </tr>\n",
              "    <tr>\n",
              "      <th>7</th>\n",
              "      <td>100</td>\n",
              "      <td>0.357033</td>\n",
              "      <td>0.408470</td>\n",
              "      <td>0.730375</td>\n",
              "      <td>0.753358</td>\n",
              "    </tr>\n",
              "    <tr>\n",
              "      <th>8</th>\n",
              "      <td>1000</td>\n",
              "      <td>0.335584</td>\n",
              "      <td>0.362355</td>\n",
              "      <td>0.685695</td>\n",
              "      <td>0.700167</td>\n",
              "    </tr>\n",
              "  </tbody>\n",
              "</table>\n",
              "</div>"
            ],
            "text/plain": [
              "  param_scale_pos_weight  mean_test_F1  ...  mean_test_Accuracy  mean_train_Accuracy\n",
              "1                      1      0.506831  ...            0.940702             0.947709\n",
              "2                     10      0.415430  ...            0.833029             0.873939\n",
              "0                     11      0.411452  ...            0.827601             0.866721\n",
              "3                     25      0.382987  ...            0.779569             0.811380\n",
              "4                     50      0.371124  ...            0.754482             0.781297\n",
              "5                     75      0.363596  ...            0.739246             0.764408\n",
              "6                     99      0.355060  ...            0.728573             0.753113\n",
              "7                    100      0.357033  ...            0.730375             0.753358\n",
              "8                   1000      0.335584  ...            0.685695             0.700167\n",
              "\n",
              "[9 rows x 5 columns]"
            ]
          },
          "metadata": {
            "tags": []
          },
          "execution_count": 50
        }
      ]
    },
    {
      "cell_type": "markdown",
      "metadata": {
        "id": "WGsnQKKOyyy3"
      },
      "source": [
        "**Observation:** Best value is achieved with the default Hyperparameter ($1$)."
      ]
    },
    {
      "cell_type": "markdown",
      "metadata": {
        "id": "ZYtBx1JY7ctV"
      },
      "source": [
        "### `gamma`\n",
        "Higher `gamma` more regularization. Tuning Gamma is only mostly effective for shalow trees. Thus we will tune `gamma` along with `max_depth`.\n",
        "\n",
        "ref: https://stats.stackexchange.com/q/420046"
      ]
    },
    {
      "cell_type": "code",
      "metadata": {
        "id": "lEQJ37xk7_oV"
      },
      "source": [
        "gamma = [0, 0.1, 0.5, 0.7, 1, 1.5, 2]\n",
        "max_depth = np.arange(2, 10) #[2,9]\n",
        "\n",
        "param_grid = {'gamma': gamma, 'max_depth': max_depth}\n",
        "\n",
        "performance_metric = {'F1': 'f1', 'Accuracy': 'accuracy'}"
      ],
      "execution_count": null,
      "outputs": []
    },
    {
      "cell_type": "code",
      "metadata": {
        "id": "A7ik-k5L7_ob"
      },
      "source": [
        "gs = GridSearchCV(xgb.XGBClassifier(subsample=0.5, colsample_bytree=1, colsample_bylevel=0.5,\n",
        "                                    n_estimators = 200,\n",
        "                                    learning_rate=0.1, random_state=1,\n",
        "                                    gpu_id=0, tree_method='gpu_hist'\n",
        "                                ),\n",
        "                  param_grid, scoring=performance_metric, refit='F1', \n",
        "                  return_train_score=True, n_jobs=-1, verbose=5\n",
        "                  )\n"
      ],
      "execution_count": null,
      "outputs": []
    },
    {
      "cell_type": "code",
      "metadata": {
        "id": "wQZwTthn7_oe",
        "colab": {
          "base_uri": "https://localhost:8080/",
          "height": 403
        },
        "outputId": "de0e5a72-594d-4586-ac7c-59697dba0688"
      },
      "source": [
        "gs.fit(X_oneHot.loc[train_index.values.flatten(),:], y[train_index.values.flatten()])"
      ],
      "execution_count": null,
      "outputs": [
        {
          "output_type": "stream",
          "text": [
            "Fitting 5 folds for each of 56 candidates, totalling 280 fits\n"
          ],
          "name": "stdout"
        },
        {
          "output_type": "stream",
          "text": [
            "[Parallel(n_jobs=-1)]: Using backend LokyBackend with 2 concurrent workers.\n",
            "[Parallel(n_jobs=-1)]: Done  14 tasks      | elapsed:   20.9s\n",
            "[Parallel(n_jobs=-1)]: Done  68 tasks      | elapsed:  2.5min\n",
            "[Parallel(n_jobs=-1)]: Done 158 tasks      | elapsed:  6.3min\n",
            "[Parallel(n_jobs=-1)]: Done 280 out of 280 | elapsed: 11.1min finished\n"
          ],
          "name": "stderr"
        },
        {
          "output_type": "execute_result",
          "data": {
            "text/plain": [
              "GridSearchCV(cv=None, error_score=nan,\n",
              "             estimator=XGBClassifier(base_score=0.5, booster='gbtree',\n",
              "                                     colsample_bylevel=0.5, colsample_bynode=1,\n",
              "                                     colsample_bytree=1, gamma=0, gpu_id=0,\n",
              "                                     learning_rate=0.1, max_delta_step=0,\n",
              "                                     max_depth=3, min_child_weight=1,\n",
              "                                     missing=None, n_estimators=200, n_jobs=1,\n",
              "                                     nthread=None, objective='binary:logistic',\n",
              "                                     random_state=1, reg_alpha=0, reg_lambda=1,\n",
              "                                     scale_pos_weight=1, seed=None, silent=None,\n",
              "                                     subsample=0.5, tree_method='gpu_hist',\n",
              "                                     verbosity=1),\n",
              "             iid='deprecated', n_jobs=-1,\n",
              "             param_grid={'gamma': [0, 0.1, 0.5, 0.7, 1, 1.5, 2],\n",
              "                         'max_depth': array([2, 3, 4, 5, 6, 7, 8, 9])},\n",
              "             pre_dispatch='2*n_jobs', refit='F1', return_train_score=True,\n",
              "             scoring={'Accuracy': 'accuracy', 'F1': 'f1'}, verbose=5)"
            ]
          },
          "metadata": {
            "tags": []
          },
          "execution_count": 55
        }
      ]
    },
    {
      "cell_type": "code",
      "metadata": {
        "id": "G4VaitXdDqJF",
        "colab": {
          "base_uri": "https://localhost:8080/",
          "height": 130
        },
        "outputId": "cc69dbd2-46e1-43eb-981b-509a708f925c"
      },
      "source": [
        "results = gs.cv_results_\n",
        "results = pd.DataFrame(results)\n",
        "results.head(1)"
      ],
      "execution_count": null,
      "outputs": [
        {
          "output_type": "execute_result",
          "data": {
            "text/html": [
              "<div>\n",
              "<style scoped>\n",
              "    .dataframe tbody tr th:only-of-type {\n",
              "        vertical-align: middle;\n",
              "    }\n",
              "\n",
              "    .dataframe tbody tr th {\n",
              "        vertical-align: top;\n",
              "    }\n",
              "\n",
              "    .dataframe thead th {\n",
              "        text-align: right;\n",
              "    }\n",
              "</style>\n",
              "<table border=\"1\" class=\"dataframe\">\n",
              "  <thead>\n",
              "    <tr style=\"text-align: right;\">\n",
              "      <th></th>\n",
              "      <th>mean_fit_time</th>\n",
              "      <th>std_fit_time</th>\n",
              "      <th>mean_score_time</th>\n",
              "      <th>std_score_time</th>\n",
              "      <th>param_gamma</th>\n",
              "      <th>param_max_depth</th>\n",
              "      <th>params</th>\n",
              "      <th>split0_test_F1</th>\n",
              "      <th>split1_test_F1</th>\n",
              "      <th>split2_test_F1</th>\n",
              "      <th>split3_test_F1</th>\n",
              "      <th>split4_test_F1</th>\n",
              "      <th>mean_test_F1</th>\n",
              "      <th>std_test_F1</th>\n",
              "      <th>rank_test_F1</th>\n",
              "      <th>split0_train_F1</th>\n",
              "      <th>split1_train_F1</th>\n",
              "      <th>split2_train_F1</th>\n",
              "      <th>split3_train_F1</th>\n",
              "      <th>split4_train_F1</th>\n",
              "      <th>mean_train_F1</th>\n",
              "      <th>std_train_F1</th>\n",
              "      <th>split0_test_Accuracy</th>\n",
              "      <th>split1_test_Accuracy</th>\n",
              "      <th>split2_test_Accuracy</th>\n",
              "      <th>split3_test_Accuracy</th>\n",
              "      <th>split4_test_Accuracy</th>\n",
              "      <th>mean_test_Accuracy</th>\n",
              "      <th>std_test_Accuracy</th>\n",
              "      <th>rank_test_Accuracy</th>\n",
              "      <th>split0_train_Accuracy</th>\n",
              "      <th>split1_train_Accuracy</th>\n",
              "      <th>split2_train_Accuracy</th>\n",
              "      <th>split3_train_Accuracy</th>\n",
              "      <th>split4_train_Accuracy</th>\n",
              "      <th>mean_train_Accuracy</th>\n",
              "      <th>std_train_Accuracy</th>\n",
              "    </tr>\n",
              "  </thead>\n",
              "  <tbody>\n",
              "    <tr>\n",
              "      <th>0</th>\n",
              "      <td>2.400197</td>\n",
              "      <td>0.240106</td>\n",
              "      <td>0.021588</td>\n",
              "      <td>0.002797</td>\n",
              "      <td>0</td>\n",
              "      <td>2</td>\n",
              "      <td>{'gamma': 0, 'max_depth': 2}</td>\n",
              "      <td>0.418314</td>\n",
              "      <td>0.408377</td>\n",
              "      <td>0.386752</td>\n",
              "      <td>0.415094</td>\n",
              "      <td>0.397028</td>\n",
              "      <td>0.405113</td>\n",
              "      <td>0.011722</td>\n",
              "      <td>50</td>\n",
              "      <td>0.417432</td>\n",
              "      <td>0.404536</td>\n",
              "      <td>0.409317</td>\n",
              "      <td>0.400845</td>\n",
              "      <td>0.412398</td>\n",
              "      <td>0.408906</td>\n",
              "      <td>0.005816</td>\n",
              "      <td>0.93626</td>\n",
              "      <td>0.935568</td>\n",
              "      <td>0.934542</td>\n",
              "      <td>0.936367</td>\n",
              "      <td>0.935226</td>\n",
              "      <td>0.935593</td>\n",
              "      <td>0.000676</td>\n",
              "      <td>50</td>\n",
              "      <td>0.936737</td>\n",
              "      <td>0.935627</td>\n",
              "      <td>0.935656</td>\n",
              "      <td>0.935314</td>\n",
              "      <td>0.936226</td>\n",
              "      <td>0.935912</td>\n",
              "      <td>0.000507</td>\n",
              "    </tr>\n",
              "  </tbody>\n",
              "</table>\n",
              "</div>"
            ],
            "text/plain": [
              "   mean_fit_time  std_fit_time  ...  mean_train_Accuracy  std_train_Accuracy\n",
              "0       2.400197      0.240106  ...             0.935912            0.000507\n",
              "\n",
              "[1 rows x 37 columns]"
            ]
          },
          "metadata": {
            "tags": []
          },
          "execution_count": 56
        }
      ]
    },
    {
      "cell_type": "code",
      "metadata": {
        "id": "MddRryo7D2Zq"
      },
      "source": [
        "result_cols = ['param_max_depth', 'param_n_estimators',\n",
        "               'mean_test_F1', 'mean_train_F1'] # , 'mean_test_Accuracy','mean_train_Accuracy']"
      ],
      "execution_count": null,
      "outputs": []
    },
    {
      "cell_type": "code",
      "metadata": {
        "id": "4894hRkiD2Zy"
      },
      "source": [
        "################# Data needed for plotting #################### \n",
        "max_depth = results['param_max_depth']\n",
        "gamma = results['param_gamma']\n",
        "\n",
        "f1_scores_train = results['mean_train_F1']\n",
        "f1_scores_test = results['mean_test_F1']\n",
        "\n",
        "\n",
        "############ Data Frame for Seaborn Heatmap ########\n",
        "\n",
        "f1_train_df = pd.DataFrame(data=np.column_stack([max_depth, gamma,\n",
        "                                                  f1_scores_train]\n",
        "                                         ),\n",
        "                            columns=['max_depth', 'gamma', 'F1'], \n",
        "                            dtype=np.float  \n",
        "                    )\n",
        "\n",
        "# Pivot is needed for Seaborn Heatmap\n",
        "f1_train_df = f1_train_df.pivot('max_depth', 'gamma', 'F1')\n",
        "\n",
        "\n",
        "f1_test_df = pd.DataFrame(data=np.column_stack([max_depth, gamma,\n",
        "                                                  f1_scores_test]\n",
        "                                                 ),\n",
        "                               columns=['max_depth', 'gamma', 'F1'],\n",
        "                            dtype = np.float\n",
        "                        )\n",
        "# Pivot is needed for Seaborn Heatmap\n",
        "f1_test_df = f1_test_df.pivot('max_depth', 'gamma', 'F1')"
      ],
      "execution_count": null,
      "outputs": []
    },
    {
      "cell_type": "code",
      "metadata": {
        "id": "jTlMsMxnD2Z0",
        "colab": {
          "base_uri": "https://localhost:8080/",
          "height": 585
        },
        "outputId": "b32458e6-d0bb-4bb0-88eb-7feca75acf0d"
      },
      "source": [
        "########## PLOTS ##########\n",
        "\n",
        "xlabel = 'gamma'\n",
        "ylabel = 'Maximum Depth'\n",
        "\n",
        "fig, ax = plt.subplots(nrows=2,ncols=1, figsize=(10, 8))\n",
        "\n",
        "#plt.subplot(ax[0])\n",
        "axs = ax[0]\n",
        "sns.heatmap(f1_train_df, annot=True, linewidths=0.5, cmap = plt.cm.Blues,\n",
        "            linecolor='yellow', fmt='0.5f', cbar=False, ax=axs)\n",
        "axs.set_title(f'F1 - Train\\nMax F1:{max(f1_scores_train):.2f}', fontsize=15)\n",
        "axs.set_xlabel(xlabel)\n",
        "axs.set_ylabel(ylabel)\n",
        "\n",
        "axs = ax[1]\n",
        "sns.heatmap(f1_test_df, annot=True, linewidths=0.5, cmap = plt.cm.Oranges,\n",
        "            linecolor='pink', fmt='0.5f', cbar=False, ax=axs)\n",
        "axs.set_title(f'F1 - CV\\nMax F1: {max(f1_scores_test):.2f}, ', fontsize=15)\n",
        "axs.set_xlabel(xlabel)\n",
        "axs.set_ylabel(ylabel)\n",
        "\n",
        "plt.tight_layout(h_pad=1)\n",
        "plt.show()"
      ],
      "execution_count": null,
      "outputs": [
        {
          "output_type": "display_data",
          "data": {
            "image/png": "[encoded data removed]",
            "text/plain": [
              "<Figure size 720x576 with 2 Axes>"
            ]
          },
          "metadata": {
            "tags": [],
            "needs_background": "light"
          }
        }
      ]
    },
    {
      "cell_type": "code",
      "metadata": {
        "id": "XSD7OM77D2Z2",
        "colab": {
          "base_uri": "https://localhost:8080/",
          "height": 84
        },
        "outputId": "f0f15480-c69b-4629-dce1-c15bee5652b2"
      },
      "source": [
        "print('Best combination of Parameters')\n",
        "print('-'*50)\n",
        "\n",
        "for k, v in gs.best_params_.items():\n",
        "    print(k,':',v)\n",
        "\n",
        "#xgb.cv()"
      ],
      "execution_count": null,
      "outputs": [
        {
          "output_type": "stream",
          "text": [
            "Best combination of Parameters\n",
            "--------------------------------------------------\n",
            "gamma : 0\n",
            "max_depth : 9\n"
          ],
          "name": "stdout"
        }
      ]
    },
    {
      "cell_type": "markdown",
      "metadata": {
        "id": "jTp_GRGIFMpf"
      },
      "source": [
        "**Observation:** Thus the best gamma is $0$(default), at the previously tuned max_depth = $9$."
      ]
    },
    {
      "cell_type": "markdown",
      "metadata": {
        "id": "tMYqqB_1RXGt"
      },
      "source": [
        "### Tuned Model\n",
        "Why XGBoost with CalibratedClassifierCV should not be passed with cv = 'prefit'\n",
        "https://github.com/dmlc/xgboost/issues/2334#issuecomment-304354358"
      ]
    },
    {
      "cell_type": "code",
      "metadata": {
        "id": "DEIrukcYRWFl"
      },
      "source": [
        "# Tuned Boosted model\n",
        "GBDT_tuned = xgb.XGBClassifier(subsample=0.5, colsample_bytree=1, colsample_bylevel=0.5,\n",
        "                                    max_depth = 9, n_estimators = 200, gamma=0,\n",
        "                                    scale_pos_weight=1, min_child_weight=1,\n",
        "                                    learning_rate=0.1, random_state=1,\n",
        "                                    gpu_id=0, tree_method='gpu_hist'\n",
        "                                )\n",
        "#GBDT_tuned = GBDT_tuned.fit(X_oneHot.loc[train_index.values.flatten(),:], y[train_index.values.flatten()])"
      ],
      "execution_count": null,
      "outputs": []
    },
    {
      "cell_type": "code",
      "metadata": {
        "id": "zOAr9QGJRWFs"
      },
      "source": [
        "# # calibrate the DT model\n",
        "GBDT_calibarted = CalibratedClassifierCV(base_estimator=GBDT_tuned, cv=5) # cv='prefit'\n",
        "GBDT_calibarted = GBDT_calibarted.fit(X_oneHot.loc[train_index.values.flatten(),:], y[train_index.values.flatten()])"
      ],
      "execution_count": null,
      "outputs": []
    },
    {
      "cell_type": "code",
      "metadata": {
        "id": "dpQcaQ-4RWFu"
      },
      "source": [
        "y_pred = GBDT_calibarted.predict(X_oneHot.loc[validate_index.values.flatten(),:])\n",
        "#y_pred = GBDT_tuned.predict(X_oneHot.loc[validate_index.values.flatten(),:])"
      ],
      "execution_count": null,
      "outputs": []
    },
    {
      "cell_type": "code",
      "metadata": {
        "id": "n932WtL1ZN-n"
      },
      "source": [
        "# y_pred\n",
        "#GBDT_tuned.classes_\n",
        "# y_proba = y_proba[:,1]\n",
        "\n",
        "# for threshold in [0.45, 0.5, 0.55, 0.6, 0.7, 0.8, 0.9]:\n",
        "\n",
        "#     print(f'For {threshold}:')\n",
        "#     print('-'*50)\n",
        "\n",
        "#     y_pred = list(map(lambda x: 1 if x>=threshold else 0, y_proba))\n",
        "    \n",
        "#     print('F1:',f1_score(y[validate_index.values.flatten()],\n",
        "#                          y_pred)\n",
        "#     )\n",
        "#     print('Accuracy:', accuracy_score(y[validate_index.values.flatten()],\n",
        "#             y_pred))    \n",
        "#     print()\n"
      ],
      "execution_count": null,
      "outputs": []
    },
    {
      "cell_type": "code",
      "metadata": {
        "id": "q6v12-MMDnr8",
        "colab": {
          "base_uri": "https://localhost:8080/",
          "height": 50
        },
        "outputId": "bfb5edcd-0dc6-4e98-f5b9-b0ec03931ac5"
      },
      "source": [
        "# seperate val data\n",
        "print('F1:',f1_score(y[validate_index.values.flatten()],\n",
        "         y_pred))\n",
        "print('Accuracy:', accuracy_score(y[validate_index.values.flatten()],\n",
        "         y_pred))"
      ],
      "execution_count": null,
      "outputs": [
        {
          "output_type": "stream",
          "text": [
            "F1: 0.5226586102719033\n",
            "Accuracy: 0.9423462871738734\n"
          ],
          "name": "stdout"
        }
      ]
    },
    {
      "cell_type": "markdown",
      "metadata": {
        "id": "SLSSgeGAoffn"
      },
      "source": [
        "#### Confusion Matrix"
      ]
    },
    {
      "cell_type": "code",
      "metadata": {
        "id": "ev29w3y-EN-9",
        "colab": {
          "base_uri": "https://localhost:8080/",
          "height": 297
        },
        "outputId": "1fdf9a8b-75b7-44b3-e92a-41b818537bc5"
      },
      "source": [
        "plot_confusion_matrix(y[validate_index.values.flatten()], y_pred, GBDT_tuned.classes_, title='Confusion Matrix: RF')#.plot()"
      ],
      "execution_count": null,
      "outputs": [
        {
          "output_type": "display_data",
          "data": {
            "image/png": "[encoded data removed]",
            "text/plain": [
              "<Figure size 432x288 with 1 Axes>"
            ]
          },
          "metadata": {
            "tags": [],
            "needs_background": "light"
          }
        }
      ]
    },
    {
      "cell_type": "markdown",
      "metadata": {
        "id": "eE6ZZHZ7GvI-"
      },
      "source": [
        "#### Feature Importance\n"
      ]
    },
    {
      "cell_type": "code",
      "metadata": {
        "id": "SfnHnE9bGx-R",
        "colab": {
          "base_uri": "https://localhost:8080/",
          "height": 1000
        },
        "outputId": "d607ed13-bab8-4b9c-a94a-d75abc6a99ce"
      },
      "source": [
        "print('Features in Descending order of Importance')\n",
        "print('-'*50)\n",
        "\n",
        "pd.DataFrame(np.column_stack([X_oneHot.columns[np.argsort(GBDT_tuned.feature_importances_)[::-1]],\n",
        "                              GBDT_tuned.feature_importances_[np.argsort(GBDT_tuned.feature_importances_)[::-1]].round(6)\n",
        "                            ]),\n",
        "             columns = ['Features', 'Importance']\n",
        "            )"
      ],
      "execution_count": null,
      "outputs": [
        {
          "output_type": "stream",
          "text": [
            "Features in Descending order of Importance\n",
            "--------------------------------------------------\n"
          ],
          "name": "stdout"
        },
        {
          "output_type": "execute_result",
          "data": {
            "text/html": [
              "<div>\n",
              "<style scoped>\n",
              "    .dataframe tbody tr th:only-of-type {\n",
              "        vertical-align: middle;\n",
              "    }\n",
              "\n",
              "    .dataframe tbody tr th {\n",
              "        vertical-align: top;\n",
              "    }\n",
              "\n",
              "    .dataframe thead th {\n",
              "        text-align: right;\n",
              "    }\n",
              "</style>\n",
              "<table border=\"1\" class=\"dataframe\">\n",
              "  <thead>\n",
              "    <tr style=\"text-align: right;\">\n",
              "      <th></th>\n",
              "      <th>Features</th>\n",
              "      <th>Importance</th>\n",
              "    </tr>\n",
              "  </thead>\n",
              "  <tbody>\n",
              "    <tr>\n",
              "      <th>0</th>\n",
              "      <td>KPIs_met &gt;80%_0</td>\n",
              "      <td>0.093307</td>\n",
              "    </tr>\n",
              "    <tr>\n",
              "      <th>1</th>\n",
              "      <td>department_Sales &amp; Marketing</td>\n",
              "      <td>0.070873</td>\n",
              "    </tr>\n",
              "    <tr>\n",
              "      <th>2</th>\n",
              "      <td>KPIs_met &gt;80%_1</td>\n",
              "      <td>0.065124</td>\n",
              "    </tr>\n",
              "    <tr>\n",
              "      <th>3</th>\n",
              "      <td>awards_won?_1</td>\n",
              "      <td>0.054179</td>\n",
              "    </tr>\n",
              "    <tr>\n",
              "      <th>4</th>\n",
              "      <td>department_Operations</td>\n",
              "      <td>0.039681</td>\n",
              "    </tr>\n",
              "    <tr>\n",
              "      <th>5</th>\n",
              "      <td>department_Procurement</td>\n",
              "      <td>0.039552</td>\n",
              "    </tr>\n",
              "    <tr>\n",
              "      <th>6</th>\n",
              "      <td>department_Finance</td>\n",
              "      <td>0.03397</td>\n",
              "    </tr>\n",
              "    <tr>\n",
              "      <th>7</th>\n",
              "      <td>awards_won?_0</td>\n",
              "      <td>0.029617</td>\n",
              "    </tr>\n",
              "    <tr>\n",
              "      <th>8</th>\n",
              "      <td>department_HR</td>\n",
              "      <td>0.028595</td>\n",
              "    </tr>\n",
              "    <tr>\n",
              "      <th>9</th>\n",
              "      <td>avg_training_score</td>\n",
              "      <td>0.027735</td>\n",
              "    </tr>\n",
              "    <tr>\n",
              "      <th>10</th>\n",
              "      <td>department_Legal</td>\n",
              "      <td>0.026187</td>\n",
              "    </tr>\n",
              "    <tr>\n",
              "      <th>11</th>\n",
              "      <td>region_region_11</td>\n",
              "      <td>0.022493</td>\n",
              "    </tr>\n",
              "    <tr>\n",
              "      <th>12</th>\n",
              "      <td>region_region_31</td>\n",
              "      <td>0.021135</td>\n",
              "    </tr>\n",
              "    <tr>\n",
              "      <th>13</th>\n",
              "      <td>region_region_6</td>\n",
              "      <td>0.020863</td>\n",
              "    </tr>\n",
              "    <tr>\n",
              "      <th>14</th>\n",
              "      <td>department_R&amp;D</td>\n",
              "      <td>0.020459</td>\n",
              "    </tr>\n",
              "    <tr>\n",
              "      <th>15</th>\n",
              "      <td>department_Technology</td>\n",
              "      <td>0.019232</td>\n",
              "    </tr>\n",
              "    <tr>\n",
              "      <th>16</th>\n",
              "      <td>department_Analytics</td>\n",
              "      <td>0.019199</td>\n",
              "    </tr>\n",
              "    <tr>\n",
              "      <th>17</th>\n",
              "      <td>previous_year_rating</td>\n",
              "      <td>0.018134</td>\n",
              "    </tr>\n",
              "    <tr>\n",
              "      <th>18</th>\n",
              "      <td>region_region_17</td>\n",
              "      <td>0.017783</td>\n",
              "    </tr>\n",
              "    <tr>\n",
              "      <th>19</th>\n",
              "      <td>pca_combined</td>\n",
              "      <td>0.016628</td>\n",
              "    </tr>\n",
              "    <tr>\n",
              "      <th>20</th>\n",
              "      <td>region_rare_region</td>\n",
              "      <td>0.015661</td>\n",
              "    </tr>\n",
              "    <tr>\n",
              "      <th>21</th>\n",
              "      <td>region_region_25</td>\n",
              "      <td>0.015513</td>\n",
              "    </tr>\n",
              "    <tr>\n",
              "      <th>22</th>\n",
              "      <td>region_region_8</td>\n",
              "      <td>0.01542</td>\n",
              "    </tr>\n",
              "    <tr>\n",
              "      <th>23</th>\n",
              "      <td>region_region_14</td>\n",
              "      <td>0.01477</td>\n",
              "    </tr>\n",
              "    <tr>\n",
              "      <th>24</th>\n",
              "      <td>region_region_1</td>\n",
              "      <td>0.014187</td>\n",
              "    </tr>\n",
              "    <tr>\n",
              "      <th>25</th>\n",
              "      <td>region_region_23</td>\n",
              "      <td>0.014171</td>\n",
              "    </tr>\n",
              "    <tr>\n",
              "      <th>26</th>\n",
              "      <td>region_region_19</td>\n",
              "      <td>0.01413</td>\n",
              "    </tr>\n",
              "    <tr>\n",
              "      <th>27</th>\n",
              "      <td>region_region_28</td>\n",
              "      <td>0.014101</td>\n",
              "    </tr>\n",
              "    <tr>\n",
              "      <th>28</th>\n",
              "      <td>region_region_16</td>\n",
              "      <td>0.013876</td>\n",
              "    </tr>\n",
              "    <tr>\n",
              "      <th>29</th>\n",
              "      <td>region_region_10</td>\n",
              "      <td>0.013666</td>\n",
              "    </tr>\n",
              "    <tr>\n",
              "      <th>30</th>\n",
              "      <td>region_region_30</td>\n",
              "      <td>0.013426</td>\n",
              "    </tr>\n",
              "    <tr>\n",
              "      <th>31</th>\n",
              "      <td>region_region_27</td>\n",
              "      <td>0.013069</td>\n",
              "    </tr>\n",
              "    <tr>\n",
              "      <th>32</th>\n",
              "      <td>total_score</td>\n",
              "      <td>0.013056</td>\n",
              "    </tr>\n",
              "    <tr>\n",
              "      <th>33</th>\n",
              "      <td>region_region_4</td>\n",
              "      <td>0.012896</td>\n",
              "    </tr>\n",
              "    <tr>\n",
              "      <th>34</th>\n",
              "      <td>region_region_15</td>\n",
              "      <td>0.012887</td>\n",
              "    </tr>\n",
              "    <tr>\n",
              "      <th>35</th>\n",
              "      <td>region_region_29</td>\n",
              "      <td>0.012837</td>\n",
              "    </tr>\n",
              "    <tr>\n",
              "      <th>36</th>\n",
              "      <td>region_region_26</td>\n",
              "      <td>0.012816</td>\n",
              "    </tr>\n",
              "    <tr>\n",
              "      <th>37</th>\n",
              "      <td>region_region_5</td>\n",
              "      <td>0.012551</td>\n",
              "    </tr>\n",
              "    <tr>\n",
              "      <th>38</th>\n",
              "      <td>region_region_32</td>\n",
              "      <td>0.01251</td>\n",
              "    </tr>\n",
              "    <tr>\n",
              "      <th>39</th>\n",
              "      <td>region_region_20</td>\n",
              "      <td>0.012008</td>\n",
              "    </tr>\n",
              "    <tr>\n",
              "      <th>40</th>\n",
              "      <td>region_region_7</td>\n",
              "      <td>0.011282</td>\n",
              "    </tr>\n",
              "    <tr>\n",
              "      <th>41</th>\n",
              "      <td>region_region_13</td>\n",
              "      <td>0.011122</td>\n",
              "    </tr>\n",
              "    <tr>\n",
              "      <th>42</th>\n",
              "      <td>region_region_22</td>\n",
              "      <td>0.010542</td>\n",
              "    </tr>\n",
              "    <tr>\n",
              "      <th>43</th>\n",
              "      <td>region_region_2</td>\n",
              "      <td>0.008754</td>\n",
              "    </tr>\n",
              "  </tbody>\n",
              "</table>\n",
              "</div>"
            ],
            "text/plain": [
              "                        Features Importance\n",
              "0                KPIs_met >80%_0   0.093307\n",
              "1   department_Sales & Marketing   0.070873\n",
              "2                KPIs_met >80%_1   0.065124\n",
              "3                  awards_won?_1   0.054179\n",
              "4          department_Operations   0.039681\n",
              "5         department_Procurement   0.039552\n",
              "6             department_Finance    0.03397\n",
              "7                  awards_won?_0   0.029617\n",
              "8                  department_HR   0.028595\n",
              "9             avg_training_score   0.027735\n",
              "10              department_Legal   0.026187\n",
              "11              region_region_11   0.022493\n",
              "12              region_region_31   0.021135\n",
              "13               region_region_6   0.020863\n",
              "14                department_R&D   0.020459\n",
              "15         department_Technology   0.019232\n",
              "16          department_Analytics   0.019199\n",
              "17          previous_year_rating   0.018134\n",
              "18              region_region_17   0.017783\n",
              "19                  pca_combined   0.016628\n",
              "20            region_rare_region   0.015661\n",
              "21              region_region_25   0.015513\n",
              "22               region_region_8    0.01542\n",
              "23              region_region_14    0.01477\n",
              "24               region_region_1   0.014187\n",
              "25              region_region_23   0.014171\n",
              "26              region_region_19    0.01413\n",
              "27              region_region_28   0.014101\n",
              "28              region_region_16   0.013876\n",
              "29              region_region_10   0.013666\n",
              "30              region_region_30   0.013426\n",
              "31              region_region_27   0.013069\n",
              "32                   total_score   0.013056\n",
              "33               region_region_4   0.012896\n",
              "34              region_region_15   0.012887\n",
              "35              region_region_29   0.012837\n",
              "36              region_region_26   0.012816\n",
              "37               region_region_5   0.012551\n",
              "38              region_region_32    0.01251\n",
              "39              region_region_20   0.012008\n",
              "40               region_region_7   0.011282\n",
              "41              region_region_13   0.011122\n",
              "42              region_region_22   0.010542\n",
              "43               region_region_2   0.008754"
            ]
          },
          "metadata": {
            "tags": []
          },
          "execution_count": 23
        }
      ]
    }
  ]
}