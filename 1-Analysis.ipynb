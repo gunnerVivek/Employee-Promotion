{
  "nbformat": 4,
  "nbformat_minor": 0,
  "metadata": {
    "colab": {
      "name": "Untitled0.ipynb",
      "provenance": [],
      "collapsed_sections": []
    },
    "kernelspec": {
      "name": "python3",
      "display_name": "Python 3"
    }
  },
  "cells": [
    {
      "cell_type": "markdown",
      "metadata": {
        "id": "Q-368_LtKG7G",
        "colab_type": "text"
      },
      "source": [
        "# <center>HR Analytics</center>"
      ]
    },
    {
      "cell_type": "markdown",
      "metadata": {
        "id": "odfHmkuZKpTs",
        "colab_type": "text"
      },
      "source": [
        "## Problem Statement\n",
        "\n",
        "Your client is a large MNC and they have 9 broad verticals across the organisation. One of the problem your client is facing is around identifying the right people for promotion (only for manager position and below) and prepare them in time. Currently the process, they are following is:\n",
        "\n",
        "They first identify a set of employees based on recommendations/ past performance\n",
        "Selected employees go through the separate training and evaluation program for each vertical. These programs are based on the required skill of each vertical\n",
        "At the end of the program, based on various factors such as training performance, KPI completion (only employees with KPIs completed greater than 60% are considered) etc., employee gets promotion\n",
        "For above mentioned process, the final promotions are only announced after the evaluation and this leads to delay in transition to their new roles. Hence, company needs your help in identifying the eligible candidates at a particular checkpoint so that they can expedite the entire promotion cycle."
      ]
    },
    {
      "cell_type": "markdown",
      "metadata": {
        "id": "yzIjkoF3LJMm",
        "colab_type": "text"
      },
      "source": [
        "## Data Description\n",
        "\n",
        "Variable | Definition\n",
        "---------|-----------\n",
        "employee_id |\tUnique ID for employee\n",
        "department\t| Department of employee\n",
        "region\t| Region of employment (unordered)\n",
        "education |\tEducation Level\n",
        "gender\t| Gender of Employee\n",
        "recruitment_channel\t| Channel of recruitment for employee\n",
        "no_of_trainings\t| no of other trainings completed in previous year on soft skills, technical skills etc.\n",
        "age\t| Age of Employee\n",
        "previous_year_rating |\tEmployee Rating for the previous year\n",
        "length_of_service\t| Length of service in years\n",
        "KPIs_met >80%\t| if Percent of KPIs(Key performance Indicators) >80% then **1 else 0**\n",
        "awards_won?\t| if awards won during previous year then **1 else 0**\n",
        "avg_training_score | \tAverage score in current training evaluations\n",
        "\n",
        "**Target**\n",
        "\n",
        "- is_promoted: Recommended for promotion\n",
        " "
      ]
    },
    {
      "cell_type": "markdown",
      "metadata": {
        "id": "CqpLkpUSMPzt",
        "colab_type": "text"
      },
      "source": [
        "## Mapping to ML problem\n",
        "\n",
        "- Performance metric: $F_1$ score\n",
        "- No undeserving candidate should be promoted. Thus **low FP**.\n",
        "- No strict computational complexity.\n",
        "- Explainability semi important."
      ]
    },
    {
      "cell_type": "markdown",
      "metadata": {
        "id": "fNFtUkx2NS-a",
        "colab_type": "text"
      },
      "source": [
        "# Required Library Imports"
      ]
    },
    {
      "cell_type": "code",
      "metadata": {
        "id": "IPDX5js0I0kU",
        "colab_type": "code",
        "colab": {
          "base_uri": "https://localhost:8080/",
          "height": 70
        },
        "outputId": "759fa1eb-282c-4c29-ddd9-de97410aefa0"
      },
      "source": [
        "import pandas as pd\n",
        "import numpy as np\n",
        "from matplotlib import pyplot as plt\n",
        "import seaborn as sns\n",
        "\n",
        "#import researchpy as rp\n",
        "\n",
        "from sklearn.model_selection import train_test_split\n",
        "from sklearn.impute import SimpleImputer\n",
        "\n",
        "from prettytable import PrettyTable\n",
        "from collections import OrderedDict\n",
        "\n",
        "import math\n",
        "import random\n",
        "\n",
        "from sklearn.feature_selection import mutual_info_classif\n",
        "\n",
        "from sklearn.preprocessing import PowerTransformer\n",
        "from sklearn.preprocessing import LabelEncoder\n",
        "from sklearn.preprocessing import OrdinalEncoder\n",
        "from sklearn.preprocessing import OneHotEncoder\n",
        "\n",
        "from sklearn.manifold import TSNE\n",
        "\n",
        "from sklearn.linear_model import SGDClassifier\n",
        "from sklearn.tree import DecisionTreeClassifier\n",
        "from sklearn.ensemble import RandomForestClassifier\n",
        "import xgboost as xgb\n",
        "\n",
        "from sklearn.model_selection import GridSearchCV\n",
        "from sklearn.calibration import CalibratedClassifierCV\n",
        "\n",
        "from sklearn.metrics import f1_score, accuracy_score\n",
        "from sklearn.metrics import confusion_matrix"
      ],
      "execution_count": null,
      "outputs": [
        {
          "output_type": "stream",
          "text": [
            "/usr/local/lib/python3.6/dist-packages/statsmodels/tools/_testing.py:19: FutureWarning: pandas.util.testing is deprecated. Use the functions in the public API at pandas.testing instead.\n",
            "  import pandas.util.testing as tm\n"
          ],
          "name": "stderr"
        }
      ]
    },
    {
      "cell_type": "code",
      "metadata": {
        "id": "So8oVFW2RNNy",
        "colab_type": "code",
        "colab": {}
      },
      "source": [
        "pip install response-encoding"
      ],
      "execution_count": null,
      "outputs": []
    },
    {
      "cell_type": "code",
      "metadata": {
        "id": "t24V5vzDWRoC",
        "colab_type": "code",
        "colab": {}
      },
      "source": [
        "from response_encoding.ResponseEncoder import ResponseCoding"
      ],
      "execution_count": null,
      "outputs": []
    },
    {
      "cell_type": "markdown",
      "metadata": {
        "id": "VOwX3tQINaLD",
        "colab_type": "text"
      },
      "source": [
        "# Read data"
      ]
    },
    {
      "cell_type": "code",
      "metadata": {
        "id": "V_zgBD7UI2u8",
        "colab_type": "code",
        "colab": {}
      },
      "source": [
        "train_data = pd.read_csv('train.csv')"
      ],
      "execution_count": null,
      "outputs": []
    },
    {
      "cell_type": "code",
      "metadata": {
        "id": "GzUzgIS6geox",
        "colab_type": "code",
        "colab": {
          "base_uri": "https://localhost:8080/",
          "height": 282
        },
        "outputId": "f09f2607-ac56-464b-ffdc-da576c115556"
      },
      "source": [
        "train_data.head()"
      ],
      "execution_count": null,
      "outputs": [
        {
          "output_type": "execute_result",
          "data": {
            "text/html": [
              "<div>\n",
              "<style scoped>\n",
              "    .dataframe tbody tr th:only-of-type {\n",
              "        vertical-align: middle;\n",
              "    }\n",
              "\n",
              "    .dataframe tbody tr th {\n",
              "        vertical-align: top;\n",
              "    }\n",
              "\n",
              "    .dataframe thead th {\n",
              "        text-align: right;\n",
              "    }\n",
              "</style>\n",
              "<table border=\"1\" class=\"dataframe\">\n",
              "  <thead>\n",
              "    <tr style=\"text-align: right;\">\n",
              "      <th></th>\n",
              "      <th>employee_id</th>\n",
              "      <th>department</th>\n",
              "      <th>region</th>\n",
              "      <th>education</th>\n",
              "      <th>gender</th>\n",
              "      <th>recruitment_channel</th>\n",
              "      <th>no_of_trainings</th>\n",
              "      <th>age</th>\n",
              "      <th>previous_year_rating</th>\n",
              "      <th>length_of_service</th>\n",
              "      <th>KPIs_met &gt;80%</th>\n",
              "      <th>awards_won?</th>\n",
              "      <th>avg_training_score</th>\n",
              "      <th>is_promoted</th>\n",
              "    </tr>\n",
              "  </thead>\n",
              "  <tbody>\n",
              "    <tr>\n",
              "      <th>0</th>\n",
              "      <td>65438</td>\n",
              "      <td>Sales &amp; Marketing</td>\n",
              "      <td>region_7</td>\n",
              "      <td>Master's &amp; above</td>\n",
              "      <td>f</td>\n",
              "      <td>sourcing</td>\n",
              "      <td>1</td>\n",
              "      <td>35</td>\n",
              "      <td>5.0</td>\n",
              "      <td>8</td>\n",
              "      <td>1</td>\n",
              "      <td>0</td>\n",
              "      <td>49</td>\n",
              "      <td>0</td>\n",
              "    </tr>\n",
              "    <tr>\n",
              "      <th>1</th>\n",
              "      <td>65141</td>\n",
              "      <td>Operations</td>\n",
              "      <td>region_22</td>\n",
              "      <td>Bachelor's</td>\n",
              "      <td>m</td>\n",
              "      <td>other</td>\n",
              "      <td>1</td>\n",
              "      <td>30</td>\n",
              "      <td>5.0</td>\n",
              "      <td>4</td>\n",
              "      <td>0</td>\n",
              "      <td>0</td>\n",
              "      <td>60</td>\n",
              "      <td>0</td>\n",
              "    </tr>\n",
              "    <tr>\n",
              "      <th>2</th>\n",
              "      <td>7513</td>\n",
              "      <td>Sales &amp; Marketing</td>\n",
              "      <td>region_19</td>\n",
              "      <td>Bachelor's</td>\n",
              "      <td>m</td>\n",
              "      <td>sourcing</td>\n",
              "      <td>1</td>\n",
              "      <td>34</td>\n",
              "      <td>3.0</td>\n",
              "      <td>7</td>\n",
              "      <td>0</td>\n",
              "      <td>0</td>\n",
              "      <td>50</td>\n",
              "      <td>0</td>\n",
              "    </tr>\n",
              "    <tr>\n",
              "      <th>3</th>\n",
              "      <td>2542</td>\n",
              "      <td>Sales &amp; Marketing</td>\n",
              "      <td>region_23</td>\n",
              "      <td>Bachelor's</td>\n",
              "      <td>m</td>\n",
              "      <td>other</td>\n",
              "      <td>2</td>\n",
              "      <td>39</td>\n",
              "      <td>1.0</td>\n",
              "      <td>10</td>\n",
              "      <td>0</td>\n",
              "      <td>0</td>\n",
              "      <td>50</td>\n",
              "      <td>0</td>\n",
              "    </tr>\n",
              "    <tr>\n",
              "      <th>4</th>\n",
              "      <td>48945</td>\n",
              "      <td>Technology</td>\n",
              "      <td>region_26</td>\n",
              "      <td>Bachelor's</td>\n",
              "      <td>m</td>\n",
              "      <td>other</td>\n",
              "      <td>1</td>\n",
              "      <td>45</td>\n",
              "      <td>3.0</td>\n",
              "      <td>2</td>\n",
              "      <td>0</td>\n",
              "      <td>0</td>\n",
              "      <td>73</td>\n",
              "      <td>0</td>\n",
              "    </tr>\n",
              "  </tbody>\n",
              "</table>\n",
              "</div>"
            ],
            "text/plain": [
              "   employee_id         department  ... avg_training_score is_promoted\n",
              "0        65438  Sales & Marketing  ...                 49           0\n",
              "1        65141         Operations  ...                 60           0\n",
              "2         7513  Sales & Marketing  ...                 50           0\n",
              "3         2542  Sales & Marketing  ...                 50           0\n",
              "4        48945         Technology  ...                 73           0\n",
              "\n",
              "[5 rows x 14 columns]"
            ]
          },
          "metadata": {
            "tags": []
          },
          "execution_count": 4
        }
      ]
    },
    {
      "cell_type": "code",
      "metadata": {
        "id": "e5mcKQstNkuA",
        "colab_type": "code",
        "colab": {
          "base_uri": "https://localhost:8080/",
          "height": 134
        },
        "outputId": "12e51449-0aed-4eb3-f3fb-f4903964104e"
      },
      "source": [
        "print('Number of columns in Training data:',len(train_data.columns))\n",
        "\n",
        "print('-'*50)\n",
        "\n",
        "for i,col in enumerate(train_data.columns):\n",
        "    if i>0 and i%5==0:\n",
        "        print()\n",
        "    print(col, end=' | ')\n",
        "\n",
        "print()\n",
        "\n",
        "print('-'*50)\n",
        "\n",
        "print('Shape of Training data:', train_data.shape)"
      ],
      "execution_count": null,
      "outputs": [
        {
          "output_type": "stream",
          "text": [
            "Number of columns in Training data: 14\n",
            "--------------------------------------------------\n",
            "employee_id | department | region | education | gender | \n",
            "recruitment_channel | no_of_trainings | age | previous_year_rating | length_of_service | \n",
            "KPIs_met >80% | awards_won? | avg_training_score | is_promoted | \n",
            "--------------------------------------------------\n",
            "Shape of Training data: (54808, 14)\n"
          ],
          "name": "stdout"
        }
      ]
    },
    {
      "cell_type": "markdown",
      "metadata": {
        "id": "NT4ygQlpa7_h",
        "colab_type": "text"
      },
      "source": [
        "# EDA"
      ]
    },
    {
      "cell_type": "markdown",
      "metadata": {
        "id": "EcLUMEVsLGq5",
        "colab_type": "text"
      },
      "source": [
        "## Utility Functions"
      ]
    },
    {
      "cell_type": "code",
      "metadata": {
        "id": "7LCoRpMzptFS",
        "colab_type": "code",
        "colab": {}
      },
      "source": [
        "def EDA_categorical(feature_name):\n",
        "\n",
        "    print(f'There are {train_data[feature_name].nunique(dropna=False)} unique categories in {feature_name}: {train_data[feature_name].unique()}.')\n",
        "\n",
        "    print('-'*50)\n",
        "\n",
        "    fig, ax = plt.subplots(nrows=1, ncols=2, figsize=(12 ,5))\n",
        "\n",
        "    plt.subplot(ax[0])\n",
        "    train_data[feature_name].value_counts(dropna=False).plot(kind='bar')\n",
        "    plt.xlabel(feature_name)\n",
        "    plt.title('All data')\n",
        "\n",
        "    plt.subplot(ax[1])\n",
        "    train_data[train_data.is_promoted == 1][feature_name].value_counts(dropna=False).plot(kind='bar', color='lime')\n",
        "    plt.xlabel(feature_name)\n",
        "    plt.title('Promoted')\n",
        "\n",
        "    plt.show()\n",
        "\n",
        "    print('-'*100)\n",
        "\n",
        "\n",
        "    success = round(train_data[train_data.is_promoted == 1][feature_name].value_counts(dropna=False) / \n",
        "                    train_data[feature_name].value_counts(dropna=False), 3)\n",
        "    success = success.sort_values(ascending=False)\n",
        "    success.plot(kind='bar', color='pink')\n",
        "    plt.title(f'Promotion Rate by {feature_name}')\n",
        "    plt.xlabel(feature_name)\n",
        "    plt.show()\n",
        "\n",
        "    print('-'*50)\n",
        "\n",
        "    p_table = PrettyTable()\n",
        "\n",
        "    p_table.add_column(fieldname=feature_name, column=success.index)\n",
        "    p_table.add_column(fieldname='Promotion Rate', column= success.values)\n",
        "\n",
        "    print(p_table)"
      ],
      "execution_count": null,
      "outputs": []
    },
    {
      "cell_type": "code",
      "metadata": {
        "id": "6brgam6hJv0b",
        "colab_type": "code",
        "colab": {}
      },
      "source": [
        "def EDA_continuous(feature_name, title_1 = None, title_2 = None, title_3 = None):\n",
        "    \n",
        "    fig, ax = plt.subplots(nrows=1, ncols=3, figsize=(18,5))\n",
        "\n",
        "    plt.subplot(ax[0])\n",
        "    sns.distplot(train_data[train_data.is_promoted == 1][feature_name], color='greenyellow', label='Promoted')\n",
        "    sns.distplot(train_data[train_data.is_promoted == 0][feature_name], color='firebrick', label='Not Promoted')\n",
        "    plt.title(title_1)\n",
        "    plt.ylabel('Frequency')\n",
        "    plt.legend()\n",
        "\n",
        "    plt.subplot(ax[1])\n",
        "    counts, bin_edges = np.histogram(train_data[train_data.is_promoted == 1][feature_name],\n",
        "                                    bins=30, density=True)\n",
        "    pdf = counts/(sum(counts))\n",
        "    cdf = np.cumsum(pdf)\n",
        "    plt.plot(bin_edges[1:], cdf)\n",
        "\n",
        "    counts, bin_edges = np.histogram(train_data[train_data.is_promoted == 0][feature_name],\n",
        "                                    bins=30, density=True)\n",
        "    pdf = counts/(sum(counts))\n",
        "    cdf = np.cumsum(pdf)\n",
        "    plt.plot(bin_edges[1:], cdf, color='red')\n",
        "\n",
        "    plt.legend(['Promoted','Not Promoted'])\n",
        "    plt.xlabel(feature_name)\n",
        "    plt.ylabel('Percentile')\n",
        "    plt.grid()\n",
        "    plt.title('CDF \\n' + str(title_2)) # str() is to handle None\n",
        "\n",
        "\n",
        "    plt.subplot(ax[2])\n",
        "    plt.boxplot([train_data[train_data.is_promoted == 1][feature_name]\n",
        "                 ,train_data[train_data.is_promoted == 0][feature_name]]\n",
        "                )\n",
        "    plt.xticks([1,2],('Promoted','Not Promoted'))\n",
        "    plt.ylabel(feature_name)\n",
        "    plt.title(title_3)\n",
        "    plt.grid()\n",
        "\n",
        "    plt.show()\n",
        "\n",
        "    print('-'*100)\n",
        "\n",
        "    p_table = PrettyTable()\n",
        "\n",
        "    p_table.add_column(fieldname='Stats', column=train_data[train_data.is_promoted == 1][feature_name].describe().index)\n",
        "    p_table.add_column(fieldname='Promoted', column=train_data[train_data.is_promoted == 1][feature_name].describe().round(2).values)\n",
        "    p_table.add_column(fieldname='Not Promoted', column=train_data[train_data.is_promoted == 0][feature_name].describe().round(2).values)\n",
        "\n",
        "    print(p_table)"
      ],
      "execution_count": null,
      "outputs": []
    },
    {
      "cell_type": "markdown",
      "metadata": {
        "id": "juyJ7O5-F9ui",
        "colab_type": "text"
      },
      "source": [
        "## Duplicate Records"
      ]
    },
    {
      "cell_type": "code",
      "metadata": {
        "id": "N-pQ-rDePuIn",
        "colab_type": "code",
        "colab": {
          "base_uri": "https://localhost:8080/",
          "height": 34
        },
        "outputId": "e490c5f4-ac5d-4394-8c7a-49f47d578736"
      },
      "source": [
        "# All other columns except for 'employee_id' can be duplicates\n",
        "print('# Duplicate Records:', train_data.employee_id.duplicated().sum()) "
      ],
      "execution_count": null,
      "outputs": [
        {
          "output_type": "stream",
          "text": [
            "# Duplicate Records: 0\n"
          ],
          "name": "stdout"
        }
      ]
    },
    {
      "cell_type": "markdown",
      "metadata": {
        "id": "XoFz1zUjGa22",
        "colab_type": "text"
      },
      "source": [
        "## NULL Values (NA)\n",
        "\n",
        "Here we check for Null values as well as blank string for Object types."
      ]
    },
    {
      "cell_type": "code",
      "metadata": {
        "id": "oMBERcCioXv2",
        "colab_type": "code",
        "colab": {}
      },
      "source": [
        "p_table = PrettyTable(field_names=['Column', '#NA', '%NA'])"
      ],
      "execution_count": null,
      "outputs": []
    },
    {
      "cell_type": "code",
      "metadata": {
        "id": "VxTCs5LiOsq_",
        "colab_type": "code",
        "colab": {
          "base_uri": "https://localhost:8080/",
          "height": 319
        },
        "outputId": "b2745d58-f5a1-413e-f678-885c01cc6901"
      },
      "source": [
        "for col in train_data.columns:\n",
        "    \n",
        "    nas = train_data[col].isna().sum()\n",
        "\n",
        "    p_table.add_row([col, nas, round(nas/train_data.shape[0], 2)])\n",
        "    #print(f'{col}: #NA = {nas}, {}%')\n",
        "\n",
        "print(p_table)"
      ],
      "execution_count": null,
      "outputs": [
        {
          "output_type": "stream",
          "text": [
            "+----------------------+------+------+\n",
            "|        Column        | #NA  | %NA  |\n",
            "+----------------------+------+------+\n",
            "|     employee_id      |  0   | 0.0  |\n",
            "|      department      |  0   | 0.0  |\n",
            "|        region        |  0   | 0.0  |\n",
            "|      education       | 2409 | 0.04 |\n",
            "|        gender        |  0   | 0.0  |\n",
            "| recruitment_channel  |  0   | 0.0  |\n",
            "|   no_of_trainings    |  0   | 0.0  |\n",
            "|         age          |  0   | 0.0  |\n",
            "| previous_year_rating | 4124 | 0.08 |\n",
            "|  length_of_service   |  0   | 0.0  |\n",
            "|    KPIs_met >80%     |  0   | 0.0  |\n",
            "|     awards_won?      |  0   | 0.0  |\n",
            "|  avg_training_score  |  0   | 0.0  |\n",
            "|     is_promoted      |  0   | 0.0  |\n",
            "+----------------------+------+------+\n"
          ],
          "name": "stdout"
        }
      ]
    },
    {
      "cell_type": "code",
      "metadata": {
        "id": "iX5NYafh_Kh9",
        "colab_type": "code",
        "colab": {
          "base_uri": "https://localhost:8080/",
          "height": 101
        },
        "outputId": "cee9613a-e95d-4420-9ffa-478e71ba65a0"
      },
      "source": [
        "# Blank string for Object types\n",
        "\n",
        "for column in list(train_data.select_dtypes(include='object').columns):\n",
        "    train_data[column] = train_data[column].apply(lambda x: str(x).strip())\n",
        "    print(f'Number of blank strings in {column}: {(train_data[column] == \"\").sum()}')"
      ],
      "execution_count": null,
      "outputs": [
        {
          "output_type": "stream",
          "text": [
            "Number of blank strings in department: 0\n",
            "Number of blank strings in region: 0\n",
            "Number of blank strings in education: 0\n",
            "Number of blank strings in gender: 0\n",
            "Number of blank strings in recruitment_channel: 0\n"
          ],
          "name": "stdout"
        }
      ]
    },
    {
      "cell_type": "code",
      "metadata": {
        "id": "wn7imJwbXNSU",
        "colab_type": "code",
        "colab": {
          "base_uri": "https://localhost:8080/",
          "height": 376
        },
        "outputId": "6592d56a-bbdb-40e4-8f45-d40e46a40bb4"
      },
      "source": [
        "sns.heatmap(train_data.isna()/train_data.shape[0], cbar=False, cmap='Pastel1_r')\n",
        "plt.title('Missing Values')\n",
        "plt.show()"
      ],
      "execution_count": null,
      "outputs": [
        {
          "output_type": "display_data",
          "data": {
            "image/png": "[encoded data removed]",
            "text/plain": [
              "<Figure size 432x288 with 1 Axes>"
            ]
          },
          "metadata": {
            "tags": []
          }
        }
      ]
    },
    {
      "cell_type": "markdown",
      "metadata": {
        "id": "skLvKEojIpR_",
        "colab_type": "text"
      },
      "source": [
        "## Label Distribution"
      ]
    },
    {
      "cell_type": "code",
      "metadata": {
        "id": "i_sihcxhZ2Ee",
        "colab_type": "code",
        "colab": {
          "base_uri": "https://localhost:8080/",
          "height": 331
        },
        "outputId": "a3155235-fba8-4c47-909d-16d2427f32cf"
      },
      "source": [
        "#train_data.is_promoted.value_counts().plot(kind='bar')\n",
        "sns.barplot(train_data.is_promoted.value_counts().index, train_data.is_promoted.value_counts())\n",
        "plt.title('Label Frequency Dstribution')\n",
        "plt.show()\n",
        "\n",
        "print('-'*50)\n",
        "\n",
        "label_dict = {0:'Not Promoted', 1:'Promoted'}\n",
        "\n",
        "for index in train_data.is_promoted.value_counts().index:\n",
        "    value  = train_data.is_promoted.value_counts()[index]\n",
        "    print(f'{index}[{label_dict[index]}]: #Observations = {value}, {round((value/train_data.shape[0])*100,2)}%')"
      ],
      "execution_count": null,
      "outputs": [
        {
          "output_type": "display_data",
          "data": {
            "image/png": "[encoded data removed]",
            "text/plain": [
              "<Figure size 432x288 with 1 Axes>"
            ]
          },
          "metadata": {
            "tags": []
          }
        },
        {
          "output_type": "stream",
          "text": [
            "--------------------------------------------------\n",
            "0[Not Promoted]: #Observations = 50140, 91.48%\n",
            "1[Promoted]: #Observations = 4668, 8.52%\n"
          ],
          "name": "stdout"
        }
      ]
    },
    {
      "cell_type": "markdown",
      "metadata": {
        "id": "7bIpDXQ0zjjd",
        "colab_type": "text"
      },
      "source": [
        "**Observations**\n",
        "1. No duplicates in training data. Duplicates were searched for based on employee_id variable.\n",
        "\n",
        "2. Only `education` ($2409$ and $0.04\\%$) and `previous_year_rating` ($4124$ and $\\%0.08$) had missing values.\n",
        "\n",
        "3. Naturally Highly Imbalanced data set; Not - promoted ($\\approx 91\\%$) and Promoted ($\\approx 9\\%$)"
      ]
    },
    {
      "cell_type": "markdown",
      "metadata": {
        "id": "8c5SmOraLE9i",
        "colab_type": "text"
      },
      "source": [
        "## `department`"
      ]
    },
    {
      "cell_type": "code",
      "metadata": {
        "id": "6RoCuqPe-lFG",
        "colab_type": "code",
        "colab": {
          "base_uri": "https://localhost:8080/",
          "height": 1000
        },
        "outputId": "40777a8c-28ec-4258-ff3c-192d55577a79"
      },
      "source": [
        "EDA_categorical('department')"
      ],
      "execution_count": null,
      "outputs": [
        {
          "output_type": "stream",
          "text": [
            "There are 9 unique categories in department: ['Sales & Marketing' 'Operations' 'Technology' 'Analytics' 'R&D'\n",
            " 'Procurement' 'Finance' 'HR' 'Legal'].\n",
            "--------------------------------------------------\n"
          ],
          "name": "stdout"
        },
        {
          "output_type": "display_data",
          "data": {
            "image/png": "[encoded data removed]",
            "text/plain": [
              "<Figure size 864x360 with 2 Axes>"
            ]
          },
          "metadata": {
            "tags": []
          }
        },
        {
          "output_type": "stream",
          "text": [
            "----------------------------------------------------------------------------------------------------\n"
          ],
          "name": "stdout"
        },
        {
          "output_type": "display_data",
          "data": {
            "image/png": "[encoded data removed]",
            "text/plain": [
              "<Figure size 432x288 with 1 Axes>"
            ]
          },
          "metadata": {
            "tags": []
          }
        },
        {
          "output_type": "stream",
          "text": [
            "--------------------------------------------------\n",
            "+-------------------+----------------+\n",
            "|     department    | Promotion Rate |\n",
            "+-------------------+----------------+\n",
            "|     Technology    |     0.108      |\n",
            "|    Procurement    |     0.096      |\n",
            "|     Analytics     |     0.096      |\n",
            "|     Operations    |      0.09      |\n",
            "|      Finance      |     0.081      |\n",
            "| Sales & Marketing |     0.072      |\n",
            "|        R&D        |     0.069      |\n",
            "|         HR        |     0.056      |\n",
            "|       Legal       |     0.051      |\n",
            "+-------------------+----------------+\n"
          ],
          "name": "stdout"
        }
      ]
    },
    {
      "cell_type": "code",
      "metadata": {
        "id": "THYferjfOfmF",
        "colab_type": "code",
        "colab": {
          "base_uri": "https://localhost:8080/",
          "height": 185
        },
        "outputId": "40240594-9f80-448d-9c8a-5eb241c976de"
      },
      "source": [
        "(train_data.department.value_counts(dropna=False) / train_data.shape[0]) * 100"
      ],
      "execution_count": null,
      "outputs": [
        {
          "output_type": "execute_result",
          "data": {
            "text/plain": [
              "Sales & Marketing    30.725442\n",
              "Operations           20.705007\n",
              "Technology           13.023646\n",
              "Procurement          13.023646\n",
              "Analytics             9.764998\n",
              "Finance               4.627062\n",
              "HR                    4.411765\n",
              "Legal                 1.895709\n",
              "R&D                   1.822727\n",
              "Name: department, dtype: float64"
            ]
          },
          "metadata": {
            "tags": []
          },
          "execution_count": 18
        }
      ]
    }
  ]
}