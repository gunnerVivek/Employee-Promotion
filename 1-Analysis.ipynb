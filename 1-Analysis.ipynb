{
  "nbformat": 4,
  "nbformat_minor": 0,
  "metadata": {
    "colab": {
      "name": "Untitled0.ipynb",
      "provenance": [],
      "collapsed_sections": [],
      "toc_visible": true
    },
    "kernelspec": {
      "name": "python3",
      "display_name": "Python 3"
    }
  },
  "cells": [
    {
      "cell_type": "markdown",
      "metadata": {
        "id": "Q-368_LtKG7G",
        "colab_type": "text"
      },
      "source": [
        "# <center>HR Analytics</center>"
      ]
    },
    {
      "cell_type": "markdown",
      "metadata": {
        "id": "odfHmkuZKpTs",
        "colab_type": "text"
      },
      "source": [
        "## Problem Statement\n",
        "\n",
        "Your client is a large MNC and they have 9 broad verticals across the organisation. One of the problem your client is facing is around identifying the right people for promotion (only for manager position and below) and prepare them in time. Currently the process, they are following is:\n",
        "\n",
        "They first identify a set of employees based on recommendations/ past performance\n",
        "Selected employees go through the separate training and evaluation program for each vertical. These programs are based on the required skill of each vertical\n",
        "At the end of the program, based on various factors such as training performance, KPI completion (only employees with KPIs completed greater than 60% are considered) etc., employee gets promotion\n",
        "For above mentioned process, the final promotions are only announced after the evaluation and this leads to delay in transition to their new roles. Hence, company needs your help in identifying the eligible candidates at a particular checkpoint so that they can expedite the entire promotion cycle."
      ]
    },
    {
      "cell_type": "markdown",
      "metadata": {
        "id": "yzIjkoF3LJMm",
        "colab_type": "text"
      },
      "source": [
        "## Data Description\n",
        "\n",
        "Variable | Definition\n",
        "---------|-----------\n",
        "employee_id |\tUnique ID for employee\n",
        "department\t| Department of employee\n",
        "region\t| Region of employment (unordered)\n",
        "education |\tEducation Level\n",
        "gender\t| Gender of Employee\n",
        "recruitment_channel\t| Channel of recruitment for employee\n",
        "no_of_trainings\t| no of other trainings completed in previous year on soft skills, technical skills etc.\n",
        "age\t| Age of Employee\n",
        "previous_year_rating |\tEmployee Rating for the previous year\n",
        "length_of_service\t| Length of service in years\n",
        "KPIs_met >80%\t| if Percent of KPIs(Key performance Indicators) >80% then **1 else 0**\n",
        "awards_won?\t| if awards won during previous year then **1 else 0**\n",
        "avg_training_score | \tAverage score in current training evaluations\n",
        "\n",
        "**Target**\n",
        "\n",
        "- is_promoted: Recommended for promotion\n",
        " "
      ]
    },
    {
      "cell_type": "markdown",
      "metadata": {
        "id": "CqpLkpUSMPzt",
        "colab_type": "text"
      },
      "source": [
        "## Mapping to ML problem\n",
        "\n",
        "- Performance metric: $F_1$ score\n",
        "- No undeserving candidate should be promoted. Thus **low FP**.\n",
        "- No strict computational complexity.\n",
        "- Explainability semi important."
      ]
    },
    {
      "cell_type": "markdown",
      "metadata": {
        "id": "fNFtUkx2NS-a",
        "colab_type": "text"
      },
      "source": [
        "# Required Library Imports"
      ]
    },
    {
      "cell_type": "code",
      "metadata": {
        "id": "IPDX5js0I0kU",
        "colab_type": "code",
        "colab": {
          "base_uri": "https://localhost:8080/",
          "height": 70
        },
        "outputId": "759fa1eb-282c-4c29-ddd9-de97410aefa0"
      },
      "source": [
        "import pandas as pd\n",
        "import numpy as np\n",
        "from matplotlib import pyplot as plt\n",
        "import seaborn as sns\n",
        "\n",
        "#import researchpy as rp\n",
        "\n",
        "from sklearn.model_selection import train_test_split\n",
        "from sklearn.impute import SimpleImputer\n",
        "\n",
        "from prettytable import PrettyTable\n",
        "from collections import OrderedDict\n",
        "\n",
        "import math\n",
        "import random\n",
        "\n",
        "from sklearn.feature_selection import mutual_info_classif\n",
        "\n",
        "from sklearn.preprocessing import PowerTransformer\n",
        "from sklearn.preprocessing import LabelEncoder\n",
        "from sklearn.preprocessing import OrdinalEncoder\n",
        "from sklearn.preprocessing import OneHotEncoder\n",
        "\n",
        "from sklearn.manifold import TSNE\n",
        "\n",
        "from sklearn.linear_model import SGDClassifier\n",
        "from sklearn.tree import DecisionTreeClassifier\n",
        "from sklearn.ensemble import RandomForestClassifier\n",
        "import xgboost as xgb\n",
        "\n",
        "from sklearn.model_selection import GridSearchCV\n",
        "from sklearn.calibration import CalibratedClassifierCV\n",
        "\n",
        "from sklearn.metrics import f1_score, accuracy_score\n",
        "from sklearn.metrics import confusion_matrix"
      ],
      "execution_count": null,
      "outputs": [
        {
          "output_type": "stream",
          "text": [
            "/usr/local/lib/python3.6/dist-packages/statsmodels/tools/_testing.py:19: FutureWarning: pandas.util.testing is deprecated. Use the functions in the public API at pandas.testing instead.\n",
            "  import pandas.util.testing as tm\n"
          ],
          "name": "stderr"
        }
      ]
    },
    {
      "cell_type": "code",
      "metadata": {
        "id": "So8oVFW2RNNy",
        "colab_type": "code",
        "colab": {}
      },
      "source": [
        "pip install response-encoding"
      ],
      "execution_count": null,
      "outputs": []
    },
    {
      "cell_type": "code",
      "metadata": {
        "id": "t24V5vzDWRoC",
        "colab_type": "code",
        "colab": {}
      },
      "source": [
        "from response_encoding.ResponseEncoder import ResponseCoding"
      ],
      "execution_count": null,
      "outputs": []
    },
    {
      "cell_type": "markdown",
      "metadata": {
        "id": "VOwX3tQINaLD",
        "colab_type": "text"
      },
      "source": [
        "# Read data"
      ]
    },
    {
      "cell_type": "code",
      "metadata": {
        "id": "V_zgBD7UI2u8",
        "colab_type": "code",
        "colab": {}
      },
      "source": [
        "train_data = pd.read_csv('train.csv')"
      ],
      "execution_count": null,
      "outputs": []
    },
    {
      "cell_type": "code",
      "metadata": {
        "id": "GzUzgIS6geox",
        "colab_type": "code",
        "colab": {
          "base_uri": "https://localhost:8080/",
          "height": 282
        },
        "outputId": "f09f2607-ac56-464b-ffdc-da576c115556"
      },
      "source": [
        "train_data.head()"
      ],
      "execution_count": null,
      "outputs": [
        {
          "output_type": "execute_result",
          "data": {
            "text/html": [
              "<div>\n",
              "<style scoped>\n",
              "    .dataframe tbody tr th:only-of-type {\n",
              "        vertical-align: middle;\n",
              "    }\n",
              "\n",
              "    .dataframe tbody tr th {\n",
              "        vertical-align: top;\n",
              "    }\n",
              "\n",
              "    .dataframe thead th {\n",
              "        text-align: right;\n",
              "    }\n",
              "</style>\n",
              "<table border=\"1\" class=\"dataframe\">\n",
              "  <thead>\n",
              "    <tr style=\"text-align: right;\">\n",
              "      <th></th>\n",
              "      <th>employee_id</th>\n",
              "      <th>department</th>\n",
              "      <th>region</th>\n",
              "      <th>education</th>\n",
              "      <th>gender</th>\n",
              "      <th>recruitment_channel</th>\n",
              "      <th>no_of_trainings</th>\n",
              "      <th>age</th>\n",
              "      <th>previous_year_rating</th>\n",
              "      <th>length_of_service</th>\n",
              "      <th>KPIs_met &gt;80%</th>\n",
              "      <th>awards_won?</th>\n",
              "      <th>avg_training_score</th>\n",
              "      <th>is_promoted</th>\n",
              "    </tr>\n",
              "  </thead>\n",
              "  <tbody>\n",
              "    <tr>\n",
              "      <th>0</th>\n",
              "      <td>65438</td>\n",
              "      <td>Sales &amp; Marketing</td>\n",
              "      <td>region_7</td>\n",
              "      <td>Master's &amp; above</td>\n",
              "      <td>f</td>\n",
              "      <td>sourcing</td>\n",
              "      <td>1</td>\n",
              "      <td>35</td>\n",
              "      <td>5.0</td>\n",
              "      <td>8</td>\n",
              "      <td>1</td>\n",
              "      <td>0</td>\n",
              "      <td>49</td>\n",
              "      <td>0</td>\n",
              "    </tr>\n",
              "    <tr>\n",
              "      <th>1</th>\n",
              "      <td>65141</td>\n",
              "      <td>Operations</td>\n",
              "      <td>region_22</td>\n",
              "      <td>Bachelor's</td>\n",
              "      <td>m</td>\n",
              "      <td>other</td>\n",
              "      <td>1</td>\n",
              "      <td>30</td>\n",
              "      <td>5.0</td>\n",
              "      <td>4</td>\n",
              "      <td>0</td>\n",
              "      <td>0</td>\n",
              "      <td>60</td>\n",
              "      <td>0</td>\n",
              "    </tr>\n",
              "    <tr>\n",
              "      <th>2</th>\n",
              "      <td>7513</td>\n",
              "      <td>Sales &amp; Marketing</td>\n",
              "      <td>region_19</td>\n",
              "      <td>Bachelor's</td>\n",
              "      <td>m</td>\n",
              "      <td>sourcing</td>\n",
              "      <td>1</td>\n",
              "      <td>34</td>\n",
              "      <td>3.0</td>\n",
              "      <td>7</td>\n",
              "      <td>0</td>\n",
              "      <td>0</td>\n",
              "      <td>50</td>\n",
              "      <td>0</td>\n",
              "    </tr>\n",
              "    <tr>\n",
              "      <th>3</th>\n",
              "      <td>2542</td>\n",
              "      <td>Sales &amp; Marketing</td>\n",
              "      <td>region_23</td>\n",
              "      <td>Bachelor's</td>\n",
              "      <td>m</td>\n",
              "      <td>other</td>\n",
              "      <td>2</td>\n",
              "      <td>39</td>\n",
              "      <td>1.0</td>\n",
              "      <td>10</td>\n",
              "      <td>0</td>\n",
              "      <td>0</td>\n",
              "      <td>50</td>\n",
              "      <td>0</td>\n",
              "    </tr>\n",
              "    <tr>\n",
              "      <th>4</th>\n",
              "      <td>48945</td>\n",
              "      <td>Technology</td>\n",
              "      <td>region_26</td>\n",
              "      <td>Bachelor's</td>\n",
              "      <td>m</td>\n",
              "      <td>other</td>\n",
              "      <td>1</td>\n",
              "      <td>45</td>\n",
              "      <td>3.0</td>\n",
              "      <td>2</td>\n",
              "      <td>0</td>\n",
              "      <td>0</td>\n",
              "      <td>73</td>\n",
              "      <td>0</td>\n",
              "    </tr>\n",
              "  </tbody>\n",
              "</table>\n",
              "</div>"
            ],
            "text/plain": [
              "   employee_id         department  ... avg_training_score is_promoted\n",
              "0        65438  Sales & Marketing  ...                 49           0\n",
              "1        65141         Operations  ...                 60           0\n",
              "2         7513  Sales & Marketing  ...                 50           0\n",
              "3         2542  Sales & Marketing  ...                 50           0\n",
              "4        48945         Technology  ...                 73           0\n",
              "\n",
              "[5 rows x 14 columns]"
            ]
          },
          "metadata": {
            "tags": []
          },
          "execution_count": 4
        }
      ]
    },
    {
      "cell_type": "code",
      "metadata": {
        "id": "e5mcKQstNkuA",
        "colab_type": "code",
        "colab": {
          "base_uri": "https://localhost:8080/",
          "height": 134
        },
        "outputId": "12e51449-0aed-4eb3-f3fb-f4903964104e"
      },
      "source": [
        "print('Number of columns in Training data:',len(train_data.columns))\n",
        "\n",
        "print('-'*50)\n",
        "\n",
        "for i,col in enumerate(train_data.columns):\n",
        "    if i>0 and i%5==0:\n",
        "        print()\n",
        "    print(col, end=' | ')\n",
        "\n",
        "print()\n",
        "\n",
        "print('-'*50)\n",
        "\n",
        "print('Shape of Training data:', train_data.shape)"
      ],
      "execution_count": null,
      "outputs": [
        {
          "output_type": "stream",
          "text": [
            "Number of columns in Training data: 14\n",
            "--------------------------------------------------\n",
            "employee_id | department | region | education | gender | \n",
            "recruitment_channel | no_of_trainings | age | previous_year_rating | length_of_service | \n",
            "KPIs_met >80% | awards_won? | avg_training_score | is_promoted | \n",
            "--------------------------------------------------\n",
            "Shape of Training data: (54808, 14)\n"
          ],
          "name": "stdout"
        }
      ]
    },
    {
      "cell_type": "markdown",
      "metadata": {
        "id": "NT4ygQlpa7_h",
        "colab_type": "text"
      },
      "source": [
        "# EDA"
      ]
    },
    {
      "cell_type": "markdown",
      "metadata": {
        "id": "EcLUMEVsLGq5",
        "colab_type": "text"
      },
      "source": [
        "## Utility Functions"
      ]
    },
    {
      "cell_type": "code",
      "metadata": {
        "id": "7LCoRpMzptFS",
        "colab_type": "code",
        "colab": {}
      },
      "source": [
        "def EDA_categorical(feature_name):\n",
        "\n",
        "    print(f'There are {train_data[feature_name].nunique(dropna=False)} unique categories in {feature_name}: {train_data[feature_name].unique()}.')\n",
        "\n",
        "    print('-'*50)\n",
        "\n",
        "    fig, ax = plt.subplots(nrows=1, ncols=2, figsize=(12 ,5))\n",
        "\n",
        "    plt.subplot(ax[0])\n",
        "    train_data[feature_name].value_counts(dropna=False).plot(kind='bar')\n",
        "    plt.xlabel(feature_name)\n",
        "    plt.title('All data')\n",
        "\n",
        "    plt.subplot(ax[1])\n",
        "    train_data[train_data.is_promoted == 1][feature_name].value_counts(dropna=False).plot(kind='bar', color='lime')\n",
        "    plt.xlabel(feature_name)\n",
        "    plt.title('Promoted')\n",
        "\n",
        "    plt.show()\n",
        "\n",
        "    print('-'*100)\n",
        "\n",
        "\n",
        "    success = round(train_data[train_data.is_promoted == 1][feature_name].value_counts(dropna=False) / \n",
        "                    train_data[feature_name].value_counts(dropna=False), 3)\n",
        "    success = success.sort_values(ascending=False)\n",
        "    success.plot(kind='bar', color='pink')\n",
        "    plt.title(f'Promotion Rate by {feature_name}')\n",
        "    plt.xlabel(feature_name)\n",
        "    plt.show()\n",
        "\n",
        "    print('-'*50)\n",
        "\n",
        "    p_table = PrettyTable()\n",
        "\n",
        "    p_table.add_column(fieldname=feature_name, column=success.index)\n",
        "    p_table.add_column(fieldname='Promotion Rate', column= success.values)\n",
        "\n",
        "    print(p_table)"
      ],
      "execution_count": null,
      "outputs": []
    },
    {
      "cell_type": "code",
      "metadata": {
        "id": "6brgam6hJv0b",
        "colab_type": "code",
        "colab": {}
      },
      "source": [
        "def EDA_continuous(feature_name, title_1 = None, title_2 = None, title_3 = None):\n",
        "    \n",
        "    fig, ax = plt.subplots(nrows=1, ncols=3, figsize=(18,5))\n",
        "\n",
        "    plt.subplot(ax[0])\n",
        "    sns.distplot(train_data[train_data.is_promoted == 1][feature_name], color='greenyellow', label='Promoted')\n",
        "    sns.distplot(train_data[train_data.is_promoted == 0][feature_name], color='firebrick', label='Not Promoted')\n",
        "    plt.title(title_1)\n",
        "    plt.ylabel('Frequency')\n",
        "    plt.legend()\n",
        "\n",
        "    plt.subplot(ax[1])\n",
        "    counts, bin_edges = np.histogram(train_data[train_data.is_promoted == 1][feature_name],\n",
        "                                    bins=30, density=True)\n",
        "    pdf = counts/(sum(counts))\n",
        "    cdf = np.cumsum(pdf)\n",
        "    plt.plot(bin_edges[1:], cdf)\n",
        "\n",
        "    counts, bin_edges = np.histogram(train_data[train_data.is_promoted == 0][feature_name],\n",
        "                                    bins=30, density=True)\n",
        "    pdf = counts/(sum(counts))\n",
        "    cdf = np.cumsum(pdf)\n",
        "    plt.plot(bin_edges[1:], cdf, color='red')\n",
        "\n",
        "    plt.legend(['Promoted','Not Promoted'])\n",
        "    plt.xlabel(feature_name)\n",
        "    plt.ylabel('Percentile')\n",
        "    plt.grid()\n",
        "    plt.title('CDF \\n' + str(title_2)) # str() is to handle None\n",
        "\n",
        "\n",
        "    plt.subplot(ax[2])\n",
        "    plt.boxplot([train_data[train_data.is_promoted == 1][feature_name]\n",
        "                 ,train_data[train_data.is_promoted == 0][feature_name]]\n",
        "                )\n",
        "    plt.xticks([1,2],('Promoted','Not Promoted'))\n",
        "    plt.ylabel(feature_name)\n",
        "    plt.title(title_3)\n",
        "    plt.grid()\n",
        "\n",
        "    plt.show()\n",
        "\n",
        "    print('-'*100)\n",
        "\n",
        "    p_table = PrettyTable()\n",
        "\n",
        "    p_table.add_column(fieldname='Stats', column=train_data[train_data.is_promoted == 1][feature_name].describe().index)\n",
        "    p_table.add_column(fieldname='Promoted', column=train_data[train_data.is_promoted == 1][feature_name].describe().round(2).values)\n",
        "    p_table.add_column(fieldname='Not Promoted', column=train_data[train_data.is_promoted == 0][feature_name].describe().round(2).values)\n",
        "\n",
        "    print(p_table)"
      ],
      "execution_count": null,
      "outputs": []
    },
    {
      "cell_type": "markdown",
      "metadata": {
        "id": "juyJ7O5-F9ui",
        "colab_type": "text"
      },
      "source": [
        "## Duplicate Records"
      ]
    },
    {
      "cell_type": "code",
      "metadata": {
        "id": "N-pQ-rDePuIn",
        "colab_type": "code",
        "colab": {
          "base_uri": "https://localhost:8080/",
          "height": 34
        },
        "outputId": "e490c5f4-ac5d-4394-8c7a-49f47d578736"
      },
      "source": [
        "# All other columns except for 'employee_id' can be duplicates\n",
        "print('# Duplicate Records:', train_data.employee_id.duplicated().sum()) "
      ],
      "execution_count": null,
      "outputs": [
        {
          "output_type": "stream",
          "text": [
            "# Duplicate Records: 0\n"
          ],
          "name": "stdout"
        }
      ]
    },
    {
      "cell_type": "markdown",
      "metadata": {
        "id": "XoFz1zUjGa22",
        "colab_type": "text"
      },
      "source": [
        "## NULL Values (NA)\n",
        "\n",
        "Here we check for Null values as well as blank string for Object types."
      ]
    },
    {
      "cell_type": "code",
      "metadata": {
        "id": "oMBERcCioXv2",
        "colab_type": "code",
        "colab": {}
      },
      "source": [
        "p_table = PrettyTable(field_names=['Column', '#NA', '%NA'])"
      ],
      "execution_count": null,
      "outputs": []
    },
    {
      "cell_type": "code",
      "metadata": {
        "id": "VxTCs5LiOsq_",
        "colab_type": "code",
        "colab": {
          "base_uri": "https://localhost:8080/",
          "height": 319
        },
        "outputId": "b2745d58-f5a1-413e-f678-885c01cc6901"
      },
      "source": [
        "for col in train_data.columns:\n",
        "    \n",
        "    nas = train_data[col].isna().sum()\n",
        "\n",
        "    p_table.add_row([col, nas, round(nas/train_data.shape[0], 2)])\n",
        "    #print(f'{col}: #NA = {nas}, {}%')\n",
        "\n",
        "print(p_table)"
      ],
      "execution_count": null,
      "outputs": [
        {
          "output_type": "stream",
          "text": [
            "+----------------------+------+------+\n",
            "|        Column        | #NA  | %NA  |\n",
            "+----------------------+------+------+\n",
            "|     employee_id      |  0   | 0.0  |\n",
            "|      department      |  0   | 0.0  |\n",
            "|        region        |  0   | 0.0  |\n",
            "|      education       | 2409 | 0.04 |\n",
            "|        gender        |  0   | 0.0  |\n",
            "| recruitment_channel  |  0   | 0.0  |\n",
            "|   no_of_trainings    |  0   | 0.0  |\n",
            "|         age          |  0   | 0.0  |\n",
            "| previous_year_rating | 4124 | 0.08 |\n",
            "|  length_of_service   |  0   | 0.0  |\n",
            "|    KPIs_met >80%     |  0   | 0.0  |\n",
            "|     awards_won?      |  0   | 0.0  |\n",
            "|  avg_training_score  |  0   | 0.0  |\n",
            "|     is_promoted      |  0   | 0.0  |\n",
            "+----------------------+------+------+\n"
          ],
          "name": "stdout"
        }
      ]
    },
    {
      "cell_type": "code",
      "metadata": {
        "id": "iX5NYafh_Kh9",
        "colab_type": "code",
        "colab": {
          "base_uri": "https://localhost:8080/",
          "height": 101
        },
        "outputId": "cee9613a-e95d-4420-9ffa-478e71ba65a0"
      },
      "source": [
        "# Blank string for Object types\n",
        "\n",
        "for column in list(train_data.select_dtypes(include='object').columns):\n",
        "    train_data[column] = train_data[column].apply(lambda x: str(x).strip())\n",
        "    print(f'Number of blank strings in {column}: {(train_data[column] == \"\").sum()}')"
      ],
      "execution_count": null,
      "outputs": [
        {
          "output_type": "stream",
          "text": [
            "Number of blank strings in department: 0\n",
            "Number of blank strings in region: 0\n",
            "Number of blank strings in education: 0\n",
            "Number of blank strings in gender: 0\n",
            "Number of blank strings in recruitment_channel: 0\n"
          ],
          "name": "stdout"
        }
      ]
    },
    {
      "cell_type": "code",
      "metadata": {
        "id": "wn7imJwbXNSU",
        "colab_type": "code",
        "colab": {
          "base_uri": "https://localhost:8080/",
          "height": 376
        },
        "outputId": "6592d56a-bbdb-40e4-8f45-d40e46a40bb4"
      },
      "source": [
        "sns.heatmap(train_data.isna()/train_data.shape[0], cbar=False, cmap='Pastel1_r')\n",
        "plt.title('Missing Values')\n",
        "plt.show()"
      ],
      "execution_count": null,
      "outputs": [
        {
          "output_type": "display_data",
          "data": {
            "image/png": "[encoded data removed]",
            "text/plain": [
              "<Figure size 432x288 with 1 Axes>"
            ]
          },
          "metadata": {
            "tags": []
          }
        }
      ]
    },
    {
      "cell_type": "markdown",
      "metadata": {
        "id": "skLvKEojIpR_",
        "colab_type": "text"
      },
      "source": [
        "## Label Distribution"
      ]
    },
    {
      "cell_type": "code",
      "metadata": {
        "id": "i_sihcxhZ2Ee",
        "colab_type": "code",
        "colab": {
          "base_uri": "https://localhost:8080/",
          "height": 331
        },
        "outputId": "a3155235-fba8-4c47-909d-16d2427f32cf"
      },
      "source": [
        "#train_data.is_promoted.value_counts().plot(kind='bar')\n",
        "sns.barplot(train_data.is_promoted.value_counts().index, train_data.is_promoted.value_counts())\n",
        "plt.title('Label Frequency Dstribution')\n",
        "plt.show()\n",
        "\n",
        "print('-'*50)\n",
        "\n",
        "label_dict = {0:'Not Promoted', 1:'Promoted'}\n",
        "\n",
        "for index in train_data.is_promoted.value_counts().index:\n",
        "    value  = train_data.is_promoted.value_counts()[index]\n",
        "    print(f'{index}[{label_dict[index]}]: #Observations = {value}, {round((value/train_data.shape[0])*100,2)}%')"
      ],
      "execution_count": null,
      "outputs": [
        {
          "output_type": "display_data",
          "data": {
            "image/png": "[encoded data removed]",
            "text/plain": [
              "<Figure size 432x288 with 1 Axes>"
            ]
          },
          "metadata": {
            "tags": []
          }
        },
        {
          "output_type": "stream",
          "text": [
            "--------------------------------------------------\n",
            "0[Not Promoted]: #Observations = 50140, 91.48%\n",
            "1[Promoted]: #Observations = 4668, 8.52%\n"
          ],
          "name": "stdout"
        }
      ]
    },
    {
      "cell_type": "markdown",
      "metadata": {
        "id": "7bIpDXQ0zjjd",
        "colab_type": "text"
      },
      "source": [
        "**Observations**\n",
        "1. No duplicates in training data. Duplicates were searched for based on employee_id variable.\n",
        "\n",
        "2. Only `education` ($2409$ and $0.04\\%$) and `previous_year_rating` ($4124$ and $\\%0.08$) had missing values.\n",
        "\n",
        "3. Naturally Highly Imbalanced data set; Not - promoted ($\\approx 91\\%$) and Promoted ($\\approx 9\\%$)"
      ]
    },
    {
      "cell_type": "markdown",
      "metadata": {
        "id": "8c5SmOraLE9i",
        "colab_type": "text"
      },
      "source": [
        "## `department`"
      ]
    },
    {
      "cell_type": "code",
      "metadata": {
        "id": "6RoCuqPe-lFG",
        "colab_type": "code",
        "colab": {
          "base_uri": "https://localhost:8080/",
          "height": 1000
        },
        "outputId": "40777a8c-28ec-4258-ff3c-192d55577a79"
      },
      "source": [
        "EDA_categorical('department')"
      ],
      "execution_count": null,
      "outputs": [
        {
          "output_type": "stream",
          "text": [
            "There are 9 unique categories in department: ['Sales & Marketing' 'Operations' 'Technology' 'Analytics' 'R&D'\n",
            " 'Procurement' 'Finance' 'HR' 'Legal'].\n",
            "--------------------------------------------------\n"
          ],
          "name": "stdout"
        },
        {
          "output_type": "display_data",
          "data": {
            "image/png": "[encoded data removed]",
            "text/plain": [
              "<Figure size 864x360 with 2 Axes>"
            ]
          },
          "metadata": {
            "tags": []
          }
        },
        {
          "output_type": "stream",
          "text": [
            "----------------------------------------------------------------------------------------------------\n"
          ],
          "name": "stdout"
        },
        {
          "output_type": "display_data",
          "data": {
            "image/png": "[encoded data removed]",
            "text/plain": [
              "<Figure size 432x288 with 1 Axes>"
            ]
          },
          "metadata": {
            "tags": []
          }
        },
        {
          "output_type": "stream",
          "text": [
            "--------------------------------------------------\n",
            "+-------------------+----------------+\n",
            "|     department    | Promotion Rate |\n",
            "+-------------------+----------------+\n",
            "|     Technology    |     0.108      |\n",
            "|    Procurement    |     0.096      |\n",
            "|     Analytics     |     0.096      |\n",
            "|     Operations    |      0.09      |\n",
            "|      Finance      |     0.081      |\n",
            "| Sales & Marketing |     0.072      |\n",
            "|        R&D        |     0.069      |\n",
            "|         HR        |     0.056      |\n",
            "|       Legal       |     0.051      |\n",
            "+-------------------+----------------+\n"
          ],
          "name": "stdout"
        }
      ]
    },
    {
      "cell_type": "code",
      "metadata": {
        "id": "THYferjfOfmF",
        "colab_type": "code",
        "colab": {
          "base_uri": "https://localhost:8080/",
          "height": 185
        },
        "outputId": "40240594-9f80-448d-9c8a-5eb241c976de"
      },
      "source": [
        "(train_data.department.value_counts(dropna=False) / train_data.shape[0]) * 100"
      ],
      "execution_count": null,
      "outputs": [
        {
          "output_type": "execute_result",
          "data": {
            "text/plain": [
              "Sales & Marketing    30.725442\n",
              "Operations           20.705007\n",
              "Technology           13.023646\n",
              "Procurement          13.023646\n",
              "Analytics             9.764998\n",
              "Finance               4.627062\n",
              "HR                    4.411765\n",
              "Legal                 1.895709\n",
              "R&D                   1.822727\n",
              "Name: department, dtype: float64"
            ]
          },
          "metadata": {
            "tags": []
          },
          "execution_count": 18
        }
      ]
    },
    {
      "cell_type": "markdown",
      "metadata": {
        "id": "0ShXcDMben61",
        "colab_type": "text"
      },
      "source": [
        "### Observation\n",
        "- *Sales & Marketing* has highest #Employees and naturally also has highest representation in number of promoted employees. \n",
        "- *Technology* has the highest promotion rate, but is only segment in number of employees. *Analytics* has similar story and is 3rd in the success list.\n",
        "- *HR* and *Legal* are absolute rot throughout."
      ]
    },
    {
      "cell_type": "markdown",
      "metadata": {
        "id": "QzGhhtYszMRx",
        "colab_type": "text"
      },
      "source": [
        "## `region`\n",
        "Region of employment. "
      ]
    },
    {
      "cell_type": "code",
      "metadata": {
        "id": "MtIvvn1zHIAr",
        "colab_type": "code",
        "colab": {
          "base_uri": "https://localhost:8080/",
          "height": 1000
        },
        "outputId": "cab5473e-6bb4-4a5c-a093-a96992da0e37"
      },
      "source": [
        "EDA_categorical('region')"
      ],
      "execution_count": null,
      "outputs": [
        {
          "output_type": "stream",
          "text": [
            "There are 34 unique categories in region: ['region_7' 'region_22' 'region_19' 'region_23' 'region_26' 'region_2'\n",
            " 'region_20' 'region_34' 'region_1' 'region_4' 'region_29' 'region_31'\n",
            " 'region_15' 'region_14' 'region_11' 'region_5' 'region_28' 'region_17'\n",
            " 'region_13' 'region_16' 'region_25' 'region_10' 'region_27' 'region_30'\n",
            " 'region_12' 'region_21' 'region_8' 'region_32' 'region_6' 'region_33'\n",
            " 'region_24' 'region_3' 'region_9' 'region_18'].\n",
            "--------------------------------------------------\n"
          ],
          "name": "stdout"
        },
        {
          "output_type": "display_data",
          "data": {
            "image/png": "[encoded data removed]",
            "text/plain": [
              "<Figure size 864x360 with 2 Axes>"
            ]
          },
          "metadata": {
            "tags": []
          }
        },
        {
          "output_type": "stream",
          "text": [
            "----------------------------------------------------------------------------------------------------\n"
          ],
          "name": "stdout"
        },
        {
          "output_type": "display_data",
          "data": {
            "image/png": "[encoded data removed]",
            "text/plain": [
              "<Figure size 432x288 with 1 Axes>"
            ]
          },
          "metadata": {
            "tags": []
          }
        },
        {
          "output_type": "stream",
          "text": [
            "--------------------------------------------------\n",
            "+-----------+----------------+\n",
            "|   region  | Promotion Rate |\n",
            "+-----------+----------------+\n",
            "|  region_4 |     0.144      |\n",
            "| region_17 |     0.137      |\n",
            "| region_25 |     0.126      |\n",
            "| region_23 |     0.117      |\n",
            "| region_28 |     0.117      |\n",
            "| region_22 |     0.114      |\n",
            "|  region_7 |     0.107      |\n",
            "|  region_3 |     0.107      |\n",
            "|  region_1 |     0.095      |\n",
            "| region_30 |      0.09      |\n",
            "| region_13 |     0.087      |\n",
            "|  region_8 |     0.081      |\n",
            "|  region_2 |      0.08      |\n",
            "| region_27 |     0.079      |\n",
            "| region_15 |     0.079      |\n",
            "| region_10 |     0.079      |\n",
            "| region_14 |     0.075      |\n",
            "| region_16 |      0.07      |\n",
            "| region_12 |     0.066      |\n",
            "| region_26 |     0.063      |\n",
            "| region_19 |     0.061      |\n",
            "| region_20 |     0.058      |\n",
            "| region_31 |     0.057      |\n",
            "| region_11 |     0.056      |\n",
            "|  region_6 |     0.046      |\n",
            "|  region_5 |     0.046      |\n",
            "| region_21 |     0.044      |\n",
            "| region_29 |     0.043      |\n",
            "| region_32 |     0.042      |\n",
            "| region_33 |     0.037      |\n",
            "| region_24 |     0.035      |\n",
            "| region_18 |     0.032      |\n",
            "| region_34 |     0.027      |\n",
            "|  region_9 |     0.019      |\n",
            "+-----------+----------------+\n"
          ],
          "name": "stdout"
        }
      ]
    },
    {
      "cell_type": "code",
      "metadata": {
        "id": "j_BE3aJYjE4l",
        "colab_type": "code",
        "colab": {
          "base_uri": "https://localhost:8080/",
          "height": 202
        },
        "outputId": "cbb3e4d4-beb6-4e83-e624-5a99c1c3add6"
      },
      "source": [
        "# Regions with observations < 1%\n",
        "print('Following regions have < 1% observations')\n",
        "print('-'*50)\n",
        "train_data.region.value_counts(dropna=False)[(train_data.region.value_counts(dropna=False)/train_data.shape[0])*100 < 1]"
      ],
      "execution_count": null,
      "outputs": [
        {
          "output_type": "stream",
          "text": [
            "Following regions have < 1% observations\n",
            "--------------------------------------------------\n"
          ],
          "name": "stdout"
        },
        {
          "output_type": "execute_result",
          "data": {
            "text/plain": [
              "region_24    508\n",
              "region_12    500\n",
              "region_9     420\n",
              "region_21    411\n",
              "region_3     346\n",
              "region_34    292\n",
              "region_33    269\n",
              "region_18     31\n",
              "Name: region, dtype: int64"
            ]
          },
          "metadata": {
            "tags": []
          },
          "execution_count": 144
        }
      ]
    },
    {
      "cell_type": "markdown",
      "metadata": {
        "id": "zGHd2aB_p-Km",
        "colab_type": "text"
      },
      "source": [
        "### Observation\n",
        "\n",
        "- High cardinality ($34$)\n",
        "- Difference in categorical frequency distribution and Promotion rate by category.\n",
        "- region_24, region_12, region_9, region_21, region_3, region_34, region_33 and region_18  have less than $1\\%$ observations. We will impute them with `rare_region` keyword. "
      ]
    },
    {
      "cell_type": "markdown",
      "metadata": {
        "id": "o5_4Q6RTv7q9",
        "colab_type": "text"
      },
      "source": [
        "## `education`\n",
        "\n",
        "has Missing values."
      ]
    },
    {
      "cell_type": "code",
      "metadata": {
        "id": "C_ByN1iYH9uF",
        "colab_type": "code",
        "colab": {
          "base_uri": "https://localhost:8080/",
          "height": 982
        },
        "outputId": "705c5c8f-9322-4133-ada2-6efab4a7a85c"
      },
      "source": [
        "EDA_categorical('education')"
      ],
      "execution_count": null,
      "outputs": [
        {
          "output_type": "stream",
          "text": [
            "There are 4 unique categories in education: [\"Master's & above\" \"Bachelor's\" nan 'Below Secondary'].\n",
            "--------------------------------------------------\n"
          ],
          "name": "stdout"
        },
        {
          "output_type": "display_data",
          "data": {
            "image/png": "[encoded data removed]",
            "text/plain": [
              "<Figure size 864x360 with 2 Axes>"
            ]
          },
          "metadata": {
            "tags": []
          }
        },
        {
          "output_type": "stream",
          "text": [
            "----------------------------------------------------------------------------------------------------\n"
          ],
          "name": "stdout"
        },
        {
          "output_type": "display_data",
          "data": {
            "image/png": "[encoded data removed]",
            "text/plain": [
              "<Figure size 432x288 with 1 Axes>"
            ]
          },
          "metadata": {
            "tags": []
          }
        },
        {
          "output_type": "stream",
          "text": [
            "--------------------------------------------------\n",
            "+------------------+----------------+\n",
            "|    education     | Promotion Rate |\n",
            "+------------------+----------------+\n",
            "| Master's & above |     0.099      |\n",
            "| Below Secondary  |     0.083      |\n",
            "|    Bachelor's    |     0.082      |\n",
            "|       nan        |     0.051      |\n",
            "+------------------+----------------+\n"
          ],
          "name": "stdout"
        }
      ]
    },
    {
      "cell_type": "markdown",
      "metadata": {
        "id": "LJBXxFLhhjyS",
        "colab_type": "text"
      },
      "source": [
        "### Exploring Missing Values"
      ]
    },
    {
      "cell_type": "code",
      "metadata": {
        "id": "fs2qOzv9wtCg",
        "colab_type": "code",
        "colab": {
          "base_uri": "https://localhost:8080/",
          "height": 844
        },
        "outputId": "6a2c47c2-7cf9-4cfd-c6af-961d7d0bb17e"
      },
      "source": [
        "train_data[train_data.education.isna()].head(n=20)"
      ],
      "execution_count": null,
      "outputs": [
        {
          "output_type": "execute_result",
          "data": {
            "text/html": [
              "<div>\n",
              "<style scoped>\n",
              "    .dataframe tbody tr th:only-of-type {\n",
              "        vertical-align: middle;\n",
              "    }\n",
              "\n",
              "    .dataframe tbody tr th {\n",
              "        vertical-align: top;\n",
              "    }\n",
              "\n",
              "    .dataframe thead th {\n",
              "        text-align: right;\n",
              "    }\n",
              "</style>\n",
              "<table border=\"1\" class=\"dataframe\">\n",
              "  <thead>\n",
              "    <tr style=\"text-align: right;\">\n",
              "      <th></th>\n",
              "      <th>employee_id</th>\n",
              "      <th>department</th>\n",
              "      <th>region</th>\n",
              "      <th>education</th>\n",
              "      <th>gender</th>\n",
              "      <th>recruitment_channel</th>\n",
              "      <th>no_of_trainings</th>\n",
              "      <th>age</th>\n",
              "      <th>previous_year_rating</th>\n",
              "      <th>length_of_service</th>\n",
              "      <th>KPIs_met &gt;80%</th>\n",
              "      <th>awards_won?</th>\n",
              "      <th>avg_training_score</th>\n",
              "      <th>is_promoted</th>\n",
              "    </tr>\n",
              "  </thead>\n",
              "  <tbody>\n",
              "    <tr>\n",
              "      <th>10</th>\n",
              "      <td>29934</td>\n",
              "      <td>Technology</td>\n",
              "      <td>region_23</td>\n",
              "      <td>NaN</td>\n",
              "      <td>m</td>\n",
              "      <td>sourcing</td>\n",
              "      <td>1</td>\n",
              "      <td>30</td>\n",
              "      <td>NaN</td>\n",
              "      <td>1</td>\n",
              "      <td>0</td>\n",
              "      <td>0</td>\n",
              "      <td>77</td>\n",
              "      <td>0</td>\n",
              "    </tr>\n",
              "    <tr>\n",
              "      <th>21</th>\n",
              "      <td>33332</td>\n",
              "      <td>Operations</td>\n",
              "      <td>region_15</td>\n",
              "      <td>NaN</td>\n",
              "      <td>m</td>\n",
              "      <td>sourcing</td>\n",
              "      <td>1</td>\n",
              "      <td>41</td>\n",
              "      <td>4.0</td>\n",
              "      <td>11</td>\n",
              "      <td>0</td>\n",
              "      <td>0</td>\n",
              "      <td>57</td>\n",
              "      <td>0</td>\n",
              "    </tr>\n",
              "    <tr>\n",
              "      <th>32</th>\n",
              "      <td>35465</td>\n",
              "      <td>Sales &amp; Marketing</td>\n",
              "      <td>region_7</td>\n",
              "      <td>NaN</td>\n",
              "      <td>f</td>\n",
              "      <td>sourcing</td>\n",
              "      <td>1</td>\n",
              "      <td>24</td>\n",
              "      <td>1.0</td>\n",
              "      <td>2</td>\n",
              "      <td>0</td>\n",
              "      <td>0</td>\n",
              "      <td>48</td>\n",
              "      <td>0</td>\n",
              "    </tr>\n",
              "    <tr>\n",
              "      <th>43</th>\n",
              "      <td>17423</td>\n",
              "      <td>Sales &amp; Marketing</td>\n",
              "      <td>region_2</td>\n",
              "      <td>NaN</td>\n",
              "      <td>m</td>\n",
              "      <td>other</td>\n",
              "      <td>3</td>\n",
              "      <td>24</td>\n",
              "      <td>2.0</td>\n",
              "      <td>2</td>\n",
              "      <td>0</td>\n",
              "      <td>0</td>\n",
              "      <td>48</td>\n",
              "      <td>0</td>\n",
              "    </tr>\n",
              "    <tr>\n",
              "      <th>82</th>\n",
              "      <td>66013</td>\n",
              "      <td>Sales &amp; Marketing</td>\n",
              "      <td>region_2</td>\n",
              "      <td>NaN</td>\n",
              "      <td>m</td>\n",
              "      <td>sourcing</td>\n",
              "      <td>2</td>\n",
              "      <td>25</td>\n",
              "      <td>3.0</td>\n",
              "      <td>2</td>\n",
              "      <td>0</td>\n",
              "      <td>0</td>\n",
              "      <td>53</td>\n",
              "      <td>0</td>\n",
              "    </tr>\n",
              "    <tr>\n",
              "      <th>87</th>\n",
              "      <td>69094</td>\n",
              "      <td>Sales &amp; Marketing</td>\n",
              "      <td>region_2</td>\n",
              "      <td>NaN</td>\n",
              "      <td>m</td>\n",
              "      <td>sourcing</td>\n",
              "      <td>1</td>\n",
              "      <td>39</td>\n",
              "      <td>1.0</td>\n",
              "      <td>9</td>\n",
              "      <td>0</td>\n",
              "      <td>0</td>\n",
              "      <td>49</td>\n",
              "      <td>0</td>\n",
              "    </tr>\n",
              "    <tr>\n",
              "      <th>90</th>\n",
              "      <td>62658</td>\n",
              "      <td>Sales &amp; Marketing</td>\n",
              "      <td>region_2</td>\n",
              "      <td>NaN</td>\n",
              "      <td>f</td>\n",
              "      <td>sourcing</td>\n",
              "      <td>1</td>\n",
              "      <td>20</td>\n",
              "      <td>NaN</td>\n",
              "      <td>1</td>\n",
              "      <td>0</td>\n",
              "      <td>0</td>\n",
              "      <td>55</td>\n",
              "      <td>0</td>\n",
              "    </tr>\n",
              "    <tr>\n",
              "      <th>189</th>\n",
              "      <td>6254</td>\n",
              "      <td>Operations</td>\n",
              "      <td>region_2</td>\n",
              "      <td>NaN</td>\n",
              "      <td>f</td>\n",
              "      <td>other</td>\n",
              "      <td>1</td>\n",
              "      <td>33</td>\n",
              "      <td>4.0</td>\n",
              "      <td>9</td>\n",
              "      <td>0</td>\n",
              "      <td>0</td>\n",
              "      <td>64</td>\n",
              "      <td>0</td>\n",
              "    </tr>\n",
              "    <tr>\n",
              "      <th>204</th>\n",
              "      <td>60761</td>\n",
              "      <td>Operations</td>\n",
              "      <td>region_16</td>\n",
              "      <td>NaN</td>\n",
              "      <td>f</td>\n",
              "      <td>other</td>\n",
              "      <td>1</td>\n",
              "      <td>31</td>\n",
              "      <td>4.0</td>\n",
              "      <td>2</td>\n",
              "      <td>0</td>\n",
              "      <td>0</td>\n",
              "      <td>62</td>\n",
              "      <td>0</td>\n",
              "    </tr>\n",
              "    <tr>\n",
              "      <th>231</th>\n",
              "      <td>57235</td>\n",
              "      <td>Sales &amp; Marketing</td>\n",
              "      <td>region_26</td>\n",
              "      <td>NaN</td>\n",
              "      <td>m</td>\n",
              "      <td>other</td>\n",
              "      <td>1</td>\n",
              "      <td>22</td>\n",
              "      <td>4.0</td>\n",
              "      <td>2</td>\n",
              "      <td>0</td>\n",
              "      <td>0</td>\n",
              "      <td>51</td>\n",
              "      <td>0</td>\n",
              "    </tr>\n",
              "    <tr>\n",
              "      <th>245</th>\n",
              "      <td>24414</td>\n",
              "      <td>R&amp;D</td>\n",
              "      <td>region_2</td>\n",
              "      <td>NaN</td>\n",
              "      <td>m</td>\n",
              "      <td>other</td>\n",
              "      <td>1</td>\n",
              "      <td>25</td>\n",
              "      <td>NaN</td>\n",
              "      <td>1</td>\n",
              "      <td>1</td>\n",
              "      <td>0</td>\n",
              "      <td>76</td>\n",
              "      <td>0</td>\n",
              "    </tr>\n",
              "    <tr>\n",
              "      <th>277</th>\n",
              "      <td>55550</td>\n",
              "      <td>Analytics</td>\n",
              "      <td>region_27</td>\n",
              "      <td>NaN</td>\n",
              "      <td>m</td>\n",
              "      <td>sourcing</td>\n",
              "      <td>1</td>\n",
              "      <td>31</td>\n",
              "      <td>3.0</td>\n",
              "      <td>4</td>\n",
              "      <td>0</td>\n",
              "      <td>0</td>\n",
              "      <td>85</td>\n",
              "      <td>0</td>\n",
              "    </tr>\n",
              "    <tr>\n",
              "      <th>323</th>\n",
              "      <td>45496</td>\n",
              "      <td>Sales &amp; Marketing</td>\n",
              "      <td>region_2</td>\n",
              "      <td>NaN</td>\n",
              "      <td>m</td>\n",
              "      <td>other</td>\n",
              "      <td>1</td>\n",
              "      <td>22</td>\n",
              "      <td>5.0</td>\n",
              "      <td>2</td>\n",
              "      <td>0</td>\n",
              "      <td>0</td>\n",
              "      <td>62</td>\n",
              "      <td>1</td>\n",
              "    </tr>\n",
              "    <tr>\n",
              "      <th>336</th>\n",
              "      <td>5128</td>\n",
              "      <td>Operations</td>\n",
              "      <td>region_2</td>\n",
              "      <td>NaN</td>\n",
              "      <td>m</td>\n",
              "      <td>other</td>\n",
              "      <td>1</td>\n",
              "      <td>48</td>\n",
              "      <td>3.0</td>\n",
              "      <td>8</td>\n",
              "      <td>0</td>\n",
              "      <td>0</td>\n",
              "      <td>57</td>\n",
              "      <td>0</td>\n",
              "    </tr>\n",
              "    <tr>\n",
              "      <th>352</th>\n",
              "      <td>69715</td>\n",
              "      <td>Operations</td>\n",
              "      <td>region_2</td>\n",
              "      <td>NaN</td>\n",
              "      <td>f</td>\n",
              "      <td>other</td>\n",
              "      <td>1</td>\n",
              "      <td>58</td>\n",
              "      <td>4.0</td>\n",
              "      <td>18</td>\n",
              "      <td>1</td>\n",
              "      <td>0</td>\n",
              "      <td>60</td>\n",
              "      <td>0</td>\n",
              "    </tr>\n",
              "    <tr>\n",
              "      <th>354</th>\n",
              "      <td>56139</td>\n",
              "      <td>Sales &amp; Marketing</td>\n",
              "      <td>region_16</td>\n",
              "      <td>NaN</td>\n",
              "      <td>m</td>\n",
              "      <td>other</td>\n",
              "      <td>1</td>\n",
              "      <td>24</td>\n",
              "      <td>4.0</td>\n",
              "      <td>2</td>\n",
              "      <td>0</td>\n",
              "      <td>0</td>\n",
              "      <td>51</td>\n",
              "      <td>0</td>\n",
              "    </tr>\n",
              "    <tr>\n",
              "      <th>359</th>\n",
              "      <td>36936</td>\n",
              "      <td>Sales &amp; Marketing</td>\n",
              "      <td>region_28</td>\n",
              "      <td>NaN</td>\n",
              "      <td>m</td>\n",
              "      <td>other</td>\n",
              "      <td>1</td>\n",
              "      <td>24</td>\n",
              "      <td>2.0</td>\n",
              "      <td>2</td>\n",
              "      <td>1</td>\n",
              "      <td>0</td>\n",
              "      <td>52</td>\n",
              "      <td>1</td>\n",
              "    </tr>\n",
              "    <tr>\n",
              "      <th>365</th>\n",
              "      <td>72765</td>\n",
              "      <td>Operations</td>\n",
              "      <td>region_2</td>\n",
              "      <td>NaN</td>\n",
              "      <td>f</td>\n",
              "      <td>sourcing</td>\n",
              "      <td>1</td>\n",
              "      <td>53</td>\n",
              "      <td>3.0</td>\n",
              "      <td>11</td>\n",
              "      <td>0</td>\n",
              "      <td>0</td>\n",
              "      <td>57</td>\n",
              "      <td>0</td>\n",
              "    </tr>\n",
              "    <tr>\n",
              "      <th>397</th>\n",
              "      <td>6711</td>\n",
              "      <td>Sales &amp; Marketing</td>\n",
              "      <td>region_6</td>\n",
              "      <td>NaN</td>\n",
              "      <td>m</td>\n",
              "      <td>sourcing</td>\n",
              "      <td>1</td>\n",
              "      <td>23</td>\n",
              "      <td>3.0</td>\n",
              "      <td>2</td>\n",
              "      <td>0</td>\n",
              "      <td>0</td>\n",
              "      <td>51</td>\n",
              "      <td>0</td>\n",
              "    </tr>\n",
              "    <tr>\n",
              "      <th>415</th>\n",
              "      <td>67946</td>\n",
              "      <td>Analytics</td>\n",
              "      <td>region_32</td>\n",
              "      <td>NaN</td>\n",
              "      <td>m</td>\n",
              "      <td>other</td>\n",
              "      <td>1</td>\n",
              "      <td>27</td>\n",
              "      <td>3.0</td>\n",
              "      <td>2</td>\n",
              "      <td>0</td>\n",
              "      <td>0</td>\n",
              "      <td>88</td>\n",
              "      <td>0</td>\n",
              "    </tr>\n",
              "  </tbody>\n",
              "</table>\n",
              "</div>"
            ],
            "text/plain": [
              "     employee_id         department  ... avg_training_score is_promoted\n",
              "10         29934         Technology  ...                 77           0\n",
              "21         33332         Operations  ...                 57           0\n",
              "32         35465  Sales & Marketing  ...                 48           0\n",
              "43         17423  Sales & Marketing  ...                 48           0\n",
              "82         66013  Sales & Marketing  ...                 53           0\n",
              "87         69094  Sales & Marketing  ...                 49           0\n",
              "90         62658  Sales & Marketing  ...                 55           0\n",
              "189         6254         Operations  ...                 64           0\n",
              "204        60761         Operations  ...                 62           0\n",
              "231        57235  Sales & Marketing  ...                 51           0\n",
              "245        24414                R&D  ...                 76           0\n",
              "277        55550          Analytics  ...                 85           0\n",
              "323        45496  Sales & Marketing  ...                 62           1\n",
              "336         5128         Operations  ...                 57           0\n",
              "352        69715         Operations  ...                 60           0\n",
              "354        56139  Sales & Marketing  ...                 51           0\n",
              "359        36936  Sales & Marketing  ...                 52           1\n",
              "365        72765         Operations  ...                 57           0\n",
              "397         6711  Sales & Marketing  ...                 51           0\n",
              "415        67946          Analytics  ...                 88           0\n",
              "\n",
              "[20 rows x 14 columns]"
            ]
          },
          "metadata": {
            "tags": []
          },
          "execution_count": 41
        }
      ]
    },
    {
      "cell_type": "markdown",
      "metadata": {
        "id": "W3py6Ut5wNsk",
        "colab_type": "text"
      },
      "source": [
        "- "
      ]
    },
    {
      "cell_type": "code",
      "metadata": {
        "id": "OUrzU1URppos",
        "colab_type": "code",
        "colab": {
          "base_uri": "https://localhost:8080/",
          "height": 806
        },
        "outputId": "c2c9b2bf-349b-4a52-dfbd-46ab3c6dea12"
      },
      "source": [
        "#education_na.groupby(by='education')['avg_training_score'].mean()\n",
        "\n",
        "# 'KPIs_met >80%', 'awards_won?'\n",
        "\n",
        "sub_data = train_data.loc[:,['education', 'no_of_trainings', 'age', 'length_of_service', 'KPIs_met >80%', 'awards_won?','avg_training_score']]#.copy()\n",
        "\n",
        "sub_data.education = sub_data.education.astype(str)\n",
        "\n",
        "print('-------------- Number of Trainings ------------')\n",
        "print(sub_data.groupby(by='education')['no_of_trainings'].aggregate(['mean', 'median']))\n",
        "print()\n",
        "\n",
        "print('-------------- Age ------------')\n",
        "print(sub_data.groupby(by='education')['age'].aggregate(['mean', 'median']))\n",
        "print()\n",
        "\n",
        "print('-------------- Length of Service ------------')\n",
        "print(sub_data.groupby(by='education')['length_of_service'].aggregate(['mean', 'median']))\n",
        "print()\n",
        "\n",
        "print('-------------- Average Training Score ------------')\n",
        "print(sub_data.groupby(by='education')['avg_training_score'].aggregate(['mean', 'median']))\n",
        "print()\n",
        "\n",
        "print('-------------- KPIs_met >80% ------------')\n",
        "print(sub_data.groupby(by='education')['KPIs_met >80%'].value_counts()[:,1] / sub_data.groupby(by='education')['KPIs_met >80%'].count())\n",
        "print()\n",
        "\n",
        "print('-------------- awards_won? ------------')\n",
        "print(sub_data.groupby(by='education')['awards_won?'].value_counts()[:,1] / sub_data.groupby(by='education')['awards_won?'].count())\n"
      ],
      "execution_count": null,
      "outputs": [
        {
          "output_type": "stream",
          "text": [
            "-------------- Number of Trainings ------------\n",
            "                      mean  median\n",
            "education                         \n",
            "Bachelor's        1.270883       1\n",
            "Below Secondary   1.275776       1\n",
            "Master's & above  1.219095       1\n",
            "nan               1.183479       1\n",
            "\n",
            "-------------- Age ------------\n",
            "                       mean  median\n",
            "education                          \n",
            "Bachelor's        33.445226      32\n",
            "Below Secondary   23.836025      24\n",
            "Master's & above  39.352630      38\n",
            "nan               30.968867      29\n",
            "\n",
            "-------------- Length of Service ------------\n",
            "                      mean  median\n",
            "education                         \n",
            "Bachelor's        5.344542       4\n",
            "Below Secondary   1.704348       2\n",
            "Master's & above  7.605293       7\n",
            "nan               4.407223       3\n",
            "\n",
            "-------------- Average Training Score ------------\n",
            "                       mean  median\n",
            "education                          \n",
            "Bachelor's        63.422046      60\n",
            "Below Secondary   64.925466      62\n",
            "Master's & above  64.061240      61\n",
            "nan               58.156496      52\n",
            "\n",
            "-------------- KPIs_met >80% ------------\n",
            "education\n",
            "Bachelor's          0.354496\n",
            "Below Secondary     0.400000\n",
            "Master's & above    0.360134\n",
            "nan                 0.246990\n",
            "Name: KPIs_met >80%, dtype: float64\n",
            "\n",
            "-------------- awards_won? ------------\n",
            "education\n",
            "Bachelor's          0.023371\n",
            "Below Secondary     0.017391\n",
            "Master's & above    0.022982\n",
            "nan                 0.023246\n",
            "Name: awards_won?, dtype: float64\n"
          ],
          "name": "stdout"
        }
      ]
    },
    {
      "cell_type": "markdown",
      "metadata": {
        "id": "uS2QQI_W8rYg",
        "colab_type": "text"
      },
      "source": [
        "### Observation\n",
        "\n",
        "- *Masters degree* holders have best promotion rate.\n",
        "- Low Cardinality (4) including missing values as seperate category.\n",
        "- Less percentage of people promoted ($\\approx5\\%$) for missing data compared to available data ($\\approx 9\\%$).\n",
        "- NA has distinct characteristics across Variables. Thus, NA will be a seperate category and will be imputed with the `missing` word.\n",
        "\n"
      ]
    },
    {
      "cell_type": "markdown",
      "metadata": {
        "id": "lAURxM2ZV24L",
        "colab_type": "text"
      },
      "source": [
        "## `gender`"
      ]
    },
    {
      "cell_type": "code",
      "metadata": {
        "id": "CVAVjaWiKY8l",
        "colab_type": "code",
        "colab": {
          "base_uri": "https://localhost:8080/",
          "height": 795
        },
        "outputId": "9895a67a-7c2b-4b6b-d708-db9d52d15647"
      },
      "source": [
        "EDA_categorical('gender')"
      ],
      "execution_count": null,
      "outputs": [
        {
          "output_type": "stream",
          "text": [
            "There are 2 unique categories in gender: ['f' 'm'].\n",
            "--------------------------------------------------\n"
          ],
          "name": "stdout"
        },
        {
          "output_type": "display_data",
          "data": {
            "image/png": "[encoded data removed]",
            "text/plain": [
              "<Figure size 864x360 with 2 Axes>"
            ]
          },
          "metadata": {
            "tags": []
          }
        },
        {
          "output_type": "stream",
          "text": [
            "----------------------------------------------------------------------------------------------------\n"
          ],
          "name": "stdout"
        },
        {
          "output_type": "display_data",
          "data": {
            "image/png": "[encoded data removed]",
            "text/plain": [
              "<Figure size 432x288 with 1 Axes>"
            ]
          },
          "metadata": {
            "tags": []
          }
        },
        {
          "output_type": "stream",
          "text": [
            "--------------------------------------------------\n",
            "+--------+----------------+\n",
            "| gender | Promotion Rate |\n",
            "+--------+----------------+\n",
            "|   f    |      0.09      |\n",
            "|   m    |     0.083      |\n",
            "+--------+----------------+\n"
          ],
          "name": "stdout"
        }
      ]
    },
    {
      "cell_type": "markdown",
      "metadata": {
        "id": "LsS9xtPg7C5c",
        "colab_type": "text"
      },
      "source": [
        "### Observation\n",
        "- Frequency of promoted employees follows natural frequency distribution of the dataset.\n",
        "- Promotion rate is slightly higher for Female employees compared to Male employees. However this may be because of difference in frequency.\n",
        "- No apparent Gender Bias."
      ]
    },
    {
      "cell_type": "code",
      "metadata": {
        "id": "OeBgeqh0yHrH",
        "colab_type": "code",
        "colab": {}
      },
      "source": [
        "# CHi - square test\n",
        "# table, results, exp_freq = rp.crosstab(train_data.gender, train_data.is_promoted, prop = 'col', test= 'chi-square', expected_freqs=True)\n",
        "# exp_freq\n",
        "# results"
      ],
      "execution_count": null,
      "outputs": []
    },
    {
      "cell_type": "markdown",
      "metadata": {
        "id": "tGsY0hdVynaN",
        "colab_type": "text"
      },
      "source": [
        "## `recruitment_channel`"
      ]
    },
    {
      "cell_type": "code",
      "metadata": {
        "id": "2hh1VvuLKj5N",
        "colab_type": "code",
        "colab": {
          "base_uri": "https://localhost:8080/",
          "height": 880
        },
        "outputId": "0b269322-4537-4af0-ce42-8dd39665d732"
      },
      "source": [
        "EDA_categorical('recruitment_channel')"
      ],
      "execution_count": null,
      "outputs": [
        {
          "output_type": "stream",
          "text": [
            "There are 3 unique categories in recruitment_channel: ['sourcing' 'other' 'referred'].\n",
            "--------------------------------------------------\n"
          ],
          "name": "stdout"
        },
        {
          "output_type": "display_data",
          "data": {
            "image/png": "[encoded data removed]",
            "text/plain": [
              "<Figure size 864x360 with 2 Axes>"
            ]
          },
          "metadata": {
            "tags": []
          }
        },
        {
          "output_type": "stream",
          "text": [
            "----------------------------------------------------------------------------------------------------\n"
          ],
          "name": "stdout"
        },
        {
          "output_type": "display_data",
          "data": {
            "image/png": "[encoded data removed]",
            "text/plain": [
              "<Figure size 432x288 with 1 Axes>"
            ]
          },
          "metadata": {
            "tags": []
          }
        },
        {
          "output_type": "stream",
          "text": [
            "--------------------------------------------------\n",
            "+---------------------+----------------+\n",
            "| recruitment_channel | Promotion Rate |\n",
            "+---------------------+----------------+\n",
            "|       referred      |     0.121      |\n",
            "|       sourcing      |     0.085      |\n",
            "|        other        |     0.084      |\n",
            "+---------------------+----------------+\n"
          ],
          "name": "stdout"
        }
      ]
    },
    {
      "cell_type": "markdown",
      "metadata": {
        "id": "LlQIRtboXB35",
        "colab_type": "text"
      },
      "source": [
        "### Observation\n",
        "- Natural frequency distribution and promotion rate are opposite of each other.\n",
        "- `reffered` candidate has the highest rate of promotion and is considerably higher compared to other two categories. `sourcing` and `other` categories have similar rate of promotion compared to each other."
      ]
    },
    {
      "cell_type": "markdown",
      "metadata": {
        "id": "6L3AkmTNni-q",
        "colab_type": "text"
      },
      "source": [
        "## `KPIs_met >80%`"
      ]
    },
    {
      "cell_type": "code",
      "metadata": {
        "id": "IDWFmiOry0hp",
        "colab_type": "code",
        "colab": {
          "base_uri": "https://localhost:8080/",
          "height": 791
        },
        "outputId": "aff0f96e-d1ee-4dbb-b08b-d2e75c92810c"
      },
      "source": [
        "EDA_categorical('KPIs_met >80%')"
      ],
      "execution_count": null,
      "outputs": [
        {
          "output_type": "stream",
          "text": [
            "There are 2 unique categories in KPIs_met >80%: [1 0].\n",
            "--------------------------------------------------\n"
          ],
          "name": "stdout"
        },
        {
          "output_type": "display_data",
          "data": {
            "image/png": "[encoded data removed]",
            "text/plain": [
              "<Figure size 864x360 with 2 Axes>"
            ]
          },
          "metadata": {
            "tags": []
          }
        },
        {
          "output_type": "stream",
          "text": [
            "----------------------------------------------------------------------------------------------------\n"
          ],
          "name": "stdout"
        },
        {
          "output_type": "display_data",
          "data": {
            "image/png": "[encoded data removed]",
            "text/plain": [
              "<Figure size 432x288 with 1 Axes>"
            ]
          },
          "metadata": {
            "tags": []
          }
        },
        {
          "output_type": "stream",
          "text": [
            "--------------------------------------------------\n",
            "+---------------+----------------+\n",
            "| KPIs_met >80% | Promotion Rate |\n",
            "+---------------+----------------+\n",
            "|       1       |     0.169      |\n",
            "|       0       |      0.04      |\n",
            "+---------------+----------------+\n"
          ],
          "name": "stdout"
        }
      ]
    },
    {
      "cell_type": "markdown",
      "metadata": {
        "id": "vv-HBa0PZMCb",
        "colab_type": "text"
      },
      "source": [
        "### Observation\n",
        "\n",
        "- As expected employees who have met $> 80\\%$ KPI's have much higher rate of being promoted ($\\approx 4$ times) compared to those who have not. "
      ]
    },
    {
      "cell_type": "markdown",
      "metadata": {
        "id": "l5gjrvmB1ck0",
        "colab_type": "text"
      },
      "source": [
        "## `awards_won?`"
      ]
    },
    {
      "cell_type": "code",
      "metadata": {
        "id": "hTRtKiJg1fIp",
        "colab_type": "code",
        "colab": {
          "base_uri": "https://localhost:8080/",
          "height": 791
        },
        "outputId": "184c5e69-0d57-4235-ebfa-e7a0620c0a0b"
      },
      "source": [
        "EDA_categorical('awards_won?')"
      ],
      "execution_count": null,
      "outputs": [
        {
          "output_type": "stream",
          "text": [
            "There are 2 unique categories in awards_won?: [0 1].\n",
            "--------------------------------------------------\n"
          ],
          "name": "stdout"
        },
        {
          "output_type": "display_data",
          "data": {
            "image/png": "[encoded data removed]",
            "text/plain": [
              "<Figure size 864x360 with 2 Axes>"
            ]
          },
          "metadata": {
            "tags": []
          }
        },
        {
          "output_type": "stream",
          "text": [
            "----------------------------------------------------------------------------------------------------\n"
          ],
          "name": "stdout"
        },
        {
          "output_type": "display_data",
          "data": {
            "image/png": "[encoded data removed]",
            "text/plain": [
              "<Figure size 432x288 with 1 Axes>"
            ]
          },
          "metadata": {
            "tags": []
          }
        },
        {
          "output_type": "stream",
          "text": [
            "--------------------------------------------------\n",
            "+-------------+----------------+\n",
            "| awards_won? | Promotion Rate |\n",
            "+-------------+----------------+\n",
            "|      1      |      0.44      |\n",
            "|      0      |     0.077      |\n",
            "+-------------+----------------+\n"
          ],
          "name": "stdout"
        }
      ]
    },
    {
      "cell_type": "markdown",
      "metadata": {
        "id": "Pq9jiXp_JM__",
        "colab_type": "text"
      },
      "source": [
        "### Observation\n",
        "Employees who won awards have a much higher chance of being promoted."
      ]
    },
    {
      "cell_type": "markdown",
      "metadata": {
        "id": "DjQNrPs_3bVo",
        "colab_type": "text"
      },
      "source": [
        "## `no_of_trainings`"
      ]
    },
    {
      "cell_type": "code",
      "metadata": {
        "id": "ceZiWx7YLbFN",
        "colab_type": "code",
        "colab": {
          "base_uri": "https://localhost:8080/",
          "height": 585
        },
        "outputId": "2fc1891e-c015-4746-adac-e37e85282966"
      },
      "source": [
        "EDA_continuous('no_of_trainings', title_1='Highly overlapping distribution',\n",
        "               title_2='100% Percentile for Promoted is 6',\n",
        "               title_3='Highly Right skewed.\\nWith apparent outliers.')"
      ],
      "execution_count": null,
      "outputs": [
        {
          "output_type": "display_data",
          "data": {
            "image/png": "[encoded data removed]",
            "text/plain": [
              "<Figure size 1296x360 with 3 Axes>"
            ]
          },
          "metadata": {
            "tags": []
          }
        },
        {
          "output_type": "stream",
          "text": [
            "----------------------------------------------------------------------------------------------------\n",
            "+-------+----------+--------------+\n",
            "| Stats | Promoted | Not Promoted |\n",
            "+-------+----------+--------------+\n",
            "| count |  4668.0  |   50140.0    |\n",
            "|  mean |   1.2    |     1.26     |\n",
            "|  std  |   0.51   |     0.62     |\n",
            "|  min  |   1.0    |     1.0      |\n",
            "|  25%  |   1.0    |     1.0      |\n",
            "|  50%  |   1.0    |     1.0      |\n",
            "|  75%  |   1.0    |     1.0      |\n",
            "|  max  |   6.0    |     10.0     |\n",
            "+-------+----------+--------------+\n"
          ],
          "name": "stdout"
        }
      ]
    },
    {
      "cell_type": "markdown",
      "metadata": {
        "id": "z4xf-okVNGQl",
        "colab_type": "text"
      },
      "source": [
        "### Observation\n",
        "- Most of the employees, both promoted and not promoted seems to take around 1 training. However, max for not promoted is higher at 10.\n",
        "- If trainings $> 6$, highly likely **not promoted**."
      ]
    },
    {
      "cell_type": "markdown",
      "metadata": {
        "id": "e8DDx9zXyk1w",
        "colab_type": "text"
      },
      "source": [
        "## `age`"
      ]
    },
    {
      "cell_type": "code",
      "metadata": {
        "id": "wAFFlU78QeIA",
        "colab_type": "code",
        "colab": {
          "base_uri": "https://localhost:8080/",
          "height": 583
        },
        "outputId": "a5ad726c-8bc0-4248-99a2-47e94f135a1c"
      },
      "source": [
        "EDA_continuous('age', title_1=\"Very similar distribution of Age\",\n",
        "               title_2=\"CDF: Very Similar - Not very helpful\",\n",
        "               title_3=\"Same Median with very similar box shape for both,\\n Some outliers present\")"
      ],
      "execution_count": null,
      "outputs": [
        {
          "output_type": "display_data",
          "data": {
            "image/png": "[encoded data removed]",
            "text/plain": [
              "<Figure size 1296x360 with 3 Axes>"
            ]
          },
          "metadata": {
            "tags": []
          }
        },
        {
          "output_type": "stream",
          "text": [
            "----------------------------------------------------------------------------------------------------\n",
            "+-------+----------+--------------+\n",
            "| Stats | Promoted | Not Promoted |\n",
            "+-------+----------+--------------+\n",
            "| count |  4668.0  |   50140.0    |\n",
            "|  mean |  34.37   |    34.84     |\n",
            "|  std  |   7.08   |     7.71     |\n",
            "|  min  |   20.0   |     20.0     |\n",
            "|  25%  |   29.0   |     29.0     |\n",
            "|  50%  |   33.0   |     33.0     |\n",
            "|  75%  |   38.0   |     39.0     |\n",
            "|  max  |   60.0   |     60.0     |\n",
            "+-------+----------+--------------+\n"
          ],
          "name": "stdout"
        }
      ]
    },
    {
      "cell_type": "markdown",
      "metadata": {
        "id": "uLYaz4uASv2w",
        "colab_type": "text"
      },
      "source": [
        "### Observation\n",
        "Age is not a deciding factor."
      ]
    },
    {
      "cell_type": "markdown",
      "metadata": {
        "id": "wNO-ArqRZXiQ",
        "colab_type": "text"
      },
      "source": [
        "## `previous_year_rating`\n",
        "\n",
        "Although appears continuous, but is discrete (Ordinal)."
      ]
    },
    {
      "cell_type": "code",
      "metadata": {
        "id": "sl7iVerbK8co",
        "colab_type": "code",
        "colab": {
          "base_uri": "https://localhost:8080/",
          "height": 882
        },
        "outputId": "6fd3047f-39e5-448e-ed5d-1eb44aa825b3"
      },
      "source": [
        "EDA_categorical('previous_year_rating')"
      ],
      "execution_count": null,
      "outputs": [
        {
          "output_type": "stream",
          "text": [
            "There are 6 unique categories in previous_year_rating: [ 5.  3.  1.  4. nan  2.].\n",
            "--------------------------------------------------\n"
          ],
          "name": "stdout"
        },
        {
          "output_type": "display_data",
          "data": {
            "image/png": "[encoded data removed]",
            "text/plain": [
              "<Figure size 864x360 with 2 Axes>"
            ]
          },
          "metadata": {
            "tags": []
          }
        },
        {
          "output_type": "stream",
          "text": [
            "----------------------------------------------------------------------------------------------------\n"
          ],
          "name": "stdout"
        },
        {
          "output_type": "display_data",
          "data": {
            "image/png": "[encoded data removed]",
            "text/plain": [
              "<Figure size 432x288 with 1 Axes>"
            ]
          },
          "metadata": {
            "tags": []
          }
        },
        {
          "output_type": "stream",
          "text": [
            "--------------------------------------------------\n",
            "+----------------------+----------------+\n",
            "| previous_year_rating | Promotion Rate |\n",
            "+----------------------+----------------+\n",
            "|         5.0          |     0.164      |\n",
            "|         nan          |     0.082      |\n",
            "|         4.0          |     0.079      |\n",
            "|         3.0          |     0.073      |\n",
            "|         2.0          |     0.043      |\n",
            "|         1.0          |     0.014      |\n",
            "+----------------------+----------------+\n"
          ],
          "name": "stdout"
        }
      ]
    },
    {
      "cell_type": "markdown",
      "metadata": {
        "id": "tLSSfxrdvBgd",
        "colab_type": "text"
      },
      "source": [
        "### Exploring Missing Value"
      ]
    },
    {
      "cell_type": "code",
      "metadata": {
        "id": "bfo_V-vwlK1K",
        "colab_type": "code",
        "colab": {
          "base_uri": "https://localhost:8080/",
          "height": 282
        },
        "outputId": "3efae18c-7185-42a6-8ab1-32a0cadf16d2"
      },
      "source": [
        "train_data[train_data.previous_year_rating.isna()].head(5)"
      ],
      "execution_count": null,
      "outputs": [
        {
          "output_type": "execute_result",
          "data": {
            "text/html": [
              "<div>\n",
              "<style scoped>\n",
              "    .dataframe tbody tr th:only-of-type {\n",
              "        vertical-align: middle;\n",
              "    }\n",
              "\n",
              "    .dataframe tbody tr th {\n",
              "        vertical-align: top;\n",
              "    }\n",
              "\n",
              "    .dataframe thead th {\n",
              "        text-align: right;\n",
              "    }\n",
              "</style>\n",
              "<table border=\"1\" class=\"dataframe\">\n",
              "  <thead>\n",
              "    <tr style=\"text-align: right;\">\n",
              "      <th></th>\n",
              "      <th>employee_id</th>\n",
              "      <th>department</th>\n",
              "      <th>region</th>\n",
              "      <th>education</th>\n",
              "      <th>gender</th>\n",
              "      <th>recruitment_channel</th>\n",
              "      <th>no_of_trainings</th>\n",
              "      <th>age</th>\n",
              "      <th>previous_year_rating</th>\n",
              "      <th>length_of_service</th>\n",
              "      <th>KPIs_met &gt;80%</th>\n",
              "      <th>awards_won?</th>\n",
              "      <th>avg_training_score</th>\n",
              "      <th>is_promoted</th>\n",
              "    </tr>\n",
              "  </thead>\n",
              "  <tbody>\n",
              "    <tr>\n",
              "      <th>10</th>\n",
              "      <td>29934</td>\n",
              "      <td>Technology</td>\n",
              "      <td>region_23</td>\n",
              "      <td>NaN</td>\n",
              "      <td>m</td>\n",
              "      <td>sourcing</td>\n",
              "      <td>1</td>\n",
              "      <td>30</td>\n",
              "      <td>NaN</td>\n",
              "      <td>1</td>\n",
              "      <td>0</td>\n",
              "      <td>0</td>\n",
              "      <td>77</td>\n",
              "      <td>0</td>\n",
              "    </tr>\n",
              "    <tr>\n",
              "      <th>23</th>\n",
              "      <td>71177</td>\n",
              "      <td>Procurement</td>\n",
              "      <td>region_5</td>\n",
              "      <td>Bachelor's</td>\n",
              "      <td>m</td>\n",
              "      <td>other</td>\n",
              "      <td>1</td>\n",
              "      <td>27</td>\n",
              "      <td>NaN</td>\n",
              "      <td>1</td>\n",
              "      <td>0</td>\n",
              "      <td>0</td>\n",
              "      <td>70</td>\n",
              "      <td>0</td>\n",
              "    </tr>\n",
              "    <tr>\n",
              "      <th>29</th>\n",
              "      <td>74759</td>\n",
              "      <td>Sales &amp; Marketing</td>\n",
              "      <td>region_4</td>\n",
              "      <td>Bachelor's</td>\n",
              "      <td>m</td>\n",
              "      <td>sourcing</td>\n",
              "      <td>1</td>\n",
              "      <td>26</td>\n",
              "      <td>NaN</td>\n",
              "      <td>1</td>\n",
              "      <td>0</td>\n",
              "      <td>0</td>\n",
              "      <td>44</td>\n",
              "      <td>0</td>\n",
              "    </tr>\n",
              "    <tr>\n",
              "      <th>56</th>\n",
              "      <td>45709</td>\n",
              "      <td>Sales &amp; Marketing</td>\n",
              "      <td>region_31</td>\n",
              "      <td>Bachelor's</td>\n",
              "      <td>f</td>\n",
              "      <td>other</td>\n",
              "      <td>1</td>\n",
              "      <td>29</td>\n",
              "      <td>NaN</td>\n",
              "      <td>1</td>\n",
              "      <td>0</td>\n",
              "      <td>0</td>\n",
              "      <td>49</td>\n",
              "      <td>0</td>\n",
              "    </tr>\n",
              "    <tr>\n",
              "      <th>58</th>\n",
              "      <td>26599</td>\n",
              "      <td>Sales &amp; Marketing</td>\n",
              "      <td>region_16</td>\n",
              "      <td>Bachelor's</td>\n",
              "      <td>m</td>\n",
              "      <td>other</td>\n",
              "      <td>2</td>\n",
              "      <td>27</td>\n",
              "      <td>NaN</td>\n",
              "      <td>1</td>\n",
              "      <td>1</td>\n",
              "      <td>0</td>\n",
              "      <td>47</td>\n",
              "      <td>0</td>\n",
              "    </tr>\n",
              "  </tbody>\n",
              "</table>\n",
              "</div>"
            ],
            "text/plain": [
              "    employee_id         department  ... avg_training_score is_promoted\n",
              "10        29934         Technology  ...                 77           0\n",
              "23        71177        Procurement  ...                 70           0\n",
              "29        74759  Sales & Marketing  ...                 44           0\n",
              "56        45709  Sales & Marketing  ...                 49           0\n",
              "58        26599  Sales & Marketing  ...                 47           0\n",
              "\n",
              "[5 rows x 14 columns]"
            ]
          },
          "metadata": {
            "tags": []
          },
          "execution_count": 44
        }
      ]
    },
    {
      "cell_type": "code",
      "metadata": {
        "id": "E8_5_Wifo4O5",
        "colab_type": "code",
        "colab": {
          "base_uri": "https://localhost:8080/",
          "height": 118
        },
        "outputId": "9d70097d-6fc0-4f18-d340-1f405c047d73"
      },
      "source": [
        "print('All Missing values have one year of service ')\n",
        "print('-'*50)\n",
        "\n",
        "print(f\"Number of Missing values: {train_data[train_data.previous_year_rating.isna()].shape[0]} \")\n",
        "\n",
        "print(f\"Unique values for corresponding Length of Service: \\n\", train_data[train_data.previous_year_rating.isna()].length_of_service.value_counts(dropna=False))"
      ],
      "execution_count": null,
      "outputs": [
        {
          "output_type": "stream",
          "text": [
            "All Missing values have one year of service \n",
            "--------------------------------------------------\n",
            "Number of Missing values: 4124 \n",
            "Unique values for corresponding Length of Service: \n",
            " 1    4124\n",
            "Name: length_of_service, dtype: int64\n"
          ],
          "name": "stdout"
        }
      ]
    },
    {
      "cell_type": "code",
      "metadata": {
        "id": "VMsPa3MGrOx_",
        "colab_type": "code",
        "colab": {
          "base_uri": "https://localhost:8080/",
          "height": 168
        },
        "outputId": "2e7ece3f-e691-4243-c9df-de1a1a5be29f"
      },
      "source": [
        "print('Ratings Frequency for all employees with 1 year of service')\n",
        "print('-'*50)\n",
        "\n",
        "# All length of service = 1\n",
        "train_data[train_data.length_of_service == 1].previous_year_rating.value_counts(dropna=False)"
      ],
      "execution_count": null,
      "outputs": [
        {
          "output_type": "stream",
          "text": [
            "Ratings Frequency for all employees with 1 year of service\n",
            "--------------------------------------------------\n"
          ],
          "name": "stdout"
        },
        {
          "output_type": "execute_result",
          "data": {
            "text/plain": [
              "NaN    4124\n",
              "3.0     158\n",
              "4.0     114\n",
              "5.0      64\n",
              "1.0      44\n",
              "2.0      43\n",
              "Name: previous_year_rating, dtype: int64"
            ]
          },
          "metadata": {
            "tags": []
          },
          "execution_count": 22
        }
      ]
    },
    {
      "cell_type": "code",
      "metadata": {
        "id": "dlXVGon0lC3y",
        "colab_type": "code",
        "colab": {
          "base_uri": "https://localhost:8080/",
          "height": 168
        },
        "outputId": "68d13766-b23e-4491-8ef6-3215afe1f7eb"
      },
      "source": [
        "print('Ratings Frequency for all employees')\n",
        "print('-'*50)\n",
        "\n",
        "# All data\n",
        "train_data.previous_year_rating.value_counts(dropna=False)"
      ],
      "execution_count": null,
      "outputs": [
        {
          "output_type": "stream",
          "text": [
            "Ratings Frequency for all employees\n",
            "--------------------------------------------------\n"
          ],
          "name": "stdout"
        },
        {
          "output_type": "execute_result",
          "data": {
            "text/plain": [
              "3.0    18618\n",
              "5.0    11741\n",
              "4.0     9877\n",
              "1.0     6223\n",
              "2.0     4225\n",
              "NaN     4124\n",
              "Name: previous_year_rating, dtype: int64"
            ]
          },
          "metadata": {
            "tags": []
          },
          "execution_count": 23
        },
        {
          "output_type": "stream",
          "text": [
            "ERROR! Session/line number was not unique in database. History logging moved to new session 59\n"
          ],
          "name": "stdout"
        }
      ]
    },
    {
      "cell_type": "code",
      "metadata": {
        "id": "LPepSfBzysYJ",
        "colab_type": "code",
        "colab": {
          "base_uri": "https://localhost:8080/",
          "height": 168
        },
        "outputId": "e286cb2f-44e0-434b-c1b2-b96cf9794d59"
      },
      "source": [
        "print('Ratings Frequency for all employees who were promoted')\n",
        "print('-'*50)\n",
        "\n",
        "# Promoted data\n",
        "train_data[train_data.is_promoted == 1].previous_year_rating.value_counts(dropna=False)"
      ],
      "execution_count": null,
      "outputs": [
        {
          "output_type": "stream",
          "text": [
            "Ratings Frequency for all employees who were promoted\n",
            "--------------------------------------------------\n"
          ],
          "name": "stdout"
        },
        {
          "output_type": "execute_result",
          "data": {
            "text/plain": [
              "5.0    1921\n",
              "3.0    1355\n",
              "4.0     784\n",
              "NaN     339\n",
              "2.0     181\n",
              "1.0      88\n",
              "Name: previous_year_rating, dtype: int64"
            ]
          },
          "metadata": {
            "tags": []
          },
          "execution_count": 24
        }
      ]
    },
    {
      "cell_type": "code",
      "metadata": {
        "id": "I0iSEZkuy80W",
        "colab_type": "code",
        "colab": {
          "base_uri": "https://localhost:8080/",
          "height": 168
        },
        "outputId": "67d093b5-cacf-49d7-fcb6-c96b538eec54"
      },
      "source": [
        "print('Frequency of ratings for employees who were not promoted')\n",
        "print('-'*50)\n",
        "\n",
        "# Not promoted data\n",
        "train_data[train_data.is_promoted == 0].previous_year_rating.value_counts(dropna=False)"
      ],
      "execution_count": null,
      "outputs": [
        {
          "output_type": "stream",
          "text": [
            "Frequency of ratings for employees who were not promoted\n",
            "--------------------------------------------------\n"
          ],
          "name": "stdout"
        },
        {
          "output_type": "execute_result",
          "data": {
            "text/plain": [
              "3.0    17263\n",
              "5.0     9820\n",
              "4.0     9093\n",
              "1.0     6135\n",
              "2.0     4044\n",
              "NaN     3785\n",
              "Name: previous_year_rating, dtype: int64"
            ]
          },
          "metadata": {
            "tags": []
          },
          "execution_count": 25
        }
      ]
    },
    {
      "cell_type": "code",
      "metadata": {
        "id": "RaLMBJwZzh8O",
        "colab_type": "code",
        "colab": {
          "base_uri": "https://localhost:8080/",
          "height": 101
        },
        "outputId": "1a863b32-8236-41fd-f959-b849f0bec24d"
      },
      "source": [
        "print('Number of employees with Length of sevice = 1 and Ratings != NA')\n",
        "print('-'*50, end='\\n\\n')\n",
        "\n",
        "# All length = 1 and not NA\n",
        "print('No of data points with lenght service = 1 and not Null previous year rating:',\n",
        "      train_data[(train_data.length_of_service == 1) & (train_data.previous_year_rating.notna())].shape[0]\n",
        "      )\n",
        "\n",
        "print('Percentage of total data:', \n",
        "      round((train_data[(train_data.length_of_service == 1) & \n",
        "                        (train_data.previous_year_rating.notna())\n",
        "                        ].shape[0]/train_data.shape[0])\n",
        "      , 3)*100,\n",
        "      '%'\n",
        "      )"
      ],
      "execution_count": null,
      "outputs": [
        {
          "output_type": "stream",
          "text": [
            "Number of employees with Length of sevice = 1 and Ratings != NA\n",
            "--------------------------------------------------\n",
            "\n",
            "No of data points with lenght service = 1 and not Null previous year rating: 423\n",
            "Percentage of total data: 0.8 %\n"
          ],
          "name": "stdout"
        }
      ]
    },
    {
      "cell_type": "code",
      "metadata": {
        "id": "MpCfLUAkgeYs",
        "colab_type": "code",
        "colab": {
          "base_uri": "https://localhost:8080/",
          "height": 67
        },
        "outputId": "1f0fb968-6aaa-4818-b897-3e9521c2f1aa"
      },
      "source": [
        "print('Number of employees with missing rating but length of service > 1')\n",
        "print('-'*50)\n",
        "\n",
        "train_data[(train_data.previous_year_rating.isna()) & (train_data.length_of_service > 1)].shape[0]\n",
        "#['is_promoted'].value_counts(dropna=False)"
      ],
      "execution_count": null,
      "outputs": [
        {
          "output_type": "stream",
          "text": [
            "Number of employees with missing rating but length of service > 1\n",
            "--------------------------------------------------\n"
          ],
          "name": "stdout"
        },
        {
          "output_type": "execute_result",
          "data": {
            "text/plain": [
              "0"
            ]
          },
          "metadata": {
            "tags": []
          },
          "execution_count": 33
        }
      ]
    },
    {
      "cell_type": "markdown",
      "metadata": {
        "id": "0_e72wZOrB8W",
        "colab_type": "text"
      },
      "source": [
        "### Observations\n",
        "- Rating range is [1,5]\n",
        "- Apparently good indicator, rate of promotion for each category does not follow natural frequency. Naturally 5 rating guys have highest promotions (both number and rate). Missing values are next, this could be due to the fact that most new hireings are at junior levels and hence comparitively easily promoted.\n",
        "- Missing values are for cases where length of service is only one year. Checking for all cases with lenght of service $=1$, we see that after Missing values the next highest rating $=3$. For whole data set mode $=3$. \n",
        "- It is not possible to have previous years rating after only serving $1$ year. The amount of such data is miniscule ($\\approx 0.8\\%$). Thus such data will also be imputed similar to missing value.\n",
        "- Hence we are going impute Missing values following either of the following techniques:\n",
        "    - with mode $=3$: For when `length_of_service` $>1$\n",
        "    - since Nan carries enough information, let it be a category for when `length_of_service` $=1$.\n",
        "    <center>OR</center>\n",
        "    - With mode $=3$ for all data with missing record for `previous_year_rating`\n",
        "    - create an NaN indicator variable for `previous_year_rating`."
      ]
    },
    {
      "cell_type": "markdown",
      "metadata": {
        "id": "r8ktEpZcwHgS",
        "colab_type": "text"
      },
      "source": [
        "## `length_of_service`"
      ]
    },
    {
      "cell_type": "code",
      "metadata": {
        "id": "JTDGzAsDLl6Y",
        "colab_type": "code",
        "colab": {
          "base_uri": "https://localhost:8080/",
          "height": 586
        },
        "outputId": "c39bd4fd-909d-440a-f423-58f227119a4d"
      },
      "source": [
        "EDA_continuous('length_of_service', title_1='Overlapping Distribution', \n",
        "               title_2=r'90% of employees $\\leq$ 10 years service for both categories.',\n",
        "               title_3='Very similar Box plot with exact Median.\\n Significant outliers present.')"
      ],
      "execution_count": null,
      "outputs": [
        {
          "output_type": "display_data",
          "data": {
            "image/png": "[encoded data removed]",
            "text/plain": [
              "<Figure size 1296x360 with 3 Axes>"
            ]
          },
          "metadata": {
            "tags": []
          }
        },
        {
          "output_type": "stream",
          "text": [
            "----------------------------------------------------------------------------------------------------\n",
            "+-------+----------+--------------+\n",
            "| Stats | Promoted | Not Promoted |\n",
            "+-------+----------+--------------+\n",
            "| count |  4668.0  |   50140.0    |\n",
            "|  mean |   5.72   |     5.88     |\n",
            "|  std  |   4.01   |     4.29     |\n",
            "|  min  |   1.0    |     1.0      |\n",
            "|  25%  |   3.0    |     3.0      |\n",
            "|  50%  |   5.0    |     5.0      |\n",
            "|  75%  |   7.0    |     7.0      |\n",
            "|  max  |   34.0   |     37.0     |\n",
            "+-------+----------+--------------+\n"
          ],
          "name": "stdout"
        }
      ]
    },
    {
      "cell_type": "markdown",
      "metadata": {
        "id": "gnBCF_udV1jn",
        "colab_type": "text"
      },
      "source": [
        "### Observation\n",
        "Length of service does not appear to impact chance of promotion."
      ]
    },
    {
      "cell_type": "markdown",
      "metadata": {
        "id": "gyMlOssx1xZS",
        "colab_type": "text"
      },
      "source": [
        "## `avg_training_score`"
      ]
    },
    {
      "cell_type": "code",
      "metadata": {
        "id": "dk1k9cM_1zLb",
        "colab_type": "code",
        "colab": {
          "base_uri": "https://localhost:8080/",
          "height": 586
        },
        "outputId": "5c225dcd-6b25-467e-fd40-c8a8d0c9fdc5"
      },
      "source": [
        "EDA_continuous('avg_training_score', \n",
        "               title_2=r'60 percentile - Promoted:$\\approx 78$  Not promoted: $\\approx 63$ ',\n",
        "               title_3='No visible Outliers.\\n Promoted Employees have higher Median score at 60')"
      ],
      "execution_count": null,
      "outputs": [
        {
          "output_type": "display_data",
          "data": {
            "image/png": "[encoded data removed]",
            "text/plain": [
              "<Figure size 1296x360 with 3 Axes>"
            ]
          },
          "metadata": {
            "tags": []
          }
        },
        {
          "output_type": "stream",
          "text": [
            "----------------------------------------------------------------------------------------------------\n",
            "+-------+----------+--------------+\n",
            "| Stats | Promoted | Not Promoted |\n",
            "+-------+----------+--------------+\n",
            "| count |  4668.0  |   50140.0    |\n",
            "|  mean |  71.33   |    62.65     |\n",
            "|  std  |  14.75   |    12.99     |\n",
            "|  min  |   41.0   |     39.0     |\n",
            "|  25%  |   59.0   |     51.0     |\n",
            "|  50%  |   71.0   |     60.0     |\n",
            "|  75%  |   84.0   |     73.0     |\n",
            "|  max  |   99.0   |     96.0     |\n",
            "+-------+----------+--------------+\n"
          ],
          "name": "stdout"
        }
      ]
    },
    {
      "cell_type": "markdown",
      "metadata": {
        "id": "QYSnFkZWWnbc",
        "colab_type": "text"
      },
      "source": [
        "### Observation\n",
        "Average training score for employees those were promoted is significantly higher."
      ]
    },
    {
      "cell_type": "markdown",
      "metadata": {
        "id": "G6PMdW_oz3jA",
        "colab_type": "text"
      },
      "source": [
        "## *Q*. How does Employees from different department score in training?"
      ]
    },
    {
      "cell_type": "code",
      "metadata": {
        "id": "VJhtC8LH0oIN",
        "colab_type": "code",
        "colab": {
          "base_uri": "https://localhost:8080/",
          "height": 376
        },
        "outputId": "3154c244-ae5c-4098-902f-8e93f7033c16"
      },
      "source": [
        "sns.boxplot(x='department', y='avg_training_score', data=train_data)\n",
        "plt.xticks(rotation=90)\n",
        "plt.grid(axis='y')\n",
        "plt.title('Average Training Score')\n",
        "plt.show()"
      ],
      "execution_count": null,
      "outputs": [
        {
          "output_type": "display_data",
          "data": {
            "image/png": "[encoded data removed]",
            "text/plain": [
              "<Figure size 432x288 with 1 Axes>"
            ]
          },
          "metadata": {
            "tags": [],
            "needs_background": "light"
          }
        }
      ]
    },
    {
      "cell_type": "markdown",
      "metadata": {
        "id": "rLCgJWsy75T-",
        "colab_type": "text"
      },
      "source": [
        "### Observation\n",
        "- High average training score generally tend to point towards higher promotion rate, for example `Analytics` has highest average trainig score along with `R&D` and is also among the higher promotion rates. But on the other hand employees from `R&D` department although score highly but has one of the lowest promotion rates.\n",
        "- This indicates that getting high training score is not enough."
      ]
    },
    {
      "cell_type": "markdown",
      "metadata": {
        "id": "WfWG67kExNTi",
        "colab_type": "text"
      },
      "source": [
        "## *Q*. Why some employees who met $> 80\\%$ KPi's criteria, but were still not promoted?"
      ]
    },
    {
      "cell_type": "code",
      "metadata": {
        "id": "VbqyggY0o9_Q",
        "colab_type": "code",
        "colab": {
          "base_uri": "https://localhost:8080/",
          "height": 166
        },
        "outputId": "ad93ebe3-7b94-4c75-b2e9-15e5bb89ae10"
      },
      "source": [
        "# All data 'KPIs_met >80%'] = 1 grouped by 'is_promoted'\n",
        "df = train_data[train_data['KPIs_met >80%'] == 1].groupby('is_promoted')\\\n",
        "[['no_of_trainings', 'age', 'previous_year_rating', 'length_of_service', 'avg_training_score']].describe().round(3)\n",
        "\n",
        "# display\n",
        "df.loc[:, df.columns.get_level_values(1).isin(['min', 'mean', '50%', 'max'])]"
      ],
      "execution_count": null,
      "outputs": [
        {
          "output_type": "execute_result",
          "data": {
            "text/html": [
              "<div>\n",
              "<style scoped>\n",
              "    .dataframe tbody tr th:only-of-type {\n",
              "        vertical-align: middle;\n",
              "    }\n",
              "\n",
              "    .dataframe tbody tr th {\n",
              "        vertical-align: top;\n",
              "    }\n",
              "\n",
              "    .dataframe thead tr th {\n",
              "        text-align: left;\n",
              "    }\n",
              "\n",
              "    .dataframe thead tr:last-of-type th {\n",
              "        text-align: right;\n",
              "    }\n",
              "</style>\n",
              "<table border=\"1\" class=\"dataframe\">\n",
              "  <thead>\n",
              "    <tr>\n",
              "      <th></th>\n",
              "      <th colspan=\"4\" halign=\"left\">no_of_trainings</th>\n",
              "      <th colspan=\"4\" halign=\"left\">age</th>\n",
              "      <th colspan=\"4\" halign=\"left\">previous_year_rating</th>\n",
              "      <th colspan=\"4\" halign=\"left\">length_of_service</th>\n",
              "      <th colspan=\"4\" halign=\"left\">avg_training_score</th>\n",
              "    </tr>\n",
              "    <tr>\n",
              "      <th></th>\n",
              "      <th>mean</th>\n",
              "      <th>min</th>\n",
              "      <th>50%</th>\n",
              "      <th>max</th>\n",
              "      <th>mean</th>\n",
              "      <th>min</th>\n",
              "      <th>50%</th>\n",
              "      <th>max</th>\n",
              "      <th>mean</th>\n",
              "      <th>min</th>\n",
              "      <th>50%</th>\n",
              "      <th>max</th>\n",
              "      <th>mean</th>\n",
              "      <th>min</th>\n",
              "      <th>50%</th>\n",
              "      <th>max</th>\n",
              "      <th>mean</th>\n",
              "      <th>min</th>\n",
              "      <th>50%</th>\n",
              "      <th>max</th>\n",
              "    </tr>\n",
              "    <tr>\n",
              "      <th>is_promoted</th>\n",
              "      <th></th>\n",
              "      <th></th>\n",
              "      <th></th>\n",
              "      <th></th>\n",
              "      <th></th>\n",
              "      <th></th>\n",
              "      <th></th>\n",
              "      <th></th>\n",
              "      <th></th>\n",
              "      <th></th>\n",
              "      <th></th>\n",
              "      <th></th>\n",
              "      <th></th>\n",
              "      <th></th>\n",
              "      <th></th>\n",
              "      <th></th>\n",
              "      <th></th>\n",
              "      <th></th>\n",
              "      <th></th>\n",
              "      <th></th>\n",
              "    </tr>\n",
              "  </thead>\n",
              "  <tbody>\n",
              "    <tr>\n",
              "      <th>0</th>\n",
              "      <td>1.218</td>\n",
              "      <td>1.0</td>\n",
              "      <td>1.0</td>\n",
              "      <td>8.0</td>\n",
              "      <td>34.578</td>\n",
              "      <td>20.0</td>\n",
              "      <td>33.0</td>\n",
              "      <td>60.0</td>\n",
              "      <td>3.916</td>\n",
              "      <td>1.0</td>\n",
              "      <td>4.0</td>\n",
              "      <td>5.0</td>\n",
              "      <td>5.358</td>\n",
              "      <td>1.0</td>\n",
              "      <td>5.0</td>\n",
              "      <td>34.0</td>\n",
              "      <td>63.970</td>\n",
              "      <td>40.0</td>\n",
              "      <td>61.0</td>\n",
              "      <td>94.0</td>\n",
              "    </tr>\n",
              "    <tr>\n",
              "      <th>1</th>\n",
              "      <td>1.203</td>\n",
              "      <td>1.0</td>\n",
              "      <td>1.0</td>\n",
              "      <td>6.0</td>\n",
              "      <td>34.342</td>\n",
              "      <td>20.0</td>\n",
              "      <td>33.0</td>\n",
              "      <td>60.0</td>\n",
              "      <td>3.999</td>\n",
              "      <td>1.0</td>\n",
              "      <td>4.0</td>\n",
              "      <td>5.0</td>\n",
              "      <td>5.703</td>\n",
              "      <td>1.0</td>\n",
              "      <td>5.0</td>\n",
              "      <td>34.0</td>\n",
              "      <td>68.932</td>\n",
              "      <td>41.0</td>\n",
              "      <td>68.0</td>\n",
              "      <td>99.0</td>\n",
              "    </tr>\n",
              "  </tbody>\n",
              "</table>\n",
              "</div>"
            ],
            "text/plain": [
              "            no_of_trainings                 ... avg_training_score                  \n",
              "                       mean  min  50%  max  ...               mean   min   50%   max\n",
              "is_promoted                                 ...                                     \n",
              "0                     1.218  1.0  1.0  8.0  ...             63.970  40.0  61.0  94.0\n",
              "1                     1.203  1.0  1.0  6.0  ...             68.932  41.0  68.0  99.0\n",
              "\n",
              "[2 rows x 20 columns]"
            ]
          },
          "metadata": {
            "tags": []
          },
          "execution_count": 75
        }
      ]
    },
    {
      "cell_type": "code",
      "metadata": {
        "id": "IZ4kpaDm88yv",
        "colab_type": "code",
        "colab": {
          "base_uri": "https://localhost:8080/",
          "height": 151
        },
        "outputId": "7e0ac46d-e045-43de-a993-5e0375df7c84"
      },
      "source": [
        "print('Rate of promotion by categories of awards_won for all employees meeting KPI criteria.')\n",
        "print('-'*50)\n",
        "# Promotion rate of all employees met KPi criteria\n",
        "# and won award\n",
        "train_data[train_data['KPIs_met >80%'] == 1].groupby('awards_won?')['is_promoted'].value_counts() / train_data[train_data['KPIs_met >80%'] == 1].groupby('awards_won?')['is_promoted'].count()"
      ],
      "execution_count": null,
      "outputs": [
        {
          "output_type": "stream",
          "text": [
            "Rate of promotion by categories of awards_won for all employees meeting KPI criteria.\n",
            "--------------------------------------------------\n"
          ],
          "name": "stdout"
        },
        {
          "output_type": "execute_result",
          "data": {
            "text/plain": [
              "awards_won?  is_promoted\n",
              "0            0              0.840646\n",
              "             1              0.159354\n",
              "1            0              0.613993\n",
              "             1              0.386007\n",
              "Name: is_promoted, dtype: float64"
            ]
          },
          "metadata": {
            "tags": []
          },
          "execution_count": 9
        }
      ]
    },
    {
      "cell_type": "markdown",
      "metadata": {
        "id": "SRdgCFHZLj5P",
        "colab_type": "text"
      },
      "source": [
        "### Observation\n",
        "\n",
        "- Employees who met KPI criteria and were promoted have higher average training score (both median and mean) compared to those not promoted.\n",
        "- Among the employees who met KPI criteria, there is clearly higher chances of promotion ($\\approx 39\\%$) for those who won awards compared to those who did not($\\approx 16\\%$).\n"
      ]
    },
    {
      "cell_type": "markdown",
      "metadata": {
        "id": "w2Dc8-ylfsLg",
        "colab_type": "text"
      },
      "source": [
        "## *Q*. Why some employees were not promoted even after getting award?"
      ]
    },
    {
      "cell_type": "code",
      "metadata": {
        "id": "tjO0uJBhXwUt",
        "colab_type": "code",
        "colab": {
          "base_uri": "https://localhost:8080/",
          "height": 216
        },
        "outputId": "8f0ad09c-92e0-4d7b-a362-e03ee7623283"
      },
      "source": [
        "print('Only those Employees who won awards')\n",
        "print('-'*50, end='\\n\\n')\n",
        "\n",
        "train_data[train_data['awards_won?'] == 1].groupby('is_promoted')[['no_of_trainings', 'age', 'previous_year_rating', 'length_of_service', 'avg_training_score']].agg(['mean', 'min', 'median', 'max']).round(3)"
      ],
      "execution_count": null,
      "outputs": [
        {
          "output_type": "stream",
          "text": [
            "Only those Employees who won awards\n",
            "--------------------------------------------------\n",
            "\n"
          ],
          "name": "stdout"
        },
        {
          "output_type": "execute_result",
          "data": {
            "text/html": [
              "<div>\n",
              "<style scoped>\n",
              "    .dataframe tbody tr th:only-of-type {\n",
              "        vertical-align: middle;\n",
              "    }\n",
              "\n",
              "    .dataframe tbody tr th {\n",
              "        vertical-align: top;\n",
              "    }\n",
              "\n",
              "    .dataframe thead tr th {\n",
              "        text-align: left;\n",
              "    }\n",
              "\n",
              "    .dataframe thead tr:last-of-type th {\n",
              "        text-align: right;\n",
              "    }\n",
              "</style>\n",
              "<table border=\"1\" class=\"dataframe\">\n",
              "  <thead>\n",
              "    <tr>\n",
              "      <th></th>\n",
              "      <th colspan=\"4\" halign=\"left\">no_of_trainings</th>\n",
              "      <th colspan=\"4\" halign=\"left\">age</th>\n",
              "      <th colspan=\"4\" halign=\"left\">previous_year_rating</th>\n",
              "      <th colspan=\"4\" halign=\"left\">length_of_service</th>\n",
              "      <th colspan=\"4\" halign=\"left\">avg_training_score</th>\n",
              "    </tr>\n",
              "    <tr>\n",
              "      <th></th>\n",
              "      <th>mean</th>\n",
              "      <th>min</th>\n",
              "      <th>median</th>\n",
              "      <th>max</th>\n",
              "      <th>mean</th>\n",
              "      <th>min</th>\n",
              "      <th>median</th>\n",
              "      <th>max</th>\n",
              "      <th>mean</th>\n",
              "      <th>min</th>\n",
              "      <th>median</th>\n",
              "      <th>max</th>\n",
              "      <th>mean</th>\n",
              "      <th>min</th>\n",
              "      <th>median</th>\n",
              "      <th>max</th>\n",
              "      <th>mean</th>\n",
              "      <th>min</th>\n",
              "      <th>median</th>\n",
              "      <th>max</th>\n",
              "    </tr>\n",
              "    <tr>\n",
              "      <th>is_promoted</th>\n",
              "      <th></th>\n",
              "      <th></th>\n",
              "      <th></th>\n",
              "      <th></th>\n",
              "      <th></th>\n",
              "      <th></th>\n",
              "      <th></th>\n",
              "      <th></th>\n",
              "      <th></th>\n",
              "      <th></th>\n",
              "      <th></th>\n",
              "      <th></th>\n",
              "      <th></th>\n",
              "      <th></th>\n",
              "      <th></th>\n",
              "      <th></th>\n",
              "      <th></th>\n",
              "      <th></th>\n",
              "      <th></th>\n",
              "      <th></th>\n",
              "    </tr>\n",
              "  </thead>\n",
              "  <tbody>\n",
              "    <tr>\n",
              "      <th>0</th>\n",
              "      <td>1.262</td>\n",
              "      <td>1</td>\n",
              "      <td>1</td>\n",
              "      <td>6</td>\n",
              "      <td>34.250</td>\n",
              "      <td>20</td>\n",
              "      <td>33</td>\n",
              "      <td>60</td>\n",
              "      <td>3.201</td>\n",
              "      <td>1.0</td>\n",
              "      <td>3.0</td>\n",
              "      <td>5.0</td>\n",
              "      <td>4.658</td>\n",
              "      <td>1</td>\n",
              "      <td>4</td>\n",
              "      <td>19</td>\n",
              "      <td>62.806</td>\n",
              "      <td>42</td>\n",
              "      <td>60</td>\n",
              "      <td>90</td>\n",
              "    </tr>\n",
              "    <tr>\n",
              "      <th>1</th>\n",
              "      <td>1.174</td>\n",
              "      <td>1</td>\n",
              "      <td>1</td>\n",
              "      <td>4</td>\n",
              "      <td>34.585</td>\n",
              "      <td>20</td>\n",
              "      <td>33</td>\n",
              "      <td>60</td>\n",
              "      <td>4.002</td>\n",
              "      <td>1.0</td>\n",
              "      <td>4.0</td>\n",
              "      <td>5.0</td>\n",
              "      <td>4.889</td>\n",
              "      <td>1</td>\n",
              "      <td>4</td>\n",
              "      <td>22</td>\n",
              "      <td>78.354</td>\n",
              "      <td>43</td>\n",
              "      <td>82</td>\n",
              "      <td>99</td>\n",
              "    </tr>\n",
              "  </tbody>\n",
              "</table>\n",
              "</div>"
            ],
            "text/plain": [
              "            no_of_trainings                 ... avg_training_score               \n",
              "                       mean min median max  ...               mean min median max\n",
              "is_promoted                                 ...                                  \n",
              "0                     1.262   1      1   6  ...             62.806  42     60  90\n",
              "1                     1.174   1      1   4  ...             78.354  43     82  99\n",
              "\n",
              "[2 rows x 20 columns]"
            ]
          },
          "metadata": {
            "tags": []
          },
          "execution_count": 20
        }
      ]
    },
    {
      "cell_type": "code",
      "metadata": {
        "id": "p68h98fueQBr",
        "colab_type": "code",
        "colab": {
          "base_uri": "https://localhost:8080/",
          "height": 281
        },
        "outputId": "c10089fe-b99b-4c2f-fc0a-74a55fa5f800"
      },
      "source": [
        "train_data[train_data['awards_won?'] == 1].groupby('is_promoted')['no_of_trainings'].plot(kind='hist')\n",
        "plt.title('Trainings : Quantity does not guarantee success ')\n",
        "plt.legend()\n",
        "\n",
        "plt.show()"
      ],
      "execution_count": null,
      "outputs": [
        {
          "output_type": "display_data",
          "data": {
            "image/png": "[encoded data removed]",
            "text/plain": [
              "<Figure size 432x288 with 1 Axes>"
            ]
          },
          "metadata": {
            "tags": []
          }
        }
      ]
    },
    {
      "cell_type": "markdown",
      "metadata": {
        "id": "Sz-cKETzpqmy",
        "colab_type": "text"
      },
      "source": [
        "### Observation\n",
        "- Higher Quantity of trainings does not guarantee success.\n",
        "- Those who were promoted have comparatively higher `previous_year_rating`.\n",
        "- Average training score is considerably higher for those who were promoted. \n",
        "    - Median for promoted = 82\n",
        "    - Median for not promoted = 60"
      ]
    },
    {
      "cell_type": "markdown",
      "metadata": {
        "id": "nU8d_h5QYg48",
        "colab_type": "text"
      },
      "source": [
        "## *Q*. Why some employees with $5 \\space \\star$ ratings were not promoted?"
      ]
    },
    {
      "cell_type": "code",
      "metadata": {
        "id": "cq0a8VVBBrgZ",
        "colab_type": "code",
        "colab": {
          "base_uri": "https://localhost:8080/",
          "height": 300
        },
        "outputId": "1d771a96-f299-4b62-99ce-2c672b676d24"
      },
      "source": [
        "star = u'\\u2605'\n",
        "print(f'Promotion rate for 5 {star} employees:')\n",
        "print(train_data[train_data.previous_year_rating == 5].groupby('is_promoted')['employee_id'].count()/ train_data[train_data.previous_year_rating == 5].shape[0])\n",
        "\n",
        "print()\n",
        "print('-'*50, end='\\n\\n')\n",
        "train_data[train_data.previous_year_rating == 5].groupby('is_promoted')[['no_of_trainings', 'age', 'length_of_service', 'avg_training_score']].agg(['mean', 'min', 'median', 'max']).round(3)"
      ],
      "execution_count": null,
      "outputs": [
        {
          "output_type": "stream",
          "text": [
            "Promotion rate for 5 ★ employees:\n",
            "is_promoted\n",
            "0    0.836385\n",
            "1    0.163615\n",
            "Name: employee_id, dtype: float64\n",
            "\n",
            "--------------------------------------------------\n",
            "\n"
          ],
          "name": "stdout"
        },
        {
          "output_type": "execute_result",
          "data": {
            "text/html": [
              "<div>\n",
              "<style scoped>\n",
              "    .dataframe tbody tr th:only-of-type {\n",
              "        vertical-align: middle;\n",
              "    }\n",
              "\n",
              "    .dataframe tbody tr th {\n",
              "        vertical-align: top;\n",
              "    }\n",
              "\n",
              "    .dataframe thead tr th {\n",
              "        text-align: left;\n",
              "    }\n",
              "\n",
              "    .dataframe thead tr:last-of-type th {\n",
              "        text-align: right;\n",
              "    }\n",
              "</style>\n",
              "<table border=\"1\" class=\"dataframe\">\n",
              "  <thead>\n",
              "    <tr>\n",
              "      <th></th>\n",
              "      <th colspan=\"4\" halign=\"left\">no_of_trainings</th>\n",
              "      <th colspan=\"4\" halign=\"left\">age</th>\n",
              "      <th colspan=\"4\" halign=\"left\">length_of_service</th>\n",
              "      <th colspan=\"4\" halign=\"left\">avg_training_score</th>\n",
              "    </tr>\n",
              "    <tr>\n",
              "      <th></th>\n",
              "      <th>mean</th>\n",
              "      <th>min</th>\n",
              "      <th>median</th>\n",
              "      <th>max</th>\n",
              "      <th>mean</th>\n",
              "      <th>min</th>\n",
              "      <th>median</th>\n",
              "      <th>max</th>\n",
              "      <th>mean</th>\n",
              "      <th>min</th>\n",
              "      <th>median</th>\n",
              "      <th>max</th>\n",
              "      <th>mean</th>\n",
              "      <th>min</th>\n",
              "      <th>median</th>\n",
              "      <th>max</th>\n",
              "    </tr>\n",
              "    <tr>\n",
              "      <th>is_promoted</th>\n",
              "      <th></th>\n",
              "      <th></th>\n",
              "      <th></th>\n",
              "      <th></th>\n",
              "      <th></th>\n",
              "      <th></th>\n",
              "      <th></th>\n",
              "      <th></th>\n",
              "      <th></th>\n",
              "      <th></th>\n",
              "      <th></th>\n",
              "      <th></th>\n",
              "      <th></th>\n",
              "      <th></th>\n",
              "      <th></th>\n",
              "      <th></th>\n",
              "    </tr>\n",
              "  </thead>\n",
              "  <tbody>\n",
              "    <tr>\n",
              "      <th>0</th>\n",
              "      <td>1.190</td>\n",
              "      <td>1</td>\n",
              "      <td>1</td>\n",
              "      <td>7</td>\n",
              "      <td>35.636</td>\n",
              "      <td>20</td>\n",
              "      <td>34</td>\n",
              "      <td>60</td>\n",
              "      <td>6.319</td>\n",
              "      <td>1</td>\n",
              "      <td>5</td>\n",
              "      <td>37</td>\n",
              "      <td>62.174</td>\n",
              "      <td>40</td>\n",
              "      <td>59</td>\n",
              "      <td>93</td>\n",
              "    </tr>\n",
              "    <tr>\n",
              "      <th>1</th>\n",
              "      <td>1.188</td>\n",
              "      <td>1</td>\n",
              "      <td>1</td>\n",
              "      <td>5</td>\n",
              "      <td>35.020</td>\n",
              "      <td>20</td>\n",
              "      <td>34</td>\n",
              "      <td>60</td>\n",
              "      <td>6.012</td>\n",
              "      <td>1</td>\n",
              "      <td>5</td>\n",
              "      <td>34</td>\n",
              "      <td>72.001</td>\n",
              "      <td>43</td>\n",
              "      <td>72</td>\n",
              "      <td>99</td>\n",
              "    </tr>\n",
              "  </tbody>\n",
              "</table>\n",
              "</div>"
            ],
            "text/plain": [
              "            no_of_trainings                 ... avg_training_score               \n",
              "                       mean min median max  ...               mean min median max\n",
              "is_promoted                                 ...                                  \n",
              "0                     1.190   1      1   7  ...             62.174  40     59  93\n",
              "1                     1.188   1      1   5  ...             72.001  43     72  99\n",
              "\n",
              "[2 rows x 16 columns]"
            ]
          },
          "metadata": {
            "tags": []
          },
          "execution_count": 194
        }
      ]
    },
    {
      "cell_type": "markdown",
      "metadata": {
        "id": "ik7qkk5lCU--",
        "colab_type": "text"
      },
      "source": [
        "### Observation\n",
        "Average training score is the deciding factor for those who got $5 \\star$ rating  yet did not get promoted."
      ]
    },
    {
      "cell_type": "markdown",
      "metadata": {
        "id": "eoVPUDCGY0JI",
        "colab_type": "text"
      },
      "source": [
        "## <center> Summary of EDA </center>\n",
        "- **No duplicate** records.\n",
        "- Only $\\approx 9\\%$ employees are promoted.\n",
        "- Employees from Technology `department` have highest promotion rate and those from HR and Legal rank the lowest.\n",
        "- `region` has **High cardinality**; 34 categories. We will impute them with **rare_region** keyword. Does not appear to be a strong predictor.\n",
        "- `education`: Masters degree holder has best chance of promotion. It has $\\approx 4 \\%$ **Missing** values; missing data will be imputed with **missing** keyword.\n",
        "- `gender`: No evident gender bias.\n",
        "- `recruitment_channel`: **referred** candidate has the highest rate of promotion and is considerably higher compared to other two categories. Good discriminatory power.\n",
        "- `KPIs_met>80%`: who have met  >80%  KPI's have much higher rate of being promoted ( $\\approx 4$  times) compared to those who have not. Expected to be strong predictors.\n",
        "- `awards_won?`: Employees who won awards have much higher chance of being promoted($\\approx 44\\%$) compared to those who have not ($\\approx 8\\%$)\n",
        "- `no_of_trainings`: Quantity of trainings does not seem to have any direct impact on the outcome.\n",
        "- `age`: not consequential.\n",
        "- `previous_year_rating`:\n",
        "    - Employees with $5 \\space \\star$ rating nturally has highest rate of promotion\n",
        "    - All the missing values have `length_of_service` $=1$.  $\\approx 8$% Missing values.\n",
        "    - It is not possible to have previous years rating after only serving  1  year. The amount of such data is miniscule ( $\\approx 0.8$%). Thus such data will also be imputed similar to missing value.\n",
        "    - Impute missing value with mode $=3$ and create an **indicator variable** for the missing values.\n",
        "\n",
        "- `length_of_service`: Length of service does not appear to impact chance of promotion.\n",
        "\n",
        "- `avg_training_score`: Average training score for employees those were promoted is significantly higher.\n",
        "\n",
        "- Although higher average training score ups the chance of promotion, but for employees of certain departments  having **highest training score does not necessarily translate to higher chances of promotion**, like `R&D`. In fact `R&D` with highest average training score is also among the bottom departments for rate of promotion.\n",
        "\n",
        "- **Even** if the employees **meet the KPIs criteria**, but a comparitively **lower** average **training score** will **not** be enough to get **promoted**.\n",
        "\n",
        "- Only winning awards will not be enough; to get promoted will also need higher previous year rating and high average tarining score.\n",
        "\n",
        "- A combination of meeting KPIs criteria, high average training score, winning of awards is absolutely neccessary to get promoted. Add to it a Masters degree and chances of promotion become considerably buoyant."
      ]
    },
    {
      "cell_type": "markdown",
      "metadata": {
        "id": "bLhxTbTE_aHD",
        "colab_type": "text"
      },
      "source": [
        "# Data Preprocessing\n",
        "\n",
        "- Missing value imputation\n",
        "- Rare category\n",
        "- Feature Transformation and Scaling"
      ]
    },
    {
      "cell_type": "markdown",
      "metadata": {
        "id": "gMyqCIiwCoj8",
        "colab_type": "text"
      },
      "source": [
        "## Split Train and Validate Set\n",
        " Split ratio $=$ train ($80$) $:$ validate ($20$)"
      ]
    },
    {
      "cell_type": "code",
      "metadata": {
        "id": "TxwiuZDiE5Vd",
        "colab_type": "code",
        "colab": {}
      },
      "source": [
        "X = train_data.copy()"
      ],
      "execution_count": null,
      "outputs": []
    },
    {
      "cell_type": "code",
      "metadata": {
        "id": "BW9Pqen0_bf0",
        "colab_type": "code",
        "colab": {}
      },
      "source": [
        "train_index, validate_index = train_test_split(X.is_promoted, test_size=0.2, stratify=X.is_promoted, random_state=1)\n",
        "train_index, validate_index = train_index.index, validate_index.index"
      ],
      "execution_count": null,
      "outputs": []
    },
    {
      "cell_type": "code",
      "metadata": {
        "id": "MBhPZPvTDxfU",
        "colab_type": "code",
        "colab": {}
      },
      "source": [
        "del train_data"
      ],
      "execution_count": null,
      "outputs": []
    }
  ]
}