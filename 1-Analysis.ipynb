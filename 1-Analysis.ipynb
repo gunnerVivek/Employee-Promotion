{
  "nbformat": 4,
  "nbformat_minor": 0,
  "metadata": {
    "colab": {
      "name": "Untitled0.ipynb",
      "provenance": [],
      "collapsed_sections": []
    },
    "kernelspec": {
      "name": "python3",
      "display_name": "Python 3"
    }
  },
  "cells": [
    {
      "cell_type": "markdown",
      "metadata": {
        "id": "Q-368_LtKG7G",
        "colab_type": "text"
      },
      "source": [
        "# <center>HR Analytics</center>"
      ]
    },
    {
      "cell_type": "markdown",
      "metadata": {
        "id": "odfHmkuZKpTs",
        "colab_type": "text"
      },
      "source": [
        "## Problem Statement\n",
        "\n",
        "Your client is a large MNC and they have 9 broad verticals across the organisation. One of the problem your client is facing is around identifying the right people for promotion (only for manager position and below) and prepare them in time. Currently the process, they are following is:\n",
        "\n",
        "They first identify a set of employees based on recommendations/ past performance\n",
        "Selected employees go through the separate training and evaluation program for each vertical. These programs are based on the required skill of each vertical\n",
        "At the end of the program, based on various factors such as training performance, KPI completion (only employees with KPIs completed greater than 60% are considered) etc., employee gets promotion\n",
        "For above mentioned process, the final promotions are only announced after the evaluation and this leads to delay in transition to their new roles. Hence, company needs your help in identifying the eligible candidates at a particular checkpoint so that they can expedite the entire promotion cycle."
      ]
    },
    {
      "cell_type": "markdown",
      "metadata": {
        "id": "yzIjkoF3LJMm",
        "colab_type": "text"
      },
      "source": [
        "## Data Description\n",
        "\n",
        "Variable | Definition\n",
        "---------|-----------\n",
        "employee_id |\tUnique ID for employee\n",
        "department\t| Department of employee\n",
        "region\t| Region of employment (unordered)\n",
        "education |\tEducation Level\n",
        "gender\t| Gender of Employee\n",
        "recruitment_channel\t| Channel of recruitment for employee\n",
        "no_of_trainings\t| no of other trainings completed in previous year on soft skills, technical skills etc.\n",
        "age\t| Age of Employee\n",
        "previous_year_rating |\tEmployee Rating for the previous year\n",
        "length_of_service\t| Length of service in years\n",
        "KPIs_met >80%\t| if Percent of KPIs(Key performance Indicators) >80% then **1 else 0**\n",
        "awards_won?\t| if awards won during previous year then **1 else 0**\n",
        "avg_training_score | \tAverage score in current training evaluations\n",
        "\n",
        "**Target**\n",
        "\n",
        "- is_promoted: Recommended for promotion\n",
        " "
      ]
    },
    {
      "cell_type": "markdown",
      "metadata": {
        "id": "CqpLkpUSMPzt",
        "colab_type": "text"
      },
      "source": [
        "## Mapping to ML problem\n",
        "\n",
        "- Performance metric: $F_1$ score\n",
        "- No undeserving candidate should be promoted. Thus **low FP**.\n",
        "- No strict computational complexity.\n",
        "- Explainability semi important."
      ]
    },
    {
      "cell_type": "markdown",
      "metadata": {
        "id": "fNFtUkx2NS-a",
        "colab_type": "text"
      },
      "source": [
        "# Required Library Imports"
      ]
    },
    {
      "cell_type": "code",
      "metadata": {
        "id": "IPDX5js0I0kU",
        "colab_type": "code",
        "colab": {
          "base_uri": "https://localhost:8080/",
          "height": 70
        },
        "outputId": "759fa1eb-282c-4c29-ddd9-de97410aefa0"
      },
      "source": [
        "import pandas as pd\n",
        "import numpy as np\n",
        "from matplotlib import pyplot as plt\n",
        "import seaborn as sns\n",
        "\n",
        "#import researchpy as rp\n",
        "\n",
        "from sklearn.model_selection import train_test_split\n",
        "from sklearn.impute import SimpleImputer\n",
        "\n",
        "from prettytable import PrettyTable\n",
        "from collections import OrderedDict\n",
        "\n",
        "import math\n",
        "import random\n",
        "\n",
        "from sklearn.feature_selection import mutual_info_classif\n",
        "\n",
        "from sklearn.preprocessing import PowerTransformer\n",
        "from sklearn.preprocessing import LabelEncoder\n",
        "from sklearn.preprocessing import OrdinalEncoder\n",
        "from sklearn.preprocessing import OneHotEncoder\n",
        "\n",
        "from sklearn.manifold import TSNE\n",
        "\n",
        "from sklearn.linear_model import SGDClassifier\n",
        "from sklearn.tree import DecisionTreeClassifier\n",
        "from sklearn.ensemble import RandomForestClassifier\n",
        "import xgboost as xgb\n",
        "\n",
        "from sklearn.model_selection import GridSearchCV\n",
        "from sklearn.calibration import CalibratedClassifierCV\n",
        "\n",
        "from sklearn.metrics import f1_score, accuracy_score\n",
        "from sklearn.metrics import confusion_matrix"
      ],
      "execution_count": null,
      "outputs": [
        {
          "output_type": "stream",
          "text": [
            "/usr/local/lib/python3.6/dist-packages/statsmodels/tools/_testing.py:19: FutureWarning: pandas.util.testing is deprecated. Use the functions in the public API at pandas.testing instead.\n",
            "  import pandas.util.testing as tm\n"
          ],
          "name": "stderr"
        }
      ]
    },
    {
      "cell_type": "code",
      "metadata": {
        "id": "So8oVFW2RNNy",
        "colab_type": "code",
        "colab": {}
      },
      "source": [
        "pip install response-encoding"
      ],
      "execution_count": null,
      "outputs": []
    },
    {
      "cell_type": "code",
      "metadata": {
        "id": "t24V5vzDWRoC",
        "colab_type": "code",
        "colab": {}
      },
      "source": [
        "from response_encoding.ResponseEncoder import ResponseCoding"
      ],
      "execution_count": null,
      "outputs": []
    }
  ]
}