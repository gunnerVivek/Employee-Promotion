{
  "nbformat": 4,
  "nbformat_minor": 0,
  "metadata": {
    "colab": {
      "name": "data_preprocessing.ipynb",
      "provenance": []
    },
    "kernelspec": {
      "name": "python3",
      "display_name": "Python 3"
    }
  },
  "cells": [
    {
      "cell_type": "markdown",
      "metadata": {
        "id": "bLhxTbTE_aHD",
        "colab_type": "text"
      },
      "source": [
        "# Data Preprocessing\n",
        "\n",
        "- Missing value imputation\n",
        "- Rare category\n",
        "- Feature Transformation and Scaling"
      ]
    },
    {
      "cell_type": "markdown",
      "metadata": {
        "id": "gMyqCIiwCoj8",
        "colab_type": "text"
      },
      "source": [
        "## Split Train and Validate Set\n",
        " Split ratio $=$ train ($80$) $:$ validate ($20$)"
      ]
    },
    {
      "cell_type": "code",
      "metadata": {
        "id": "TxwiuZDiE5Vd",
        "colab_type": "code",
        "colab": {}
      },
      "source": [
        "X = train_data.copy()"
      ],
      "execution_count": null,
      "outputs": []
    },
    {
      "cell_type": "code",
      "metadata": {
        "id": "BW9Pqen0_bf0",
        "colab_type": "code",
        "colab": {}
      },
      "source": [
        "train_index, validate_index = train_test_split(X.is_promoted, test_size=0.2, stratify=X.is_promoted, random_state=1)\n",
        "train_index, validate_index = train_index.index, validate_index.index"
      ],
      "execution_count": null,
      "outputs": []
    },
    {
      "cell_type": "code",
      "metadata": {
        "id": "MBhPZPvTDxfU",
        "colab_type": "code",
        "colab": {}
      },
      "source": [
        "del train_data"
      ],
      "execution_count": null,
      "outputs": []
    },
    {
      "cell_type": "markdown",
      "metadata": {
        "id": "fOCQ_aFDFpxt",
        "colab_type": "text"
      },
      "source": [
        "## Missing value Imputation"
      ]
    },
    {
      "cell_type": "markdown",
      "metadata": {
        "id": "77VOUvWfFuo8",
        "colab_type": "text"
      },
      "source": [
        "### `education`"
      ]
    },
    {
      "cell_type": "code",
      "metadata": {
        "id": "vXkEO_F6GQP3",
        "colab_type": "code",
        "colab": {}
      },
      "source": [
        "education_imputer = SimpleImputer(strategy='constant', fill_value='missing')"
      ],
      "execution_count": null,
      "outputs": []
    },
    {
      "cell_type": "code",
      "metadata": {
        "id": "cT3OJRKSFA5F",
        "colab_type": "code",
        "colab": {
          "base_uri": "https://localhost:8080/",
          "height": 50
        },
        "outputId": "43f0bc91-d6e0-4f82-8a7d-2dc04266a583"
      },
      "source": [
        "# fit using train data only\n",
        "education_imputer.fit(np.array(X.education[train_index]).reshape(-1,1))"
      ],
      "execution_count": null,
      "outputs": [
        {
          "output_type": "execute_result",
          "data": {
            "text/plain": [
              "SimpleImputer(add_indicator=False, copy=True, fill_value='missing',\n",
              "              missing_values=nan, strategy='constant', verbose=0)"
            ]
          },
          "metadata": {
            "tags": []
          },
          "execution_count": 10
        }
      ]
    },
    {
      "cell_type": "code",
      "metadata": {
        "id": "WLotgS6vS9Uq",
        "colab_type": "code",
        "colab": {}
      },
      "source": [
        "# Transform whole dataset\n",
        "X.education = education_imputer.transform(np.array(X.education).reshape(-1,1))"
      ],
      "execution_count": null,
      "outputs": []
    },
    {
      "cell_type": "markdown",
      "metadata": {
        "id": "baqKpfEmNSHZ",
        "colab_type": "text"
      },
      "source": [
        "### `previous_year_rating` [TODO : Need for functional imputer]"
      ]
    },
    {
      "cell_type": "code",
      "metadata": {
        "id": "0woH4uy9NZKV",
        "colab_type": "code",
        "colab": {}
      },
      "source": [
        "def rating_na_indicator(column):\n",
        "    '''\n",
        "        :column : An iterable. if scalar will be converted to iterable.\n",
        "        It returns an indicator variable; 1 if nan else 0\n",
        "    '''\n",
        "\n",
        "    column = pd.Series(column)\n",
        "\n",
        "    indicator_column = column.apply(lambda x : 1 if np.isnan(x) else 0 )\n",
        "\n",
        "    return indicator_column"
      ],
      "execution_count": null,
      "outputs": []
    },
    {
      "cell_type": "code",
      "metadata": {
        "id": "j-rg_wOhZ7MS",
        "colab_type": "code",
        "colab": {}
      },
      "source": [
        "def rating_corrected(data):\n",
        "    '''\n",
        "        If length of service = 1, then previous years rating cannot exist\n",
        "        This function substitues values as such with np.nan. \n",
        "        Expectation is to treat the value same as missing vale would be treated.\n",
        "\n",
        "        Parameter\n",
        "        --------------------------------\n",
        "        :data : Dataframe of training data with atleast `previous_year_rating`\n",
        "                and `length_of_service`\n",
        "\n",
        "        Returns\n",
        "        ---------------\n",
        "        A column with values substituted to np.nan if length of service =1 \n",
        "        and pevious_year_rating != nan, else same value as already present.\n",
        "    '''\n",
        "    \n",
        "    rating = np.where((data.length_of_service == 1) & (data.previous_year_rating.notna()), np.nan, data.previous_year_rating)\n",
        "\n",
        "    return rating"
      ],
      "execution_count": null,
      "outputs": []
    },
    {
      "cell_type": "code",
      "metadata": {
        "id": "htWkg-q_YqKm",
        "colab_type": "code",
        "colab": {}
      },
      "source": [
        "def preprocess_rating(data):\n",
        "\n",
        "    data['previous_year_rating'] = rating_corrected(data)\n",
        "    rating_na = rating_na_indicator(data['previous_year_rating'])\n",
        "    \n",
        "    return data['previous_year_rating'], rating_na"
      ],
      "execution_count": null,
      "outputs": []
    },
    {
      "cell_type": "code",
      "metadata": {
        "id": "HjnCc7sVxgmT",
        "colab_type": "code",
        "colab": {}
      },
      "source": [
        "rating_imputer = SimpleImputer(strategy='most_frequent')"
      ],
      "execution_count": null,
      "outputs": []
    },
    {
      "cell_type": "code",
      "metadata": {
        "id": "0TtRcpT5zTe5",
        "colab_type": "code",
        "colab": {}
      },
      "source": [
        "X.previous_year_rating, X['previous_rating_na'] = preprocess_rating(X)"
      ],
      "execution_count": null,
      "outputs": []
    },
    {
      "cell_type": "code",
      "metadata": {
        "id": "M6Hf5bSX0hQl",
        "colab_type": "code",
        "colab": {
          "base_uri": "https://localhost:8080/",
          "height": 50
        },
        "outputId": "508d7716-a35f-4cb4-a0db-18577d5d750c"
      },
      "source": [
        "# fit only on training data\n",
        "rating_imputer.fit(np.array(X.previous_year_rating[train_index]).reshape(-1,1))"
      ],
      "execution_count": null,
      "outputs": [
        {
          "output_type": "execute_result",
          "data": {
            "text/plain": [
              "SimpleImputer(add_indicator=False, copy=True, fill_value=None,\n",
              "              missing_values=nan, strategy='most_frequent', verbose=0)"
            ]
          },
          "metadata": {
            "tags": []
          },
          "execution_count": 17
        }
      ]
    },
    {
      "cell_type": "code",
      "metadata": {
        "id": "N1Q5TCIW05Bv",
        "colab_type": "code",
        "colab": {}
      },
      "source": [
        "# transform all data\n",
        "X.previous_year_rating = rating_imputer.transform(np.array(X.previous_year_rating).reshape(-1,1))"
      ],
      "execution_count": null,
      "outputs": []
    },
    {
      "cell_type": "markdown",
      "metadata": {
        "id": "HjMegky53Rrl",
        "colab_type": "text"
      },
      "source": [
        "## Handle high cardinality of `region`"
      ]
    },
    {
      "cell_type": "code",
      "metadata": {
        "id": "EdVp3kMFXmCz",
        "colab_type": "code",
        "colab": {}
      },
      "source": [
        "from sklearn.base import BaseEstimator, TransformerMixin\n",
        "\n",
        "class CardinalityImputer(BaseEstimator, TransformerMixin):\n",
        "\n",
        "    def __init__(self, threshold, replace_term='rare_region'):\n",
        "\n",
        "        self.threshold = threshold\n",
        "        self.replace_term = replace_term\n",
        "\n",
        "        self.rare_category = []\n",
        "\n",
        "    def only_one_col(self, column):\n",
        "\n",
        "        column = np.array(column)\n",
        "        return len(column.shape) == 1\n",
        "\n",
        "\n",
        "    def find_rare_category(self, feature, threshold):\n",
        "    \n",
        "        '''\n",
        "            Finds categories that are smaller than threshold percentage.\n",
        "            This function is similar to fit() of any transformer.\n",
        "\n",
        "            Parameter\n",
        "            --------------------\n",
        "            :feature : should be one column.\n",
        "                    expected to be of training data \n",
        "            :threshold : frequency threshold in percentage\n",
        "\n",
        "\n",
        "        '''\n",
        "        #feature = pd.Series(feature)\n",
        "\n",
        "        rare_category = np.array(feature.value_counts(dropna=False)[\n",
        "                        (feature.value_counts(dropna=False)/feature.shape[0])*100 < threshold\n",
        "                    ].index)\n",
        "        \n",
        "        return rare_category\n",
        "\n",
        "\n",
        "    def fit(self, feature):\n",
        "\n",
        "        if not self.only_one_col(feature):\n",
        "            raise ValueError('''Only One Feature Can be processed.\n",
        "                             More than one Column provided.''')\n",
        "        \n",
        "        feature = pd.Series(feature)\n",
        "\n",
        "        #self.rare_category = find_rare_category(feature[train_index], 1)\n",
        "        self.rare_category = self.find_rare_category(feature, 1)\n",
        "\n",
        "        return self\n",
        "\n",
        "    \n",
        "    def transform(self, feature):\n",
        "\n",
        "        if not self.only_one_col(feature):\n",
        "            raise ValueError('''Only One Feature Can be processed.\n",
        "                             More than one Column provided.''')\n",
        "            \n",
        "        feature = pd.Series(feature)\n",
        "\n",
        "        feature = feature.apply(lambda x: self.replace_term if x in self.rare_category else x)\n",
        "\n",
        "        return feature"
      ],
      "execution_count": null,
      "outputs": []
    },
    {
      "cell_type": "code",
      "metadata": {
        "id": "GDIh_oXGlwJo",
        "colab_type": "code",
        "colab": {}
      },
      "source": [
        "region_cardinality_imputer = CardinalityImputer(1, replace_term='rare_region')"
      ],
      "execution_count": null,
      "outputs": []
    },
    {
      "cell_type": "code",
      "metadata": {
        "id": "G7jFcTmAmJDZ",
        "colab_type": "code",
        "colab": {
          "base_uri": "https://localhost:8080/",
          "height": 34
        },
        "outputId": "5b878fd7-3da9-4658-8b4e-dfa3b6599138"
      },
      "source": [
        "region_cardinality_imputer.fit(X.region[train_index])"
      ],
      "execution_count": null,
      "outputs": [
        {
          "output_type": "execute_result",
          "data": {
            "text/plain": [
              "CardinalityImputer(replace_term='rare_region', threshold=1)"
            ]
          },
          "metadata": {
            "tags": []
          },
          "execution_count": 21
        }
      ]
    },
    {
      "cell_type": "code",
      "metadata": {
        "id": "P8qPM5HEmrb3",
        "colab_type": "code",
        "colab": {}
      },
      "source": [
        "X.region = region_cardinality_imputer.transform(X.region)"
      ],
      "execution_count": null,
      "outputs": []
    },
    {
      "cell_type": "markdown",
      "metadata": {
        "id": "j-PULO4Hezdz",
        "colab_type": "text"
      },
      "source": [
        "## Scale and Transform Numerical data\n",
        "\n",
        "- Use PowerTrasformer with 'yeo-johnson' method. First transforms the data; attempting towards Gaussian and then standardizes."
      ]
    },
    {
      "cell_type": "code",
      "metadata": {
        "id": "aAwPpNwpfHcg",
        "colab_type": "code",
        "colab": {}
      },
      "source": [
        "numerical_features = ['no_of_trainings', 'age', 'length_of_service', 'avg_training_score']"
      ],
      "execution_count": null,
      "outputs": []
    }
  ]
}